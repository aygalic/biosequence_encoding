{
 "cells": [
  {
   "cell_type": "markdown",
   "metadata": {},
   "source": [
    "# Data Analysis\n",
    "\n",
    "In this file, we proceed to develop and test the pipeline that handles our dataset.\n",
    "\n",
    "Thsi specific file is dedicated to the understanding of the \"cancer\" dataset provided by the National Cancer Institute, CDG Data Portal.\n",
    "\n",
    "DATASET was provided by :\n",
    "https://portal.gdc.cancer.gov/\n",
    "\n",
    "filter applied were :\n",
    "\n",
    "- Data Type : Gene Expression Quantification\n",
    "- Experimental Strategy : RNA-seq\n",
    "- Access : Open\n",
    "- Project : TCGA-BRCA\n"
   ]
  },
  {
   "cell_type": "markdown",
   "metadata": {},
   "source": [
    "### All the imports for all the things"
   ]
  },
  {
   "cell_type": "code",
   "execution_count": null,
   "metadata": {},
   "outputs": [],
   "source": [
    "import os\n",
    "import sys\n",
    "import pandas as pd\n",
    "import pickle\n",
    "\n",
    "import matplotlib.pyplot as plt\n",
    "import seaborn as sns\n",
    "import numpy as np\n",
    "import importlib\n",
    "\n",
    "import matplotlib.pyplot as plt\n",
    "#from tensorflow.python.ops.numpy_ops import np_config\n",
    "#np_config.enable_numpy_behavior()\n",
    "\n",
    "# to import libs \n",
    "sys.path.append('../')\n",
    "from rnacode.utils import visualisation\n",
    "from rnacode.data import data_handler \n",
    "\n",
    "\n",
    "pd.options.display.width = 1000\n"
   ]
  },
  {
   "cell_type": "markdown",
   "metadata": {},
   "source": [
    "# just investigating out dataset"
   ]
  },
  {
   "cell_type": "code",
   "execution_count": null,
   "metadata": {},
   "outputs": [],
   "source": [
    "# processed data\n",
    "\n",
    "data, metadata = data_handler.generate_dataset(\n",
    "    dataset_type=\"BRCA\",\n",
    "    LS_threshold= 0.0020,\n",
    "    MAD_threshold = 1, \n",
    "    #MT_removal= True, \n",
    "    expression_threshold= 0.1, keep_only_protein_coding = False, verbose = 1)"
   ]
  },
  {
   "cell_type": "code",
   "execution_count": null,
   "metadata": {},
   "outputs": [],
   "source": [
    "# unprocessed data\n",
    "\n",
    "data, metadata = data_handler.generate_dataset(dataset_type=\"BRCA\", verbose = 1)"
   ]
  },
  {
   "cell_type": "code",
   "execution_count": null,
   "metadata": {},
   "outputs": [],
   "source": [
    "\n",
    "#with open('../workfiles/BRCA_ds.pkl', 'rb') as f:\n",
    "#with open('../workfiles/light_BRCA_ds.pkl', 'rb') as f:\n",
    "#    data, metadata = pickle.load(f)\n",
    "\n",
    "feature_num = len(metadata[\"feature_names\"])\n",
    "print(feature_num)\n",
    "print(len(metadata[\"subtypes\"]))\n",
    "print(len(metadata[\"seq_names\"]))"
   ]
  },
  {
   "cell_type": "code",
   "execution_count": null,
   "metadata": {},
   "outputs": [],
   "source": [
    "pd.Series(metadata[\"subtypes\"]).value_counts()"
   ]
  },
  {
   "cell_type": "code",
   "execution_count": null,
   "metadata": {},
   "outputs": [],
   "source": [
    "sum(pd.Series(metadata[\"subtypes\"]).value_counts()) - len(metadata[\"seq_names\"])"
   ]
  },
  {
   "cell_type": "code",
   "execution_count": null,
   "metadata": {},
   "outputs": [],
   "source": [
    "visualisation.dataset_plot(data)"
   ]
  },
  {
   "cell_type": "code",
   "execution_count": null,
   "metadata": {},
   "outputs": [],
   "source": [
    "# Convert your NumPy array into a Pandas DataFrame\n",
    "df = pd.DataFrame(data)\n",
    "\n",
    "# If you have specific names for your rows and columns, you can assign them as well\n",
    "# df = pd.DataFrame(data, index=row_names, columns=column_names)\n",
    "\n",
    "# Assign labels to the DataFrame\n",
    "df['label'] = metadata[\"subtypes\"]\n",
    "\n",
    "# It might be necessary to sort the DataFrame based on labels to ensure similar items are grouped together.\n",
    "# Skip this step if you prefer the clustering algorithm to handle the grouping entirely.\n",
    "df.sort_values('label', inplace=True)\n"
   ]
  },
  {
   "cell_type": "code",
   "execution_count": null,
   "metadata": {},
   "outputs": [],
   "source": [
    "# Create a color palette that has a distinct color for each label\n",
    "lut = dict(zip(df['label'].unique(), sns.color_palette(\"tab10\", len(df['label'].unique()))))\n",
    "\n",
    "# Create a new column of color mappings based on your labels\n",
    "row_colors = df['label'].map(lut)\n"
   ]
  },
  {
   "cell_type": "code",
   "execution_count": null,
   "metadata": {},
   "outputs": [],
   "source": [
    "# Remove the 'label' column before plotting if it's not part of the similarity measurement\n",
    "df_data_only = df.drop('label', axis=1)\n"
   ]
  },
  {
   "cell_type": "code",
   "execution_count": null,
   "metadata": {},
   "outputs": [],
   "source": [
    "# Create a clustermap and integrate your color-coded labels\n",
    "clustergrid = sns.clustermap(df_data_only, row_colors=row_colors, method=\"ward\", row_cluster=False, figsize = (10,6))\n",
    "\n",
    "clustergrid.cax.set_visible(False)\n",
    "clustergrid.ax_col_dendrogram.set_visible(False)\n",
    "\n",
    "# Create a legend for the color-coded labels\n",
    "for label in lut.keys():\n",
    "    clustergrid.ax_row_dendrogram.bar(0, 0, color=lut[label], label=label, linewidth=0)\n",
    "\n",
    "clustergrid.ax_row_dendrogram.legend(loc=\"upper left\", ncol=1)\n"
   ]
  },
  {
   "cell_type": "code",
   "execution_count": null,
   "metadata": {},
   "outputs": [],
   "source": []
  }
 ],
 "metadata": {
  "kernelspec": {
   "display_name": "Python 3 (ipykernel)",
   "language": "python",
   "name": "python3"
  },
  "language_info": {
   "codemirror_mode": {
    "name": "ipython",
    "version": 3
   },
   "file_extension": ".py",
   "mimetype": "text/x-python",
   "name": "python",
   "nbconvert_exporter": "python",
   "pygments_lexer": "ipython3",
   "version": "undefined.undefined.undefined"
  }
 },
 "nbformat": 4,
 "nbformat_minor": 2
}
