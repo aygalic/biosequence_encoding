{
 "cells": [
  {
   "cell_type": "markdown",
   "metadata": {},
   "source": [
    "# Genetic for genomics\n",
    "\n",
    "In this notebook, we aim at fininding the best set of hyper parametter for our different models.\n",
    "\n",
    "We will start with a single type of model to keep things simple.\n"
   ]
  },
  {
   "cell_type": "code",
   "execution_count": 1,
   "metadata": {},
   "outputs": [],
   "source": [
    "import sys\n",
    "import importlib\n",
    "import pickle\n",
    "import random\n",
    "\n",
    "# data manipulation\n",
    "import pandas as pd\n",
    "import numpy as np\n",
    "import matplotlib.pyplot as plt\n",
    "import seaborn as sns\n",
    "\n",
    "# data analysis\n",
    "from sklearn.model_selection import train_test_split\n",
    "from sklearn.decomposition import PCA\n",
    "\n",
    "# pytorch specific\n",
    "import torch\n",
    "import torch.optim as optim\n",
    "import torch.nn.functional as F\n",
    "from tqdm import tqdm\n",
    "\n",
    "# project specific\n",
    "sys.path.append('../')\n",
    "from src import config\n",
    "from src.utils import visualisation, benchmark, helpers, monitoring, experiment, search\n",
    "from src.models import model\n",
    "\n",
    "\n",
    "from matplotlib.animation import FuncAnimation\n",
    "from IPython.display import HTML\n",
    "\n",
    "pd.options.display.width = 1000\n",
    "DEVICE = torch.device(config[\"DEVICE\"])"
   ]
  },
  {
   "cell_type": "code",
   "execution_count": 2,
   "metadata": {},
   "outputs": [
    {
     "name": "stdout",
     "output_type": "stream",
     "text": [
      "number of config to be evaluated: 226800\n",
      "226800\n"
     ]
    }
   ],
   "source": [
    "# We first set the parametters that we do no want to change\n",
    "\n",
    "data_params = { \n",
    "    \"LS_threshold\" : 0.0023,\n",
    "    \"MAD_threshold\" : 1, \n",
    "    \"MT_removal\" : True, \n",
    "    \"expression_threshold\" : 0.1}\n",
    "# or we can use a pre loaded dataset to save time\n",
    "data_params = '../workfiles/light_BRCA_ds.pkl'\n",
    "\n",
    "model_params = {\n",
    "    \"convolution\": True,\n",
    "    \"transformer\" : False\n",
    "    }\n",
    "\n",
    "\n",
    "\n",
    "# This one is absurdly clumsy but that's the only way i could do it.\n",
    "\n",
    "variational_param_ = {\n",
    "    \"variational\": [ # constraint : embedding_dim <= num_embeddings\n",
    "        ((\"embedding_dim\", 16), (\"num_embeddings\", 64)),\n",
    "        ((\"embedding_dim\", 16), (\"num_embeddings\", 128)),\n",
    "        ((\"embedding_dim\", 16), (\"num_embeddings\", 256)),\n",
    "        ((\"embedding_dim\", 16), (\"num_embeddings\", 512)),\n",
    "        ((\"embedding_dim\", 32), (\"num_embeddings\", 64)),\n",
    "        ((\"embedding_dim\", 32), (\"num_embeddings\", 128)),\n",
    "        ((\"embedding_dim\", 32), (\"num_embeddings\", 256)),\n",
    "        ((\"embedding_dim\", 32), (\"num_embeddings\", 512)),\n",
    "        ((\"embedding_dim\", 64), (\"num_embeddings\", 64)),\n",
    "        ((\"embedding_dim\", 64), (\"num_embeddings\", 128)),\n",
    "        ((\"embedding_dim\", 64), (\"num_embeddings\", 256)),\n",
    "        ((\"embedding_dim\", 64), (\"num_embeddings\", 512)),\n",
    "        ((\"embedding_dim\", 128), (\"num_embeddings\", 128)),\n",
    "        ((\"embedding_dim\", 128), (\"num_embeddings\", 256)),\n",
    "        ((\"embedding_dim\", 128), (\"num_embeddings\", 512))]}\n",
    "\n",
    "\n",
    "\n",
    "\n",
    "dynamic_params = {\n",
    "    \"dropout\"       : [0.1, 0.3, 0.5],\n",
    "    \"n_epoch\"       : [100, 500, 1000, 3000],\n",
    "    \"latent_dim\"    : [16, 32, 64, 128],\n",
    "    \"latent_dim\"    : [16, 32, 64, 128],\n",
    "    \"num_layers\"    : [1,2,3,4,5,6,7],\n",
    "    # ... (any other uncoupled parameters)\n",
    "    # Coupled parameters are passed as tuples within the list\n",
    "    \"conv_params\": [\n",
    "        ((\"padding\", 3), (\"kernel_size\", 7)),\n",
    "        ((\"padding\", 2), (\"kernel_size\", 5)),\n",
    "        ((\"padding\", 1), (\"kernel_size\", 3))\n",
    "    ],\n",
    "    # Note: The key \"conv_params\" is only a placeholder and won't appear in the final configs.*\n",
    "    \"variational\" : [],\n",
    "}\n",
    "\n",
    "\n",
    "\n",
    "\n",
    "for commitment_cost in [0.2, 0.4, 0.6, 0.8, 1]:\n",
    "    for (param1, param2) in variational_param_['variational']:\n",
    "        dynamic_params[\"variational\"].append(((\"variational\", \"VQ-VAE\"),(\"commitment_cost\", commitment_cost),param1, param2))\n",
    "\n",
    "# we want to be as likely to pick a VQ-VAE, VAE or non variational model.\n",
    "dynamic_params['variational'] = dynamic_params['variational'] + [None]*len(dynamic_params['variational']) + [\"VAE\"]*len(dynamic_params['variational'])\n",
    "\n",
    "configurations = helpers.generate_config(model_params, dynamic_params)\n",
    "print(\"number of config to be evaluated:\",len(configurations))\n",
    "\n",
    "all_config = helpers.generate_config(model_params, dynamic_params)\n",
    "print(len(all_config))"
   ]
  },
  {
   "cell_type": "code",
   "execution_count": null,
   "metadata": {},
   "outputs": [],
   "source": [
    "# Initialize GA parameters\n",
    "population_size = 5\n",
    "\n",
    "search_param = {\n",
    "    \"EPOCH\": 1000,                            # wayy too low, would have to be tuned up\n",
    "    \"population_size\" : population_size,    # this is very low for a genetic algo\n",
    "    \"mutation_rate\" : 0.5,                  # Every run is so costly that we have to have an aggressively high value\n",
    "    \"crossover_rate\" : 0.7,                 # usually high\n",
    "    \"generations\" : 5                       # way too low for GA as well\n",
    "    }\n",
    "\n",
    "\n",
    "# Step 1: Create the initial population\n",
    "population = random.sample(all_config, population_size)"
   ]
  },
  {
   "cell_type": "code",
   "execution_count": null,
   "metadata": {},
   "outputs": [],
   "source": [
    "s = search.genetic_search(\n",
    "    search_param=search_param, \n",
    "    data_param=data_params, \n",
    "    model_param=model_params, \n",
    "    initial_population= population,\n",
    "    dynamic_params=dynamic_params)"
   ]
  },
  {
   "cell_type": "code",
   "execution_count": null,
   "metadata": {},
   "outputs": [],
   "source": [
    "alt_data = [\"../workfiles/PPMI_genes.pkl\", \"../workfiles/PPMI_genes_PD_only.pkl\"]\n",
    "s.add_alternative_dataset(alt_data)"
   ]
  },
  {
   "cell_type": "code",
   "execution_count": null,
   "metadata": {},
   "outputs": [],
   "source": [
    "s.run()"
   ]
  },
  {
   "cell_type": "code",
   "execution_count": null,
   "metadata": {},
   "outputs": [],
   "source": [
    "type(\"self.data_param\") == str"
   ]
  },
  {
   "cell_type": "code",
   "execution_count": null,
   "metadata": {},
   "outputs": [],
   "source": [
    "print(s.best_performer)\n",
    "print(s.best_performer_metric)\n",
    "print(s.n_iter)\n",
    "print(s.current_generation)\n"
   ]
  },
  {
   "cell_type": "markdown",
   "metadata": {},
   "source": [
    "{'variational': False, 'convolution': True, 'transformer': False, 'dropout': 0.3, 'latent_dim': 16, 'padding': 2, 'kernel_size': 5}\n",
    "\n",
    "0.26742224886270843\n",
    "\n",
    "70\n",
    "\n",
    "0"
   ]
  },
  {
   "cell_type": "markdown",
   "metadata": {},
   "source": []
  },
  {
   "cell_type": "code",
   "execution_count": null,
   "metadata": {},
   "outputs": [],
   "source": []
  },
  {
   "cell_type": "code",
   "execution_count": null,
   "metadata": {},
   "outputs": [],
   "source": []
  }
 ],
 "metadata": {
  "kernelspec": {
   "display_name": "thesis",
   "language": "python",
   "name": "python3"
  },
  "language_info": {
   "codemirror_mode": {
    "name": "ipython",
    "version": 3
   },
   "file_extension": ".py",
   "mimetype": "text/x-python",
   "name": "python",
   "nbconvert_exporter": "python",
   "pygments_lexer": "ipython3",
   "version": "3.9.16"
  }
 },
 "nbformat": 4,
 "nbformat_minor": 2
}
