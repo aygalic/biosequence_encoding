{
 "cells": [
  {
   "cell_type": "markdown",
   "metadata": {},
   "source": [
    "# Transformer architecture\n",
    "\n",
    "\n",
    "In this notebook, we aim to evaluate the performance of the Transformer architecture."
   ]
  },
  {
   "cell_type": "code",
   "execution_count": 6,
   "metadata": {},
   "outputs": [],
   "source": [
    "import sys\n",
    "import importlib\n",
    "\n",
    "# data manipulation\n",
    "import pandas as pd\n",
    "\n",
    "# pytorch specific\n",
    "import torch\n",
    "\n",
    "# project specific\n",
    "sys.path.append('../')\n",
    "from src import config\n",
    "from src.utils import experiment, helpers\n",
    "\n",
    "from matplotlib.animation import FuncAnimation\n",
    "from IPython.display import HTML\n",
    "\n",
    "pd.options.display.width = 1000\n",
    "DEVICE = torch.device(config[\"DEVICE\"])"
   ]
  },
  {
   "cell_type": "markdown",
   "metadata": {},
   "source": [
    "## Grid\n",
    "\n",
    "Here we define the parametters to search through"
   ]
  },
  {
   "cell_type": "code",
   "execution_count": 8,
   "metadata": {},
   "outputs": [],
   "source": [
    "# We first set the parametters that we do no want to change\n",
    "\n",
    "data_params = { \n",
    "    \"LS_threshold\" : 0.0023,\n",
    "    \"MAD_threshold\" : 1, \n",
    "    \"MT_removal\" : True, \n",
    "    \"expression_threshold\" : 0.1}\n",
    "\n",
    "# or we can use a pre loaded dataset to save time\n",
    "data_params = '../workfiles/light_BRCA_ds.pkl'\n",
    "\n",
    "model_params = {\n",
    "    \"convolution\": False,\n",
    "    \"transformer\" : True\n",
    "    }"
   ]
  },
  {
   "cell_type": "code",
   "execution_count": 9,
   "metadata": {},
   "outputs": [
    {
     "name": "stdout",
     "output_type": "stream",
     "text": [
      "number of config to be evaluated: 2304\n"
     ]
    }
   ],
   "source": [
    "importlib.reload(helpers)\n",
    "dynamic_params = {\n",
    "    \"dropout\" : [0.1, 0.3, 0.5],\n",
    "    \"latent_dim\": [16, 32, 64, 128],\n",
    "    \"attention_size\": [16, 32, 64, 128],\n",
    "    \"num_layers\" : [1,2,4,6],\n",
    "    \"variational\" : [None, \"VAE\", \"VQ-VAE\"],\n",
    "    \"activation_function\" : [\"ReLU\", \"GELU\", \"ELU\", \"LeakyReLU\"]\n",
    "}\n",
    "\n",
    "configurations = helpers.generate_config(model_params, dynamic_params)\n",
    "print(\"number of config to be evaluated:\",len(configurations))"
   ]
  },
  {
   "cell_type": "code",
   "execution_count": null,
   "metadata": {},
   "outputs": [],
   "source": [
    "importlib.reload(experiment)\n",
    "experiments = []\n",
    "\n",
    "for config in configurations:\n",
    "    e = experiment.Experiment(data_param=data_params, model_param=config, n_epoch= 3000)\n",
    "    e.run()\n",
    "\n",
    "    experiment_data = {**config,'score': e.metric}\n",
    "    experiments.append(experiment_data)"
   ]
  },
  {
   "cell_type": "code",
   "execution_count": null,
   "metadata": {},
   "outputs": [],
   "source": [
    "results = pd.DataFrame(experiments)\n",
    "print(results)"
   ]
  },
  {
   "cell_type": "code",
   "execution_count": null,
   "metadata": {},
   "outputs": [],
   "source": [
    "results.to_csv(\"../workfiles/transformers_results.csv\")"
   ]
  },
  {
   "cell_type": "code",
   "execution_count": null,
   "metadata": {},
   "outputs": [],
   "source": [
    "# Find the experiment with the highest score.\n",
    "best_experiment = max(experiments, key=lambda exp: exp['score'])\n",
    "\n",
    "# 'best_experiment' now holds the dictionary with the highest 'score' value.\n",
    "best_config = best_experiment\n",
    "highest_score = best_experiment['score']\n",
    "\n",
    "# You can print or otherwise use 'best_config' and 'highest_score' as needed.\n",
    "print(\"Best configuration:\", best_config)\n",
    "print(\"Highest score:\", highest_score)"
   ]
  },
  {
   "cell_type": "code",
   "execution_count": null,
   "metadata": {},
   "outputs": [],
   "source": []
  }
 ],
 "metadata": {
  "kernelspec": {
   "display_name": "thesis",
   "language": "python",
   "name": "python3"
  },
  "language_info": {
   "codemirror_mode": {
    "name": "ipython",
    "version": 3
   },
   "file_extension": ".py",
   "mimetype": "text/x-python",
   "name": "python",
   "nbconvert_exporter": "python",
   "pygments_lexer": "ipython3",
   "version": "3.9.16"
  }
 },
 "nbformat": 4,
 "nbformat_minor": 2
}
