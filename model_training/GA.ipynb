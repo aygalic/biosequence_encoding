{
 "cells": [
  {
   "cell_type": "markdown",
   "metadata": {},
   "source": [
    "# Genetic for genomics\n",
    "\n",
    "In this notebook, we aim at fininding the best set of hyper parametter for our different models.\n",
    "\n",
    "We will start with a single type of model to keep things simple.\n"
   ]
  },
  {
   "cell_type": "code",
   "execution_count": 1,
   "metadata": {},
   "outputs": [],
   "source": [
    "import sys\n",
    "import importlib\n",
    "import pickle\n",
    "import random\n",
    "\n",
    "# data manipulation\n",
    "import pandas as pd\n",
    "import numpy as np\n",
    "import matplotlib.pyplot as plt\n",
    "import seaborn as sns\n",
    "\n",
    "# data analysis\n",
    "from sklearn.model_selection import train_test_split\n",
    "from sklearn.decomposition import PCA\n",
    "\n",
    "# pytorch specific\n",
    "import torch\n",
    "import torch.optim as optim\n",
    "import torch.nn.functional as F\n",
    "from tqdm import tqdm\n",
    "\n",
    "# project specific\n",
    "sys.path.append('../')\n",
    "from src import config\n",
    "from src.utils import visualisation, benchmark, helpers, monitoring, experiment\n",
    "from src.models import model\n",
    "\n",
    "\n",
    "from matplotlib.animation import FuncAnimation\n",
    "from IPython.display import HTML\n",
    "\n",
    "pd.options.display.width = 1000\n",
    "DEVICE = torch.device(config[\"DEVICE\"])"
   ]
  },
  {
   "cell_type": "code",
   "execution_count": 2,
   "metadata": {},
   "outputs": [
    {
     "name": "stdout",
     "output_type": "stream",
     "text": [
      "36\n"
     ]
    }
   ],
   "source": [
    "# We first set the parametters that we do no want to change\n",
    "\n",
    "data_params = { \n",
    "    \"LS_threshold\" : 0.0023,\n",
    "    \"MAD_threshold\" : 1, \n",
    "    \"MT_removal\" : True, \n",
    "    \"expression_threshold\" : 0.1}\n",
    "\n",
    "# or we can use a pre loaded dataset to save time\n",
    "data_params = '../workfiles/light_BRCA_ds.pkl'\n",
    "\n",
    "model_params = {\n",
    "    \"variational\" : False,\n",
    "    \"convolution\": False,\n",
    "    \"transformer\" : False\n",
    "    }\n",
    "\n",
    "dynamic_params = {\n",
    "    \"dropout\" : [0.1, 0.3, 0.5],\n",
    "    \"latent_dim\": [16, 32, 64, 128],\n",
    "    # ... (any other uncoupled parameters)\n",
    "    # Coupled parameters are passed as tuples within the list\n",
    "    \"conv_params\": [\n",
    "        ((\"padding\", 3), (\"kernel_size\", 7)),\n",
    "        ((\"padding\", 2), (\"kernel_size\", 5)),\n",
    "        ((\"padding\", 1), (\"kernel_size\", 3))\n",
    "    ]\n",
    "    # Note: The key \"conv_params\" is only a placeholder and won't appear in the final configs.\n",
    "}\n",
    "\n",
    "all_config = helpers.generate_config(model_params, dynamic_params)\n",
    "print(len(all_config))"
   ]
  },
  {
   "cell_type": "code",
   "execution_count": null,
   "metadata": {},
   "outputs": [],
   "source": []
  },
  {
   "cell_type": "code",
   "execution_count": 3,
   "metadata": {},
   "outputs": [],
   "source": [
    "# Hyper param\n",
    "EPOCH = 3000\n",
    "\n",
    "\n",
    "# Initialize GA parameters\n",
    "population_size = 100\n",
    "mutation_rate = 0.01  # This is usually a small chance\n",
    "mutation_rate = 0.5  # Every run is so costly that we have to tune it up\n",
    "crossover_rate = 0.7  # This is usually high -> fine by me.\n",
    "generations = 5\n",
    "\n",
    "\n",
    "# Step 1: Create the initial population\n",
    "population = random.sample(all_config, 8)"
   ]
  },
  {
   "cell_type": "code",
   "execution_count": 4,
   "metadata": {},
   "outputs": [],
   "source": [
    "def calculate_fitness(individual):\n",
    "    e = experiment.Experiment(data_param=data_params, model_param=individual, n_epoch = EPOCH)\n",
    "    e.run()    \n",
    "    return e.metric\n",
    "\n",
    "def select_parents(population):\n",
    "    # Assuming your population is a list of individuals and \n",
    "    # you can retrieve the fitness of each individual, possibly through a function call.\n",
    "\n",
    "    # First, sort the population by fitness. I'm assuming higher fitness is better.\n",
    "    # If your fitness measure works the other way, you can reverse the sort.\n",
    "    sorted_population = sorted(population, key=calculate_fitness, reverse=True)\n",
    "\n",
    "    # Now, select the two fittest individuals. If you prefer, you could also add some\n",
    "    # stochastic behavior in this selection (e.g., sometimes choosing individuals\n",
    "    # other than the absolute fittest).\n",
    "    parent1 = sorted_population[0]\n",
    "    parent2 = sorted_population[1] if sorted_population[1] != parent1 else sorted_population[2]\n",
    "\n",
    "    return parent1, parent2\n",
    "\n",
    "# most basic crossover possible\n",
    "def crossover(parent1, parent2):\n",
    "    child = {}\n",
    "    for key in parent1.keys():\n",
    "        child[key] = parent1[key] if random.choice([True, False]) else parent2[key]\n",
    "    \n",
    "    return child\n",
    "\n",
    "def mutate(individual, dynamic_params = dynamic_params):\n",
    "    # Choose a parameter to mutate\n",
    "    mutation_param = random.choice(list(dynamic_params.keys()))\n",
    "\n",
    "    # Choose a new value for the parameter from the provided list, making sure it's not the same as the current value\n",
    "    current_value = individual[mutation_param]\n",
    "    available_choices = [val for val in dynamic_params[mutation_param] if val != current_value]\n",
    "\n",
    "    # If there are no available choices (e.g., list had only one element), no mutation happens\n",
    "    if not available_choices:\n",
    "        return individual\n",
    "\n",
    "    new_value = random.choice(available_choices)\n",
    "\n",
    "    # Apply the mutation\n",
    "    mutated_individual = individual.copy()\n",
    "    mutated_individual[mutation_param] = new_value\n",
    "\n",
    "    return mutated_individual"
   ]
  },
  {
   "cell_type": "code",
   "execution_count": 6,
   "metadata": {},
   "outputs": [
    {
     "name": "stdout",
     "output_type": "stream",
     "text": [
      "Running generation 1...\n",
      "{'variational': False, 'convolution': False, 'transformer': False, 'dropout': 0.5, 'latent_dim': 16, 'padding': 3, 'kernel_size': 7}\n",
      "input shape : 4819\n",
      "{'PPMI_DATA_PATH': '/Users/aygalic/Thesis/data/quant/', 'PPMI_METADATA_PATH': '/Users/aygalic/Thesis/METADATA_200123.xlsx', 'CANCER_DATA_PATH': '/Users/aygalic/Thesis/data/cancer', 'BRCA_DATA_PATH': 'C:/thesis/data/BRCA/', 'BRCA_METADATA_PATH': 'C:/thesis/data/BRCA/metadata.cart.2023-09-22.json', 'BRCA_SUBTYPES_PATH': 'C:/thesis/data/BRCA/patient_subtype.tsv', 'DEVICE': 'cuda'}\n"
     ]
    },
    {
     "ename": "KeyError",
     "evalue": "'transformer'",
     "output_type": "error",
     "traceback": [
      "\u001b[1;31m---------------------------------------------------------------------------\u001b[0m",
      "\u001b[1;31mKeyError\u001b[0m                                  Traceback (most recent call last)",
      "Cell \u001b[1;32mIn[6], line 7\u001b[0m\n\u001b[0;32m      4\u001b[0m \u001b[39mprint\u001b[39m(\u001b[39mf\u001b[39m\u001b[39m\"\u001b[39m\u001b[39mRunning generation \u001b[39m\u001b[39m{\u001b[39;00mgeneration\u001b[39m \u001b[39m\u001b[39m+\u001b[39m\u001b[39m \u001b[39m\u001b[39m1\u001b[39m\u001b[39m}\u001b[39;00m\u001b[39m...\u001b[39m\u001b[39m\"\u001b[39m)\n\u001b[0;32m      6\u001b[0m \u001b[39m# Calculate fitness for each individual\u001b[39;00m\n\u001b[1;32m----> 7\u001b[0m population_fitness \u001b[39m=\u001b[39m [(individual, calculate_fitness(individual)) \u001b[39mfor\u001b[39;00m individual \u001b[39min\u001b[39;00m population]\n\u001b[0;32m      9\u001b[0m new_population \u001b[39m=\u001b[39m []\n\u001b[0;32m     10\u001b[0m \u001b[39mwhile\u001b[39;00m \u001b[39mlen\u001b[39m(new_population) \u001b[39m<\u001b[39m population_size:\n\u001b[0;32m     11\u001b[0m     \u001b[39m# Selection\u001b[39;00m\n",
      "Cell \u001b[1;32mIn[6], line 7\u001b[0m, in \u001b[0;36m<listcomp>\u001b[1;34m(.0)\u001b[0m\n\u001b[0;32m      4\u001b[0m \u001b[39mprint\u001b[39m(\u001b[39mf\u001b[39m\u001b[39m\"\u001b[39m\u001b[39mRunning generation \u001b[39m\u001b[39m{\u001b[39;00mgeneration\u001b[39m \u001b[39m\u001b[39m+\u001b[39m\u001b[39m \u001b[39m\u001b[39m1\u001b[39m\u001b[39m}\u001b[39;00m\u001b[39m...\u001b[39m\u001b[39m\"\u001b[39m)\n\u001b[0;32m      6\u001b[0m \u001b[39m# Calculate fitness for each individual\u001b[39;00m\n\u001b[1;32m----> 7\u001b[0m population_fitness \u001b[39m=\u001b[39m [(individual, calculate_fitness(individual)) \u001b[39mfor\u001b[39;00m individual \u001b[39min\u001b[39;00m population]\n\u001b[0;32m      9\u001b[0m new_population \u001b[39m=\u001b[39m []\n\u001b[0;32m     10\u001b[0m \u001b[39mwhile\u001b[39;00m \u001b[39mlen\u001b[39m(new_population) \u001b[39m<\u001b[39m population_size:\n\u001b[0;32m     11\u001b[0m     \u001b[39m# Selection\u001b[39;00m\n",
      "Cell \u001b[1;32mIn[4], line 3\u001b[0m, in \u001b[0;36mcalculate_fitness\u001b[1;34m(individual)\u001b[0m\n\u001b[0;32m      1\u001b[0m \u001b[39mdef\u001b[39;00m \u001b[39mcalculate_fitness\u001b[39m(individual):\n\u001b[0;32m      2\u001b[0m     \u001b[39mprint\u001b[39m(individual)\n\u001b[1;32m----> 3\u001b[0m     e \u001b[39m=\u001b[39m experiment\u001b[39m.\u001b[39;49mExperiment(data_param\u001b[39m=\u001b[39;49mdata_params, model_param\u001b[39m=\u001b[39;49mconfig, n_epoch \u001b[39m=\u001b[39;49m EPOCH)\n\u001b[0;32m      4\u001b[0m     e\u001b[39m.\u001b[39mrun()    \n\u001b[0;32m      5\u001b[0m     \u001b[39mreturn\u001b[39;00m e\u001b[39m.\u001b[39mmetric\n",
      "File \u001b[1;32mc:\\thesis\\genome_analysis_parkinson\\genome_analysis_parkinson\\model_training\\..\\src\\utils\\experiment.py:99\u001b[0m, in \u001b[0;36mExperiment.__init__\u001b[1;34m(self, data_param, model_param, verbose, n_epoch)\u001b[0m\n\u001b[0;32m     97\u001b[0m     \u001b[39mself\u001b[39m\u001b[39m.\u001b[39mload_dataset(data_param)\n\u001b[0;32m     98\u001b[0m \u001b[39m# here we need to capture the shape of the input before building the model.\u001b[39;00m\n\u001b[1;32m---> 99\u001b[0m \u001b[39mself\u001b[39;49m\u001b[39m.\u001b[39;49mbuild_model(shape \u001b[39m=\u001b[39;49m \u001b[39mself\u001b[39;49m\u001b[39m.\u001b[39;49minput_shape, model_param \u001b[39m=\u001b[39;49m \u001b[39mself\u001b[39;49m\u001b[39m.\u001b[39;49mmodel_param)\n\u001b[0;32m    100\u001b[0m \u001b[39mself\u001b[39m\u001b[39m.\u001b[39moptimizer \u001b[39m=\u001b[39m optim\u001b[39m.\u001b[39mAdam(\u001b[39mself\u001b[39m\u001b[39m.\u001b[39mmodel\u001b[39m.\u001b[39mparameters(), lr\u001b[39m=\u001b[39m\u001b[39m1e-4\u001b[39m, amsgrad\u001b[39m=\u001b[39m\u001b[39mFalse\u001b[39;00m)\n\u001b[0;32m    101\u001b[0m \u001b[39mself\u001b[39m\u001b[39m.\u001b[39mdata_set, \u001b[39mself\u001b[39m\u001b[39m.\u001b[39mdataloader \u001b[39m=\u001b[39m helpers\u001b[39m.\u001b[39mformat_dataset(\u001b[39mself\u001b[39m\u001b[39m.\u001b[39mdata, \u001b[39mself\u001b[39m\u001b[39m.\u001b[39mmetadata)\n",
      "File \u001b[1;32mc:\\thesis\\genome_analysis_parkinson\\genome_analysis_parkinson\\model_training\\..\\src\\utils\\experiment.py:63\u001b[0m, in \u001b[0;36mExperiment.build_model\u001b[1;34m(self, shape, model_param)\u001b[0m\n\u001b[0;32m     61\u001b[0m \u001b[39mdef\u001b[39;00m \u001b[39mbuild_model\u001b[39m(\u001b[39mself\u001b[39m, shape, model_param):\n\u001b[0;32m     62\u001b[0m     \u001b[39mprint\u001b[39m(model_param)\n\u001b[1;32m---> 63\u001b[0m     \u001b[39mif\u001b[39;00m model_param[\u001b[39m\"\u001b[39;49m\u001b[39mtransformer\u001b[39;49m\u001b[39m\"\u001b[39;49m] \u001b[39m==\u001b[39m \u001b[39mTrue\u001b[39;00m:\n\u001b[0;32m     64\u001b[0m         num_heads_candidate \u001b[39m=\u001b[39m helpers\u001b[39m.\u001b[39mfind_primes(\u001b[39mself\u001b[39m\u001b[39m.\u001b[39minput_shape)\n\u001b[0;32m     65\u001b[0m         \u001b[39mif\u001b[39;00m(\u001b[39mlen\u001b[39m(num_heads_candidate) \u001b[39m>\u001b[39m \u001b[39m1\u001b[39m):\n",
      "\u001b[1;31mKeyError\u001b[0m: 'transformer'"
     ]
    }
   ],
   "source": [
    "importlib.reload(experiment)\n",
    "# Main GA loop\n",
    "for generation in range(generations):\n",
    "    print(f\"Running generation {generation + 1}...\")\n",
    "\n",
    "    # Calculate fitness for each individual\n",
    "    population_fitness = [(individual, calculate_fitness(individual)) for individual in population]\n",
    "\n",
    "    new_population = []\n",
    "    while len(new_population) < population_size:\n",
    "        # Selection\n",
    "        parent1, parent2 = select_parents(population)\n",
    "\n",
    "        # Crossover\n",
    "        if random.random() < crossover_rate:\n",
    "            child = crossover(parent1, parent2)\n",
    "        else:\n",
    "            # If no crossover, just select one of the parents at random for next generation\n",
    "            child = random.choice([parent1, parent2])\n",
    "\n",
    "        # Mutation\n",
    "        if random.random() < mutation_rate:\n",
    "            child = mutate(child)\n",
    "\n",
    "        new_population.append(child)\n",
    "\n",
    "    # Here, you may want to mix the new population with the old one and keep the best for next generation\n",
    "    # Or completely replace it, depending on your strategy.\n",
    "\n",
    "    population = new_population\n",
    "\n",
    "# Your population now consists of the evolved solutions.\n",
    "# You can select the best one as your final choice.\n",
    "best_solution = max(population, key=calculate_fitness)\n"
   ]
  },
  {
   "cell_type": "code",
   "execution_count": null,
   "metadata": {},
   "outputs": [],
   "source": []
  }
 ],
 "metadata": {
  "kernelspec": {
   "display_name": "thesis",
   "language": "python",
   "name": "python3"
  },
  "language_info": {
   "codemirror_mode": {
    "name": "ipython",
    "version": 3
   },
   "file_extension": ".py",
   "mimetype": "text/x-python",
   "name": "python",
   "nbconvert_exporter": "python",
   "pygments_lexer": "ipython3",
   "version": "3.9.17"
  }
 },
 "nbformat": 4,
 "nbformat_minor": 2
}
