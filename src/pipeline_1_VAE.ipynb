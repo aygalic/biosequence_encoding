{
 "cells": [
  {
   "cell_type": "code",
   "execution_count": 16,
   "metadata": {},
   "outputs": [],
   "source": [
    "import pandas as pd\n",
    "import matplotlib.pyplot as plt\n",
    "\n",
    "import numpy as np\n",
    "import tensorflow as tf\n",
    "from tensorflow import keras\n",
    "from tensorflow.keras import callbacks\n",
    "import datetime\n",
    "\n",
    "import importlib\n"
   ]
  },
  {
   "cell_type": "code",
   "execution_count": 2,
   "metadata": {},
   "outputs": [],
   "source": [
    "# project specific\n",
    "from utils import data_handler\n",
    "from utils.models import vae\n",
    "\n"
   ]
  },
  {
   "cell_type": "code",
   "execution_count": 3,
   "metadata": {},
   "outputs": [],
   "source": [
    "%load_ext tensorboard\n",
    "!rm -rf ../workfiles/logs/"
   ]
  },
  {
   "cell_type": "markdown",
   "metadata": {},
   "source": [
    "### Generate dataset"
   ]
  },
  {
   "cell_type": "code",
   "execution_count": 22,
   "metadata": {},
   "outputs": [
    {
     "data": {
      "text/plain": [
       "<module 'utils.data_handler' from '/Users/aygalic/Library/CloudStorage/OneDrive-Personal/polimi/Thesis/genome_analysis_parkinson/src/utils/data_handler.py'>"
      ]
     },
     "execution_count": 22,
     "metadata": {},
     "output_type": "execute_result"
    }
   ],
   "source": [
    "importlib.reload(data_handler) # to allow modification of the script without restarting the whole session\n"
   ]
  },
  {
   "cell_type": "code",
   "execution_count": 23,
   "metadata": {},
   "outputs": [
    {
     "name": "stdout",
     "output_type": "stream",
     "text": [
      "retained phase 2\n",
      "loading samples...\n",
      "loaded 5740 samples\n",
      "number of genes selected :  95309\n"
     ]
    }
   ],
   "source": [
    "#x_train, filenames = data_handler.generate_dataset(feature_selection_threshold = 5, retain_phases=\"2\", return_filenames= True)\n",
    "x_train, filenames = data_handler.generate_dataset(retain_phases=\"2\", return_filenames= True)"
   ]
  },
  {
   "cell_type": "markdown",
   "metadata": {},
   "source": [
    "### Generate model"
   ]
  },
  {
   "cell_type": "code",
   "execution_count": 24,
   "metadata": {},
   "outputs": [],
   "source": [
    "importlib.reload(vae) # to allow modification of the script without restarting the whole session\n",
    "#vae_model = vae.generate_model(shape = 6161)\n",
    "vae_model = vae.generate_model(shape = 95309)\n",
    "\n"
   ]
  },
  {
   "cell_type": "code",
   "execution_count": 25,
   "metadata": {},
   "outputs": [],
   "source": [
    "vae_model.compile(optimizer=keras.optimizers.Adam(), loss = keras.losses.mean_squared_error)"
   ]
  },
  {
   "cell_type": "markdown",
   "metadata": {},
   "source": [
    "#### Train Model"
   ]
  },
  {
   "cell_type": "code",
   "execution_count": 26,
   "metadata": {},
   "outputs": [],
   "source": [
    "checkpoint_filepath = '../workfiles/simple_autoencoer_model/checkpoint'\n",
    "model_checkpoint_callback = callbacks.ModelCheckpoint(\n",
    "    filepath=checkpoint_filepath,\n",
    "    save_weights_only=True,\n",
    "    monitor='loss',\n",
    "    mode='min',\n",
    "    save_best_only=True)\n",
    "\n",
    "\n",
    "reduce_lr = callbacks.ReduceLROnPlateau(monitor='loss', factor=0.5,\n",
    "                              patience=15, min_lr=0.00001)\n",
    "\n",
    "early_stopping_callback = callbacks.EarlyStopping(monitor='loss', patience=30)\n",
    "\n",
    "\n",
    "log_dir = \"../workfiles/logs/fit/\" + datetime.datetime.now().strftime(\"%Y%m%d-%H%M%S\")\n",
    "tensorboard_callback = callbacks.TensorBoard(log_dir=log_dir, histogram_freq=1)\n",
    "\n",
    "cb = [model_checkpoint_callback, reduce_lr, early_stopping_callback, tensorboard_callback]"
   ]
  },
  {
   "cell_type": "code",
   "execution_count": 27,
   "metadata": {},
   "outputs": [
    {
     "name": "stdout",
     "output_type": "stream",
     "text": [
      "Epoch 1/1000\n",
      "45/45 [==============================] - 58s 1s/step - loss: 97815.4042 - reconstruction_loss: 90677.5000 - kl_loss: 121.0743 - lr: 0.0010\n",
      "Epoch 2/1000\n",
      "45/45 [==============================] - 61s 1s/step - loss: 72047.1705 - reconstruction_loss: 56115.6719 - kl_loss: 208.5036 - lr: 0.0010\n",
      "Epoch 3/1000\n",
      "45/45 [==============================] - 65s 1s/step - loss: 28555.8531 - reconstruction_loss: 25388.7832 - kl_loss: 190.9523 - lr: 0.0010\n",
      "Epoch 4/1000\n",
      "45/45 [==============================] - 61s 1s/step - loss: 20084.0429 - reconstruction_loss: 19999.1992 - kl_loss: 166.9674 - lr: 0.0010\n",
      "Epoch 5/1000\n",
      "45/45 [==============================] - 59s 1s/step - loss: 19395.5962 - reconstruction_loss: 19521.1035 - kl_loss: 157.9835 - lr: 0.0010\n",
      "Epoch 6/1000\n",
      "45/45 [==============================] - 53s 1s/step - loss: 19233.1099 - reconstruction_loss: 19390.3945 - kl_loss: 154.5212 - lr: 0.0010\n",
      "Epoch 7/1000\n",
      "45/45 [==============================] - 54s 1s/step - loss: 19173.7233 - reconstruction_loss: 19343.0312 - kl_loss: 153.4109 - lr: 0.0010\n",
      "Epoch 8/1000\n",
      "45/45 [==============================] - 55s 1s/step - loss: 19143.4661 - reconstruction_loss: 19318.0273 - kl_loss: 152.0383 - lr: 0.0010\n",
      "Epoch 9/1000\n",
      "45/45 [==============================] - 55s 1s/step - loss: 19131.4725 - reconstruction_loss: 19304.1523 - kl_loss: 148.9197 - lr: 0.0010\n",
      "Epoch 10/1000\n",
      "45/45 [==============================] - 58s 1s/step - loss: 19120.0937 - reconstruction_loss: 19300.6660 - kl_loss: 145.6240 - lr: 0.0010\n",
      "Epoch 11/1000\n",
      "45/45 [==============================] - 55s 1s/step - loss: 19115.9182 - reconstruction_loss: 19298.4863 - kl_loss: 141.9635 - lr: 0.0010\n",
      "Epoch 12/1000\n",
      "45/45 [==============================] - 52s 1s/step - loss: 19093.1282 - reconstruction_loss: 19272.1133 - kl_loss: 139.0086 - lr: 0.0010\n",
      "Epoch 13/1000\n",
      "45/45 [==============================] - 57s 1s/step - loss: 19069.8496 - reconstruction_loss: 19256.0391 - kl_loss: 135.5561 - lr: 0.0010\n",
      "Epoch 14/1000\n",
      "45/45 [==============================] - 48s 1s/step - loss: 19033.9303 - reconstruction_loss: 19226.1602 - kl_loss: 134.4195 - lr: 0.0010\n",
      "Epoch 15/1000\n",
      "45/45 [==============================] - 49s 1s/step - loss: 19013.1532 - reconstruction_loss: 19185.0527 - kl_loss: 136.7250 - lr: 0.0010\n",
      "Epoch 16/1000\n",
      "45/45 [==============================] - 49s 1s/step - loss: 18826.6250 - reconstruction_loss: 18802.1758 - kl_loss: 159.9989 - lr: 0.0010\n",
      "Epoch 17/1000\n",
      "45/45 [==============================] - 56s 1s/step - loss: 15508.2316 - reconstruction_loss: 12924.1836 - kl_loss: 400.8563 - lr: 0.0010\n",
      "Epoch 18/1000\n",
      "45/45 [==============================] - 52s 1s/step - loss: 7580.9309 - reconstruction_loss: 7122.0264 - kl_loss: 324.4540 - lr: 0.0010\n",
      "Epoch 19/1000\n",
      "45/45 [==============================] - 49s 1s/step - loss: 6253.7514 - reconstruction_loss: 6209.9263 - kl_loss: 214.1118 - lr: 0.0010\n",
      "Epoch 20/1000\n",
      "45/45 [==============================] - 50s 1s/step - loss: 5877.5951 - reconstruction_loss: 5887.4229 - kl_loss: 181.6034 - lr: 0.0010\n",
      "Epoch 21/1000\n",
      "45/45 [==============================] - 48s 1s/step - loss: 5726.4618 - reconstruction_loss: 5755.6748 - kl_loss: 167.2891 - lr: 0.0010\n",
      "Epoch 22/1000\n",
      "45/45 [==============================] - 52s 1s/step - loss: 5694.9820 - reconstruction_loss: 5736.7363 - kl_loss: 159.7223 - lr: 0.0010\n",
      "Epoch 23/1000\n",
      "45/45 [==============================] - 65s 1s/step - loss: 5695.3434 - reconstruction_loss: 5736.9512 - kl_loss: 155.1189 - lr: 0.0010\n",
      "Epoch 24/1000\n",
      "45/45 [==============================] - 56s 1s/step - loss: 5731.3295 - reconstruction_loss: 5778.2588 - kl_loss: 152.9315 - lr: 0.0010\n",
      "Epoch 25/1000\n",
      "45/45 [==============================] - 56s 1s/step - loss: 5733.9820 - reconstruction_loss: 5771.1426 - kl_loss: 150.7418 - lr: 0.0010\n",
      "Epoch 26/1000\n",
      "45/45 [==============================] - 62s 1s/step - loss: 5726.0931 - reconstruction_loss: 5779.5278 - kl_loss: 149.0520 - lr: 0.0010\n",
      "Epoch 27/1000\n",
      "45/45 [==============================] - 57s 1s/step - loss: 5693.9602 - reconstruction_loss: 5728.0767 - kl_loss: 147.9631 - lr: 0.0010\n",
      "Epoch 28/1000\n",
      "45/45 [==============================] - 59s 1s/step - loss: 5651.5715 - reconstruction_loss: 5694.3916 - kl_loss: 145.9751 - lr: 0.0010\n",
      "Epoch 29/1000\n",
      "45/45 [==============================] - 61s 1s/step - loss: 5634.9073 - reconstruction_loss: 5666.5581 - kl_loss: 144.0126 - lr: 0.0010\n",
      "Epoch 30/1000\n",
      "45/45 [==============================] - 70s 2s/step - loss: 5610.1708 - reconstruction_loss: 5658.5469 - kl_loss: 142.3251 - lr: 0.0010\n",
      "Epoch 31/1000\n",
      "45/45 [==============================] - 62s 1s/step - loss: 5625.9598 - reconstruction_loss: 5668.2407 - kl_loss: 141.0316 - lr: 0.0010\n",
      "Epoch 32/1000\n",
      "45/45 [==============================] - 58s 1s/step - loss: 5636.5647 - reconstruction_loss: 5682.6855 - kl_loss: 140.7978 - lr: 0.0010\n",
      "Epoch 33/1000\n",
      "45/45 [==============================] - 66s 1s/step - loss: 5649.6728 - reconstruction_loss: 5691.3267 - kl_loss: 140.1533 - lr: 0.0010\n",
      "Epoch 34/1000\n",
      "45/45 [==============================] - 65s 1s/step - loss: 5616.1159 - reconstruction_loss: 5659.4136 - kl_loss: 139.1873 - lr: 0.0010\n",
      "Epoch 35/1000\n",
      "45/45 [==============================] - 77s 2s/step - loss: 5600.3170 - reconstruction_loss: 5642.6069 - kl_loss: 138.4976 - lr: 0.0010\n",
      "Epoch 36/1000\n",
      "45/45 [==============================] - 68s 2s/step - loss: 5591.9773 - reconstruction_loss: 5646.0693 - kl_loss: 137.6489 - lr: 0.0010\n",
      "Epoch 37/1000\n",
      "45/45 [==============================] - 51s 1s/step - loss: 5634.8194 - reconstruction_loss: 5689.2539 - kl_loss: 135.4760 - lr: 0.0010\n",
      "Epoch 38/1000\n",
      "45/45 [==============================] - 50s 1s/step - loss: 5667.9560 - reconstruction_loss: 5719.8442 - kl_loss: 134.9581 - lr: 0.0010\n",
      "Epoch 39/1000\n",
      "45/45 [==============================] - 50s 1s/step - loss: 5610.2776 - reconstruction_loss: 5657.3608 - kl_loss: 134.4091 - lr: 0.0010\n",
      "Epoch 40/1000\n",
      "45/45 [==============================] - 52s 1s/step - loss: 5570.7453 - reconstruction_loss: 5623.4043 - kl_loss: 134.5514 - lr: 0.0010\n",
      "Epoch 41/1000\n",
      "45/45 [==============================] - 50s 1s/step - loss: 5593.2590 - reconstruction_loss: 5658.7739 - kl_loss: 133.3731 - lr: 0.0010\n",
      "Epoch 42/1000\n",
      "45/45 [==============================] - 59s 1s/step - loss: 5634.3522 - reconstruction_loss: 5695.5317 - kl_loss: 132.7514 - lr: 0.0010\n",
      "Epoch 43/1000\n",
      "45/45 [==============================] - 59s 1s/step - loss: 5679.0734 - reconstruction_loss: 5738.6177 - kl_loss: 131.5597 - lr: 0.0010\n",
      "Epoch 44/1000\n",
      "45/45 [==============================] - 53s 1s/step - loss: 5696.8364 - reconstruction_loss: 5743.4673 - kl_loss: 131.2757 - lr: 0.0010\n",
      "Epoch 45/1000\n",
      "45/45 [==============================] - 64s 1s/step - loss: 5624.2953 - reconstruction_loss: 5675.3457 - kl_loss: 130.7532 - lr: 0.0010\n",
      "Epoch 46/1000\n",
      "45/45 [==============================] - 59s 1s/step - loss: 5639.7958 - reconstruction_loss: 5690.2305 - kl_loss: 130.5892 - lr: 0.0010\n",
      "Epoch 47/1000\n",
      "45/45 [==============================] - 49s 1s/step - loss: 5638.6118 - reconstruction_loss: 5688.3418 - kl_loss: 130.0353 - lr: 0.0010\n",
      "Epoch 48/1000\n",
      "45/45 [==============================] - 52s 1s/step - loss: 5604.0976 - reconstruction_loss: 5648.9619 - kl_loss: 130.0621 - lr: 0.0010\n",
      "Epoch 49/1000\n",
      "45/45 [==============================] - 48s 1s/step - loss: 5609.3267 - reconstruction_loss: 5662.0596 - kl_loss: 129.4506 - lr: 0.0010\n",
      "Epoch 50/1000\n",
      "45/45 [==============================] - 48s 1s/step - loss: 5598.7474 - reconstruction_loss: 5654.8276 - kl_loss: 129.5193 - lr: 0.0010\n",
      "Epoch 51/1000\n",
      "45/45 [==============================] - 51s 1s/step - loss: 5607.3756 - reconstruction_loss: 5660.3438 - kl_loss: 128.2529 - lr: 0.0010\n",
      "Epoch 52/1000\n",
      "45/45 [==============================] - 59s 1s/step - loss: 5579.1728 - reconstruction_loss: 5635.2480 - kl_loss: 128.0395 - lr: 0.0010\n",
      "Epoch 53/1000\n",
      "45/45 [==============================] - 53s 1s/step - loss: 5572.1981 - reconstruction_loss: 5629.8262 - kl_loss: 127.5463 - lr: 0.0010\n",
      "Epoch 54/1000\n",
      "45/45 [==============================] - 50s 1s/step - loss: 5585.6594 - reconstruction_loss: 5655.7783 - kl_loss: 127.1217 - lr: 0.0010\n",
      "Epoch 55/1000\n",
      "45/45 [==============================] - 47s 1s/step - loss: 5616.7385 - reconstruction_loss: 5661.7710 - kl_loss: 126.7358 - lr: 0.0010\n",
      "Epoch 56/1000\n",
      "45/45 [==============================] - 49s 1s/step - loss: 5605.3877 - reconstruction_loss: 5669.5366 - kl_loss: 126.4059 - lr: 0.0010\n",
      "Epoch 57/1000\n",
      "45/45 [==============================] - 63s 1s/step - loss: 5587.3639 - reconstruction_loss: 5644.9385 - kl_loss: 125.7663 - lr: 0.0010\n",
      "Epoch 58/1000\n",
      "45/45 [==============================] - 62s 1s/step - loss: 5608.1615 - reconstruction_loss: 5670.2520 - kl_loss: 124.5109 - lr: 0.0010\n",
      "Epoch 59/1000\n",
      "45/45 [==============================] - 56s 1s/step - loss: 5592.8112 - reconstruction_loss: 5659.0117 - kl_loss: 123.7516 - lr: 0.0010\n",
      "Epoch 60/1000\n",
      "45/45 [==============================] - 54s 1s/step - loss: 5641.7354 - reconstruction_loss: 5750.1279 - kl_loss: 122.3773 - lr: 0.0010\n",
      "Epoch 61/1000\n",
      "45/45 [==============================] - 48s 1s/step - loss: 5643.9076 - reconstruction_loss: 5712.5776 - kl_loss: 121.6434 - lr: 0.0010\n",
      "Epoch 62/1000\n",
      "45/45 [==============================] - 52s 1s/step - loss: 5670.4932 - reconstruction_loss: 5724.7627 - kl_loss: 123.8005 - lr: 0.0010\n",
      "Epoch 63/1000\n",
      "45/45 [==============================] - 62s 1s/step - loss: 5648.6745 - reconstruction_loss: 5718.0566 - kl_loss: 123.0578 - lr: 0.0010\n",
      "Epoch 64/1000\n",
      "44/45 [============================>.] - ETA: 0s - loss: 5638.4333 - reconstruction_loss: 5690.8877 - kl_loss: 122.0803"
     ]
    },
    {
     "ename": "KeyboardInterrupt",
     "evalue": "",
     "output_type": "error",
     "traceback": [
      "\u001b[0;31m---------------------------------------------------------------------------\u001b[0m",
      "\u001b[0;31mKeyboardInterrupt\u001b[0m                         Traceback (most recent call last)",
      "\u001b[1;32m/Users/aygalic/Library/CloudStorage/OneDrive-Personal/polimi/Thesis/genome_analysis_parkinson/src/pipeline_1_VAE.ipynb Cell 12\u001b[0m in \u001b[0;36m<cell line: 1>\u001b[0;34m()\u001b[0m\n\u001b[0;32m----> <a href='vscode-notebook-cell:/Users/aygalic/Library/CloudStorage/OneDrive-Personal/polimi/Thesis/genome_analysis_parkinson/src/pipeline_1_VAE.ipynb#X11sZmlsZQ%3D%3D?line=0'>1</a>\u001b[0m hist \u001b[39m=\u001b[39m vae_model\u001b[39m.\u001b[39;49mfit(x_train, epochs \u001b[39m=\u001b[39;49m \u001b[39m1000\u001b[39;49m, callbacks \u001b[39m=\u001b[39;49m cb)\n",
      "File \u001b[0;32m/opt/homebrew/anaconda3/envs/thesis/lib/python3.9/site-packages/keras/utils/traceback_utils.py:65\u001b[0m, in \u001b[0;36mfilter_traceback.<locals>.error_handler\u001b[0;34m(*args, **kwargs)\u001b[0m\n\u001b[1;32m     63\u001b[0m filtered_tb \u001b[39m=\u001b[39m \u001b[39mNone\u001b[39;00m\n\u001b[1;32m     64\u001b[0m \u001b[39mtry\u001b[39;00m:\n\u001b[0;32m---> 65\u001b[0m     \u001b[39mreturn\u001b[39;00m fn(\u001b[39m*\u001b[39;49margs, \u001b[39m*\u001b[39;49m\u001b[39m*\u001b[39;49mkwargs)\n\u001b[1;32m     66\u001b[0m \u001b[39mexcept\u001b[39;00m \u001b[39mException\u001b[39;00m \u001b[39mas\u001b[39;00m e:\n\u001b[1;32m     67\u001b[0m     filtered_tb \u001b[39m=\u001b[39m _process_traceback_frames(e\u001b[39m.\u001b[39m__traceback__)\n",
      "File \u001b[0;32m/opt/homebrew/anaconda3/envs/thesis/lib/python3.9/site-packages/keras/engine/training.py:1650\u001b[0m, in \u001b[0;36mModel.fit\u001b[0;34m(self, x, y, batch_size, epochs, verbose, callbacks, validation_split, validation_data, shuffle, class_weight, sample_weight, initial_epoch, steps_per_epoch, validation_steps, validation_batch_size, validation_freq, max_queue_size, workers, use_multiprocessing)\u001b[0m\n\u001b[1;32m   1642\u001b[0m \u001b[39mwith\u001b[39;00m tf\u001b[39m.\u001b[39mprofiler\u001b[39m.\u001b[39mexperimental\u001b[39m.\u001b[39mTrace(\n\u001b[1;32m   1643\u001b[0m     \u001b[39m\"\u001b[39m\u001b[39mtrain\u001b[39m\u001b[39m\"\u001b[39m,\n\u001b[1;32m   1644\u001b[0m     epoch_num\u001b[39m=\u001b[39mepoch,\n\u001b[0;32m   (...)\u001b[0m\n\u001b[1;32m   1647\u001b[0m     _r\u001b[39m=\u001b[39m\u001b[39m1\u001b[39m,\n\u001b[1;32m   1648\u001b[0m ):\n\u001b[1;32m   1649\u001b[0m     callbacks\u001b[39m.\u001b[39mon_train_batch_begin(step)\n\u001b[0;32m-> 1650\u001b[0m     tmp_logs \u001b[39m=\u001b[39m \u001b[39mself\u001b[39;49m\u001b[39m.\u001b[39;49mtrain_function(iterator)\n\u001b[1;32m   1651\u001b[0m     \u001b[39mif\u001b[39;00m data_handler\u001b[39m.\u001b[39mshould_sync:\n\u001b[1;32m   1652\u001b[0m         context\u001b[39m.\u001b[39masync_wait()\n",
      "File \u001b[0;32m/opt/homebrew/anaconda3/envs/thesis/lib/python3.9/site-packages/tensorflow/python/util/traceback_utils.py:150\u001b[0m, in \u001b[0;36mfilter_traceback.<locals>.error_handler\u001b[0;34m(*args, **kwargs)\u001b[0m\n\u001b[1;32m    148\u001b[0m filtered_tb \u001b[39m=\u001b[39m \u001b[39mNone\u001b[39;00m\n\u001b[1;32m    149\u001b[0m \u001b[39mtry\u001b[39;00m:\n\u001b[0;32m--> 150\u001b[0m   \u001b[39mreturn\u001b[39;00m fn(\u001b[39m*\u001b[39;49margs, \u001b[39m*\u001b[39;49m\u001b[39m*\u001b[39;49mkwargs)\n\u001b[1;32m    151\u001b[0m \u001b[39mexcept\u001b[39;00m \u001b[39mException\u001b[39;00m \u001b[39mas\u001b[39;00m e:\n\u001b[1;32m    152\u001b[0m   filtered_tb \u001b[39m=\u001b[39m _process_traceback_frames(e\u001b[39m.\u001b[39m__traceback__)\n",
      "File \u001b[0;32m/opt/homebrew/anaconda3/envs/thesis/lib/python3.9/site-packages/tensorflow/python/eager/polymorphic_function/polymorphic_function.py:880\u001b[0m, in \u001b[0;36mFunction.__call__\u001b[0;34m(self, *args, **kwds)\u001b[0m\n\u001b[1;32m    877\u001b[0m compiler \u001b[39m=\u001b[39m \u001b[39m\"\u001b[39m\u001b[39mxla\u001b[39m\u001b[39m\"\u001b[39m \u001b[39mif\u001b[39;00m \u001b[39mself\u001b[39m\u001b[39m.\u001b[39m_jit_compile \u001b[39melse\u001b[39;00m \u001b[39m\"\u001b[39m\u001b[39mnonXla\u001b[39m\u001b[39m\"\u001b[39m\n\u001b[1;32m    879\u001b[0m \u001b[39mwith\u001b[39;00m OptionalXlaContext(\u001b[39mself\u001b[39m\u001b[39m.\u001b[39m_jit_compile):\n\u001b[0;32m--> 880\u001b[0m   result \u001b[39m=\u001b[39m \u001b[39mself\u001b[39;49m\u001b[39m.\u001b[39;49m_call(\u001b[39m*\u001b[39;49margs, \u001b[39m*\u001b[39;49m\u001b[39m*\u001b[39;49mkwds)\n\u001b[1;32m    882\u001b[0m new_tracing_count \u001b[39m=\u001b[39m \u001b[39mself\u001b[39m\u001b[39m.\u001b[39mexperimental_get_tracing_count()\n\u001b[1;32m    883\u001b[0m without_tracing \u001b[39m=\u001b[39m (tracing_count \u001b[39m==\u001b[39m new_tracing_count)\n",
      "File \u001b[0;32m/opt/homebrew/anaconda3/envs/thesis/lib/python3.9/site-packages/tensorflow/python/eager/polymorphic_function/polymorphic_function.py:912\u001b[0m, in \u001b[0;36mFunction._call\u001b[0;34m(self, *args, **kwds)\u001b[0m\n\u001b[1;32m    909\u001b[0m   \u001b[39mself\u001b[39m\u001b[39m.\u001b[39m_lock\u001b[39m.\u001b[39mrelease()\n\u001b[1;32m    910\u001b[0m   \u001b[39m# In this case we have created variables on the first call, so we run the\u001b[39;00m\n\u001b[1;32m    911\u001b[0m   \u001b[39m# defunned version which is guaranteed to never create variables.\u001b[39;00m\n\u001b[0;32m--> 912\u001b[0m   \u001b[39mreturn\u001b[39;00m \u001b[39mself\u001b[39;49m\u001b[39m.\u001b[39;49m_no_variable_creation_fn(\u001b[39m*\u001b[39;49margs, \u001b[39m*\u001b[39;49m\u001b[39m*\u001b[39;49mkwds)  \u001b[39m# pylint: disable=not-callable\u001b[39;00m\n\u001b[1;32m    913\u001b[0m \u001b[39melif\u001b[39;00m \u001b[39mself\u001b[39m\u001b[39m.\u001b[39m_variable_creation_fn \u001b[39mis\u001b[39;00m \u001b[39mnot\u001b[39;00m \u001b[39mNone\u001b[39;00m:\n\u001b[1;32m    914\u001b[0m   \u001b[39m# Release the lock early so that multiple threads can perform the call\u001b[39;00m\n\u001b[1;32m    915\u001b[0m   \u001b[39m# in parallel.\u001b[39;00m\n\u001b[1;32m    916\u001b[0m   \u001b[39mself\u001b[39m\u001b[39m.\u001b[39m_lock\u001b[39m.\u001b[39mrelease()\n",
      "File \u001b[0;32m/opt/homebrew/anaconda3/envs/thesis/lib/python3.9/site-packages/tensorflow/python/eager/polymorphic_function/tracing_compiler.py:134\u001b[0m, in \u001b[0;36mTracingCompiler.__call__\u001b[0;34m(self, *args, **kwargs)\u001b[0m\n\u001b[1;32m    131\u001b[0m \u001b[39mwith\u001b[39;00m \u001b[39mself\u001b[39m\u001b[39m.\u001b[39m_lock:\n\u001b[1;32m    132\u001b[0m   (concrete_function,\n\u001b[1;32m    133\u001b[0m    filtered_flat_args) \u001b[39m=\u001b[39m \u001b[39mself\u001b[39m\u001b[39m.\u001b[39m_maybe_define_function(args, kwargs)\n\u001b[0;32m--> 134\u001b[0m \u001b[39mreturn\u001b[39;00m concrete_function\u001b[39m.\u001b[39;49m_call_flat(\n\u001b[1;32m    135\u001b[0m     filtered_flat_args, captured_inputs\u001b[39m=\u001b[39;49mconcrete_function\u001b[39m.\u001b[39;49mcaptured_inputs)\n",
      "File \u001b[0;32m/opt/homebrew/anaconda3/envs/thesis/lib/python3.9/site-packages/tensorflow/python/eager/polymorphic_function/monomorphic_function.py:1745\u001b[0m, in \u001b[0;36mConcreteFunction._call_flat\u001b[0;34m(self, args, captured_inputs, cancellation_manager)\u001b[0m\n\u001b[1;32m   1741\u001b[0m possible_gradient_type \u001b[39m=\u001b[39m gradients_util\u001b[39m.\u001b[39mPossibleTapeGradientTypes(args)\n\u001b[1;32m   1742\u001b[0m \u001b[39mif\u001b[39;00m (possible_gradient_type \u001b[39m==\u001b[39m gradients_util\u001b[39m.\u001b[39mPOSSIBLE_GRADIENT_TYPES_NONE\n\u001b[1;32m   1743\u001b[0m     \u001b[39mand\u001b[39;00m executing_eagerly):\n\u001b[1;32m   1744\u001b[0m   \u001b[39m# No tape is watching; skip to running the function.\u001b[39;00m\n\u001b[0;32m-> 1745\u001b[0m   \u001b[39mreturn\u001b[39;00m \u001b[39mself\u001b[39m\u001b[39m.\u001b[39m_build_call_outputs(\u001b[39mself\u001b[39;49m\u001b[39m.\u001b[39;49m_inference_function\u001b[39m.\u001b[39;49mcall(\n\u001b[1;32m   1746\u001b[0m       ctx, args, cancellation_manager\u001b[39m=\u001b[39;49mcancellation_manager))\n\u001b[1;32m   1747\u001b[0m forward_backward \u001b[39m=\u001b[39m \u001b[39mself\u001b[39m\u001b[39m.\u001b[39m_select_forward_and_backward_functions(\n\u001b[1;32m   1748\u001b[0m     args,\n\u001b[1;32m   1749\u001b[0m     possible_gradient_type,\n\u001b[1;32m   1750\u001b[0m     executing_eagerly)\n\u001b[1;32m   1751\u001b[0m forward_function, args_with_tangents \u001b[39m=\u001b[39m forward_backward\u001b[39m.\u001b[39mforward()\n",
      "File \u001b[0;32m/opt/homebrew/anaconda3/envs/thesis/lib/python3.9/site-packages/tensorflow/python/eager/polymorphic_function/monomorphic_function.py:378\u001b[0m, in \u001b[0;36m_EagerDefinedFunction.call\u001b[0;34m(self, ctx, args, cancellation_manager)\u001b[0m\n\u001b[1;32m    376\u001b[0m \u001b[39mwith\u001b[39;00m _InterpolateFunctionError(\u001b[39mself\u001b[39m):\n\u001b[1;32m    377\u001b[0m   \u001b[39mif\u001b[39;00m cancellation_manager \u001b[39mis\u001b[39;00m \u001b[39mNone\u001b[39;00m:\n\u001b[0;32m--> 378\u001b[0m     outputs \u001b[39m=\u001b[39m execute\u001b[39m.\u001b[39;49mexecute(\n\u001b[1;32m    379\u001b[0m         \u001b[39mstr\u001b[39;49m(\u001b[39mself\u001b[39;49m\u001b[39m.\u001b[39;49msignature\u001b[39m.\u001b[39;49mname),\n\u001b[1;32m    380\u001b[0m         num_outputs\u001b[39m=\u001b[39;49m\u001b[39mself\u001b[39;49m\u001b[39m.\u001b[39;49m_num_outputs,\n\u001b[1;32m    381\u001b[0m         inputs\u001b[39m=\u001b[39;49margs,\n\u001b[1;32m    382\u001b[0m         attrs\u001b[39m=\u001b[39;49mattrs,\n\u001b[1;32m    383\u001b[0m         ctx\u001b[39m=\u001b[39;49mctx)\n\u001b[1;32m    384\u001b[0m   \u001b[39melse\u001b[39;00m:\n\u001b[1;32m    385\u001b[0m     outputs \u001b[39m=\u001b[39m execute\u001b[39m.\u001b[39mexecute_with_cancellation(\n\u001b[1;32m    386\u001b[0m         \u001b[39mstr\u001b[39m(\u001b[39mself\u001b[39m\u001b[39m.\u001b[39msignature\u001b[39m.\u001b[39mname),\n\u001b[1;32m    387\u001b[0m         num_outputs\u001b[39m=\u001b[39m\u001b[39mself\u001b[39m\u001b[39m.\u001b[39m_num_outputs,\n\u001b[0;32m   (...)\u001b[0m\n\u001b[1;32m    390\u001b[0m         ctx\u001b[39m=\u001b[39mctx,\n\u001b[1;32m    391\u001b[0m         cancellation_manager\u001b[39m=\u001b[39mcancellation_manager)\n",
      "File \u001b[0;32m/opt/homebrew/anaconda3/envs/thesis/lib/python3.9/site-packages/tensorflow/python/eager/execute.py:52\u001b[0m, in \u001b[0;36mquick_execute\u001b[0;34m(op_name, num_outputs, inputs, attrs, ctx, name)\u001b[0m\n\u001b[1;32m     50\u001b[0m \u001b[39mtry\u001b[39;00m:\n\u001b[1;32m     51\u001b[0m   ctx\u001b[39m.\u001b[39mensure_initialized()\n\u001b[0;32m---> 52\u001b[0m   tensors \u001b[39m=\u001b[39m pywrap_tfe\u001b[39m.\u001b[39;49mTFE_Py_Execute(ctx\u001b[39m.\u001b[39;49m_handle, device_name, op_name,\n\u001b[1;32m     53\u001b[0m                                       inputs, attrs, num_outputs)\n\u001b[1;32m     54\u001b[0m \u001b[39mexcept\u001b[39;00m core\u001b[39m.\u001b[39m_NotOkStatusException \u001b[39mas\u001b[39;00m e:\n\u001b[1;32m     55\u001b[0m   \u001b[39mif\u001b[39;00m name \u001b[39mis\u001b[39;00m \u001b[39mnot\u001b[39;00m \u001b[39mNone\u001b[39;00m:\n",
      "\u001b[0;31mKeyboardInterrupt\u001b[0m: "
     ]
    }
   ],
   "source": [
    "hist = vae_model.fit(x_train, epochs = 1000, callbacks = cb) "
   ]
  },
  {
   "attachments": {},
   "cell_type": "markdown",
   "metadata": {},
   "source": [
    "#### Monitoring training results"
   ]
  },
  {
   "cell_type": "code",
   "execution_count": 9,
   "metadata": {},
   "outputs": [
    {
     "data": {
      "text/plain": [
       "[<matplotlib.lines.Line2D at 0x15c284fd0>]"
      ]
     },
     "execution_count": 9,
     "metadata": {},
     "output_type": "execute_result"
    },
    {
     "data": {
      "image/png": "[encoded data removed]",
      "text/plain": [
       "<Figure size 432x288 with 1 Axes>"
      ]
     },
     "metadata": {
      "needs_background": "light"
     },
     "output_type": "display_data"
    }
   ],
   "source": [
    "plt.plot(hist.history['reconstruction_loss'])\n",
    "plt.plot(hist.history['kl_loss'])\n",
    "\n",
    "\n",
    "\n",
    "\n",
    "\n"
   ]
  },
  {
   "cell_type": "code",
   "execution_count": 10,
   "metadata": {},
   "outputs": [
    {
     "name": "stdout",
     "output_type": "stream",
     "text": [
      "tf.Tensor(\n",
      "[[ 1.3942463   1.1073246  -0.249473   ...  1.748414    0.15733434\n",
      "   0.60406435]\n",
      " [-0.5078156   0.9037626  -0.59862113 ... -1.1996845   1.2300029\n",
      "  -0.2789621 ]\n",
      " [ 0.28314146 -0.02273649 -0.02136477 ...  0.2940514   0.5711944\n",
      "  -0.976071  ]\n",
      " ...\n",
      " [ 1.0344222   1.0243697  -0.40951657 ... -0.04330308  0.24950421\n",
      "  -0.7805939 ]\n",
      " [ 0.6370654   0.23689212 -0.6140728  ... -0.11022843  0.5270987\n",
      "  -0.9653273 ]\n",
      " [ 0.47127447  0.6225651  -1.3892184  ... -1.4395599   0.79236335\n",
      "  -0.6192606 ]], shape=(64, 64), dtype=float32)\n",
      "tf.Tensor(\n",
      "[[ 44.9941    43.11703   40.301586 ... 123.19259  140.64296  159.26526 ]\n",
      " [107.914665  55.244682  38.438107 ... 116.13901  169.28983  145.42177 ]\n",
      " [ 54.380016  53.34945   63.04656  ... 200.74075  200.06442  270.92914 ]\n",
      " ...\n",
      " [ 49.876236  51.23759   56.109165 ... 101.779366  60.312603 166.69931 ]\n",
      " [ 71.67892   57.613453  55.46396  ... 152.70917  157.26352  210.87466 ]\n",
      " [116.03614   63.59974   41.024914 ... 109.903885 173.00389  137.03603 ]], shape=(64, 6161), dtype=float32)\n"
     ]
    }
   ],
   "source": [
    "e = iter(x_train).next()\n",
    "_,__,z = vae_model.encoder(e)\n",
    "print(z)\n",
    "d = vae_model.decoder(z)\n",
    "print(d)"
   ]
  },
  {
   "cell_type": "code",
   "execution_count": 11,
   "metadata": {},
   "outputs": [
    {
     "name": "stdout",
     "output_type": "stream",
     "text": [
      "WARNING:tensorflow:Compiled the loaded model, but the compiled metrics have yet to be built. `model.compile_metrics` will be empty until you train or evaluate the model.\n",
      "INFO:tensorflow:Assets written to: ../workfiles/vae_model_complex_phase_2/assets\n"
     ]
    }
   ],
   "source": [
    "#autoencoder.save('../workfiles/placeholder_model')\n",
    "vae_model.encoder.save('../workfiles/vae_model_complex_phase_2')\n",
    "\n",
    "\n"
   ]
  },
  {
   "cell_type": "markdown",
   "metadata": {},
   "source": [
    "### encoding the whole dataset"
   ]
  },
  {
   "cell_type": "code",
   "execution_count": 12,
   "metadata": {},
   "outputs": [
    {
     "name": "stdout",
     "output_type": "stream",
     "text": [
      "45/45 [==============================] - 0s 4ms/step\n"
     ]
    }
   ],
   "source": [
    "_, __, compressed_dataframe = vae_model.encoder.predict(x_train)\n"
   ]
  },
  {
   "cell_type": "code",
   "execution_count": 13,
   "metadata": {},
   "outputs": [],
   "source": [
    "df = pd.DataFrame(compressed_dataframe)\n",
    "df[\"name\"] = filenames"
   ]
  },
  {
   "cell_type": "code",
   "execution_count": 14,
   "metadata": {},
   "outputs": [],
   "source": [
    "df.to_csv(\"../workfiles/compressed_data_vae_phase_2.csv\")\n"
   ]
  },
  {
   "cell_type": "code",
   "execution_count": null,
   "metadata": {},
   "outputs": [],
   "source": []
  }
 ],
 "metadata": {
  "kernelspec": {
   "display_name": "Python 3 (ipykernel)",
   "language": "python",
   "name": "python3"
  },
  "language_info": {
   "codemirror_mode": {
    "name": "ipython",
    "version": 3
   },
   "file_extension": ".py",
   "mimetype": "text/x-python",
   "name": "python",
   "nbconvert_exporter": "python",
   "pygments_lexer": "ipython3",
   "version": "3.9.16"
  }
 },
 "nbformat": 4,
 "nbformat_minor": 2
}
