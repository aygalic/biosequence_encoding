{
 "cells": [
  {
   "cell_type": "code",
   "execution_count": 1,
   "metadata": {},
   "outputs": [],
   "source": [
    "import os\n",
    "import pandas as pd\n",
    "\n",
    "import pathlib\n",
    "import matplotlib.pyplot as plt\n",
    "import numpy as np\n",
    "import tensorflow as tf"
   ]
  },
  {
   "cell_type": "code",
   "execution_count": 2,
   "metadata": {},
   "outputs": [],
   "source": [
    "absolute_path = '/Users/aygalic/OneDrive/polimi/Thesis/data/quant/'"
   ]
  },
  {
   "attachments": {},
   "cell_type": "markdown",
   "metadata": {},
   "source": [
    "# Exploring the Dataset"
   ]
  },
  {
   "cell_type": "code",
   "execution_count": 3,
   "metadata": {},
   "outputs": [],
   "source": [
    "# getting entries ready\n",
    "# each couple of entries correspond to one patient\n",
    "\n",
    "entries = os.listdir(absolute_path)\n",
    "entries_transcripts = [e for e in entries if \"transcripts\" in e ]"
   ]
  },
  {
   "attachments": {},
   "cell_type": "markdown",
   "metadata": {},
   "source": [
    "# Building a TensorFlow input pipeline"
   ]
  },
  {
   "attachments": {},
   "cell_type": "markdown",
   "metadata": {},
   "source": [
    "## We want to build a tf.Dataset from this"
   ]
  },
  {
   "cell_type": "code",
   "execution_count": 4,
   "metadata": {},
   "outputs": [],
   "source": [
    "# from filename to tensor\n",
    "\n",
    "def load_patient_data(filename):\n",
    "  #specify read types for our data\n",
    "  read_types = [ float()]\n",
    "  # get a first sample to base everything of\n",
    "  text = pathlib.Path(absolute_path + filename).read_text()\n",
    "  lines = text.split('\\n')[1:-1]\n",
    "  features = tf.io.decode_csv(lines, record_defaults=read_types, field_delim = \"\\t\", select_cols=[3]) \n",
    "  data = tf.convert_to_tensor(features)\n",
    "\n",
    "  return data"
   ]
  },
  {
   "attachments": {},
   "cell_type": "markdown",
   "metadata": {},
   "source": [
    "# Feed it into a net"
   ]
  },
  {
   "cell_type": "code",
   "execution_count": 5,
   "metadata": {},
   "outputs": [],
   "source": [
    "from tensorflow.keras import layers, losses\n",
    "from tensorflow.keras.models import Model\n",
    "from tensorflow import keras"
   ]
  },
  {
   "attachments": {},
   "cell_type": "markdown",
   "metadata": {},
   "source": [
    "# now we build a tf.dataset with all patients inside\n"
   ]
  },
  {
   "cell_type": "code",
   "execution_count": 6,
   "metadata": {},
   "outputs": [],
   "source": [
    "# load the dataset into a list using the first pipeline\n",
    "\n",
    "train_ds = [load_patient_data(e) for e in entries_transcripts]\n",
    "train_ds = [e for e in train_ds if e.shape == (1, 95309)] "
   ]
  },
  {
   "cell_type": "code",
   "execution_count": 9,
   "metadata": {},
   "outputs": [],
   "source": [
    "# turn it into a tf.data.Dataset object\n",
    "x_train = tf.data.Dataset.from_tensor_slices(train_ds)\n",
    "\n"
   ]
  },
  {
   "cell_type": "code",
   "execution_count": 10,
   "metadata": {},
   "outputs": [],
   "source": [
    "# input are the same as the target\n",
    "zipped_boi = tf.data.Dataset.zip((x_train, x_train))\n"
   ]
  },
  {
   "cell_type": "code",
   "execution_count": 62,
   "metadata": {},
   "outputs": [
    {
     "data": {
      "text/plain": [
       "<tensorflow.python.data.ops.iterator_ops.OwnedIterator at 0x29a47a2b0>"
      ]
     },
     "execution_count": 62,
     "metadata": {},
     "output_type": "execute_result"
    }
   ],
   "source": [
    "#(iter(zipped_boi))"
   ]
  },
  {
   "attachments": {},
   "cell_type": "markdown",
   "metadata": {},
   "source": [
    "# train it"
   ]
  },
  {
   "cell_type": "code",
   "execution_count": 49,
   "metadata": {},
   "outputs": [],
   "source": [
    "latent_dim = 64\n",
    "t_shape = (1, 95309)\n",
    "\n",
    "\n",
    "class Autoencoder(Model):\n",
    "  #layer = tf.keras.layers.experimental.preprocessing.Normalization()\n",
    "  #layer.adapt(X_train)\n",
    "  def __init__(self, latent_dim, normalization = True):\n",
    "    super(Autoencoder, self).__init__()\n",
    "    self.latent_dim = latent_dim   \n",
    "    self.encoder = tf.keras.Sequential([\n",
    "      layers.Flatten(),\n",
    "      layers.BatchNormalization(),\n",
    "      layers.Dense(latent_dim, activation='softplus'),\n",
    "      layers.Dense(latent_dim, activation='softplus'),\n",
    "    ])\n",
    "    self.decoder = tf.keras.Sequential([\n",
    "      layers.Dense(latent_dim, activation='softplus'),\n",
    "      layers.Dense(1 * 95309, activation='softplus'), # softplus so we can have value in the expected range\n",
    "      layers.Reshape(t_shape)\n",
    "    ])\n",
    "  def call(self, x):\n",
    "    encoded = self.encoder(x)\n",
    "    decoded = self.decoder(encoded)\n",
    "    return decoded\n",
    "\n",
    "autoencoder = Autoencoder(latent_dim)\n",
    "\n",
    "\n",
    "autoencoder.compile(optimizer='adam', loss=tf.keras.losses.MeanSquaredError())"
   ]
  },
  {
   "cell_type": "code",
   "execution_count": 12,
   "metadata": {},
   "outputs": [],
   "source": [
    "class Sampling(layers.Layer):\n",
    "    \"\"\"Uses (z_mean, z_log_var) to sample z, the vector encoding a digit.\"\"\"\n",
    "\n",
    "    def call(self, inputs):\n",
    "        z_mean, z_log_var = inputs\n",
    "        batch = tf.shape(z_mean)[0]\n",
    "        dim = tf.shape(z_mean)[1]\n",
    "        epsilon = tf.random.normal(shape=(batch, dim))\n",
    "        return z_mean + tf.exp(0.5 * z_log_var) * epsilon"
   ]
  },
  {
   "cell_type": "code",
   "execution_count": 13,
   "metadata": {},
   "outputs": [
    {
     "name": "stdout",
     "output_type": "stream",
     "text": [
      "Model: \"encoder\"\n",
      "__________________________________________________________________________________________________\n",
      " Layer (type)                   Output Shape         Param #     Connected to                     \n",
      "==================================================================================================\n",
      " input_1 (InputLayer)           [(None, 1, 95309)]   0           []                               \n",
      "                                                                                                  \n",
      " flatten (Flatten)              (None, 95309)        0           ['input_1[0][0]']                \n",
      "                                                                                                  \n",
      " dense (Dense)                  (None, 16)           1524960     ['flatten[0][0]']                \n",
      "                                                                                                  \n",
      " z_mean (Dense)                 (None, 64)           1088        ['dense[0][0]']                  \n",
      "                                                                                                  \n",
      " z_log_var (Dense)              (None, 64)           1088        ['dense[0][0]']                  \n",
      "                                                                                                  \n",
      " sampling (Sampling)            (None, 64)           0           ['z_mean[0][0]',                 \n",
      "                                                                  'z_log_var[0][0]']              \n",
      "                                                                                                  \n",
      "==================================================================================================\n",
      "Total params: 1,527,136\n",
      "Trainable params: 1,527,136\n",
      "Non-trainable params: 0\n",
      "__________________________________________________________________________________________________\n"
     ]
    }
   ],
   "source": [
    "latent_dim = 64\n",
    "\n",
    "t_shape = (1, 95309)\n",
    "\n",
    "#encoder_inputs = keras.Input(shape=t_shape)\n",
    "#x = layers.Flatten()(encoder_inputs)\n",
    "\n",
    "encoder_inputs = layers.Flatten()\n",
    "\n",
    "\n",
    "\n",
    "x = layers.Dense(16, activation=\"relu\")(x)\n",
    "z_mean = layers.Dense(latent_dim, name=\"z_mean\")(x)\n",
    "z_log_var = layers.Dense(latent_dim, name=\"z_log_var\")(x)\n",
    "z = Sampling()([z_mean, z_log_var])\n",
    "encoder = keras.Model(encoder_inputs, [z_mean, z_log_var, z], name=\"encoder\")\n",
    "encoder.summary()"
   ]
  },
  {
   "cell_type": "code",
   "execution_count": 16,
   "metadata": {},
   "outputs": [
    {
     "name": "stdout",
     "output_type": "stream",
     "text": [
      "Model: \"decoder\"\n",
      "_________________________________________________________________\n",
      " Layer (type)                Output Shape              Param #   \n",
      "=================================================================\n",
      " input_4 (InputLayer)        [(None, 64)]              0         \n",
      "                                                                 \n",
      " dense_5 (Dense)             (None, 3136)              203840    \n",
      "                                                                 \n",
      " dense_6 (Dense)             (None, 95309)             298984333 \n",
      "                                                                 \n",
      "=================================================================\n",
      "Total params: 299,188,173\n",
      "Trainable params: 299,188,173\n",
      "Non-trainable params: 0\n",
      "_________________________________________________________________\n"
     ]
    }
   ],
   "source": [
    "latent_inputs = keras.Input(shape=(latent_dim,))\n",
    "x = layers.Dense(7 * 7 * 64, activation=\"relu\")(latent_inputs)\n",
    "decoder_outputs = layers.Dense(1 * 95309, activation='softplus')(x), # softplus so we can have value in the expected range\n",
    "#decoder_outputs = layers.Reshape(t_shape)(x)\n",
    "decoder = keras.Model(latent_inputs, decoder_outputs, name=\"decoder\")\n",
    "decoder.summary()"
   ]
  },
  {
   "cell_type": "code",
   "execution_count": 17,
   "metadata": {},
   "outputs": [],
   "source": [
    "class VAE(keras.Model):\n",
    "    def __init__(self, encoder, decoder, **kwargs):\n",
    "        super().__init__(**kwargs)\n",
    "        self.encoder = encoder\n",
    "        self.decoder = decoder\n",
    "        self.total_loss_tracker = keras.metrics.Mean(name=\"total_loss\")\n",
    "        self.reconstruction_loss_tracker = keras.metrics.Mean(\n",
    "            name=\"reconstruction_loss\"\n",
    "        )\n",
    "        self.kl_loss_tracker = keras.metrics.Mean(name=\"kl_loss\")\n",
    "\n",
    "    @property\n",
    "    def metrics(self):\n",
    "        return [\n",
    "            self.total_loss_tracker,\n",
    "            self.reconstruction_loss_tracker,\n",
    "            self.kl_loss_tracker,\n",
    "        ]\n",
    "\n",
    "    def train_step(self, data):\n",
    "        with tf.GradientTape() as tape:\n",
    "            z_mean, z_log_var, z = self.encoder(data)\n",
    "            reconstruction = self.decoder(z)\n",
    "            reconstruction_loss = tf.reduce_mean(\n",
    "                tf.reduce_sum(\n",
    "                    keras.losses.binary_crossentropy(data, reconstruction), axis=(1, 2)\n",
    "                )\n",
    "            )\n",
    "            kl_loss = -0.5 * (1 + z_log_var - tf.square(z_mean) - tf.exp(z_log_var))\n",
    "            kl_loss = tf.reduce_mean(tf.reduce_sum(kl_loss, axis=1))\n",
    "            total_loss = reconstruction_loss + kl_loss\n",
    "        grads = tape.gradient(total_loss, self.trainable_weights)\n",
    "        self.optimizer.apply_gradients(zip(grads, self.trainable_weights))\n",
    "        self.total_loss_tracker.update_state(total_loss)\n",
    "        self.reconstruction_loss_tracker.update_state(reconstruction_loss)\n",
    "        self.kl_loss_tracker.update_state(kl_loss)\n",
    "        return {\n",
    "            \"loss\": self.total_loss_tracker.result(),\n",
    "            \"reconstruction_loss\": self.reconstruction_loss_tracker.result(),\n",
    "            \"kl_loss\": self.kl_loss_tracker.result(),\n",
    "        }"
   ]
  },
  {
   "cell_type": "code",
   "execution_count": 18,
   "metadata": {},
   "outputs": [],
   "source": [
    "#(x_train, _), (x_test, _) = keras.datasets.mnist.load_data()\n",
    "#mnist_digits = np.concatenate([x_train, x_test], axis=0)\n",
    "#mnist_digits = np.expand_dims(mnist_digits, -1).astype(\"float32\") / 255\n",
    "\n",
    "\n",
    "vae = VAE(encoder, decoder)\n",
    "vae.compile(optimizer=keras.optimizers.Adam())\n"
   ]
  },
  {
   "cell_type": "code",
   "execution_count": 22,
   "metadata": {},
   "outputs": [
    {
     "name": "stdout",
     "output_type": "stream",
     "text": [
      "Epoch 1/30\n"
     ]
    },
    {
     "ename": "ValueError",
     "evalue": "in user code:\n\n    File \"/opt/homebrew/anaconda3/envs/thesis/lib/python3.9/site-packages/keras/engine/training.py\", line 1249, in train_function  *\n        return step_function(self, iterator)\n    File \"/opt/homebrew/anaconda3/envs/thesis/lib/python3.9/site-packages/keras/engine/training.py\", line 1233, in step_function  **\n        outputs = model.distribute_strategy.run(run_step, args=(data,))\n    File \"/opt/homebrew/anaconda3/envs/thesis/lib/python3.9/site-packages/keras/engine/training.py\", line 1222, in run_step  **\n        outputs = model.train_step(data)\n    File \"/var/folders/xr/0fvz4r2s4wx1hx13jlhxj2z00000gn/T/ipykernel_43545/2449247714.py\", line 22, in train_step\n        z_mean, z_log_var, z = self.encoder(data)\n    File \"/opt/homebrew/anaconda3/envs/thesis/lib/python3.9/site-packages/keras/utils/traceback_utils.py\", line 70, in error_handler\n        raise e.with_traceback(filtered_tb) from None\n    File \"/opt/homebrew/anaconda3/envs/thesis/lib/python3.9/site-packages/keras/engine/input_spec.py\", line 295, in assert_input_compatibility\n        raise ValueError(\n\n    ValueError: Input 0 of layer \"encoder\" is incompatible with the layer: expected shape=(None, 1, 95309), found shape=(1, 95309)\n",
     "output_type": "error",
     "traceback": [
      "\u001b[0;31m---------------------------------------------------------------------------\u001b[0m",
      "\u001b[0;31mValueError\u001b[0m                                Traceback (most recent call last)",
      "\u001b[1;32m/Users/aygalic/Library/CloudStorage/OneDrive-Personal/polimi/Thesis/genome_analysis_parkinson/src/pipeline_1_VAE.ipynb Cell 22\u001b[0m in \u001b[0;36m<cell line: 2>\u001b[0;34m()\u001b[0m\n\u001b[1;32m      <a href='vscode-notebook-cell:/Users/aygalic/Library/CloudStorage/OneDrive-Personal/polimi/Thesis/genome_analysis_parkinson/src/pipeline_1_VAE.ipynb#X33sZmlsZQ%3D%3D?line=0'>1</a>\u001b[0m \u001b[39m#vae.fit(zipped_boi, epochs=30, batch_size=128)\u001b[39;00m\n\u001b[0;32m----> <a href='vscode-notebook-cell:/Users/aygalic/Library/CloudStorage/OneDrive-Personal/polimi/Thesis/genome_analysis_parkinson/src/pipeline_1_VAE.ipynb#X33sZmlsZQ%3D%3D?line=1'>2</a>\u001b[0m vae\u001b[39m.\u001b[39;49mfit(x_train, epochs\u001b[39m=\u001b[39;49m\u001b[39m30\u001b[39;49m)\n",
      "File \u001b[0;32m/opt/homebrew/anaconda3/envs/thesis/lib/python3.9/site-packages/keras/utils/traceback_utils.py:70\u001b[0m, in \u001b[0;36mfilter_traceback.<locals>.error_handler\u001b[0;34m(*args, **kwargs)\u001b[0m\n\u001b[1;32m     67\u001b[0m     filtered_tb \u001b[39m=\u001b[39m _process_traceback_frames(e\u001b[39m.\u001b[39m__traceback__)\n\u001b[1;32m     68\u001b[0m     \u001b[39m# To get the full stack trace, call:\u001b[39;00m\n\u001b[1;32m     69\u001b[0m     \u001b[39m# `tf.debugging.disable_traceback_filtering()`\u001b[39;00m\n\u001b[0;32m---> 70\u001b[0m     \u001b[39mraise\u001b[39;00m e\u001b[39m.\u001b[39mwith_traceback(filtered_tb) \u001b[39mfrom\u001b[39;00m \u001b[39mNone\u001b[39m\n\u001b[1;32m     71\u001b[0m \u001b[39mfinally\u001b[39;00m:\n\u001b[1;32m     72\u001b[0m     \u001b[39mdel\u001b[39;00m filtered_tb\n",
      "File \u001b[0;32m/var/folders/xr/0fvz4r2s4wx1hx13jlhxj2z00000gn/T/__autograph_generated_filekw_ce12s.py:15\u001b[0m, in \u001b[0;36mouter_factory.<locals>.inner_factory.<locals>.tf__train_function\u001b[0;34m(iterator)\u001b[0m\n\u001b[1;32m     13\u001b[0m \u001b[39mtry\u001b[39;00m:\n\u001b[1;32m     14\u001b[0m     do_return \u001b[39m=\u001b[39m \u001b[39mTrue\u001b[39;00m\n\u001b[0;32m---> 15\u001b[0m     retval_ \u001b[39m=\u001b[39m ag__\u001b[39m.\u001b[39mconverted_call(ag__\u001b[39m.\u001b[39mld(step_function), (ag__\u001b[39m.\u001b[39mld(\u001b[39mself\u001b[39m), ag__\u001b[39m.\u001b[39mld(iterator)), \u001b[39mNone\u001b[39;00m, fscope)\n\u001b[1;32m     16\u001b[0m \u001b[39mexcept\u001b[39;00m:\n\u001b[1;32m     17\u001b[0m     do_return \u001b[39m=\u001b[39m \u001b[39mFalse\u001b[39;00m\n",
      "\u001b[1;32m/Users/aygalic/Library/CloudStorage/OneDrive-Personal/polimi/Thesis/genome_analysis_parkinson/src/pipeline_1_VAE.ipynb Cell 22\u001b[0m in \u001b[0;36mVAE.train_step\u001b[0;34m(self, data)\u001b[0m\n\u001b[1;32m     <a href='vscode-notebook-cell:/Users/aygalic/Library/CloudStorage/OneDrive-Personal/polimi/Thesis/genome_analysis_parkinson/src/pipeline_1_VAE.ipynb#X33sZmlsZQ%3D%3D?line=19'>20</a>\u001b[0m \u001b[39mdef\u001b[39;00m \u001b[39mtrain_step\u001b[39m(\u001b[39mself\u001b[39m, data):\n\u001b[1;32m     <a href='vscode-notebook-cell:/Users/aygalic/Library/CloudStorage/OneDrive-Personal/polimi/Thesis/genome_analysis_parkinson/src/pipeline_1_VAE.ipynb#X33sZmlsZQ%3D%3D?line=20'>21</a>\u001b[0m     \u001b[39mwith\u001b[39;00m tf\u001b[39m.\u001b[39mGradientTape() \u001b[39mas\u001b[39;00m tape:\n\u001b[0;32m---> <a href='vscode-notebook-cell:/Users/aygalic/Library/CloudStorage/OneDrive-Personal/polimi/Thesis/genome_analysis_parkinson/src/pipeline_1_VAE.ipynb#X33sZmlsZQ%3D%3D?line=21'>22</a>\u001b[0m         z_mean, z_log_var, z \u001b[39m=\u001b[39m \u001b[39mself\u001b[39m\u001b[39m.\u001b[39mencoder(data)\n\u001b[1;32m     <a href='vscode-notebook-cell:/Users/aygalic/Library/CloudStorage/OneDrive-Personal/polimi/Thesis/genome_analysis_parkinson/src/pipeline_1_VAE.ipynb#X33sZmlsZQ%3D%3D?line=22'>23</a>\u001b[0m         reconstruction \u001b[39m=\u001b[39m \u001b[39mself\u001b[39m\u001b[39m.\u001b[39mdecoder(z)\n\u001b[1;32m     <a href='vscode-notebook-cell:/Users/aygalic/Library/CloudStorage/OneDrive-Personal/polimi/Thesis/genome_analysis_parkinson/src/pipeline_1_VAE.ipynb#X33sZmlsZQ%3D%3D?line=23'>24</a>\u001b[0m         reconstruction_loss \u001b[39m=\u001b[39m tf\u001b[39m.\u001b[39mreduce_mean(\n\u001b[1;32m     <a href='vscode-notebook-cell:/Users/aygalic/Library/CloudStorage/OneDrive-Personal/polimi/Thesis/genome_analysis_parkinson/src/pipeline_1_VAE.ipynb#X33sZmlsZQ%3D%3D?line=24'>25</a>\u001b[0m             tf\u001b[39m.\u001b[39mreduce_sum(\n\u001b[1;32m     <a href='vscode-notebook-cell:/Users/aygalic/Library/CloudStorage/OneDrive-Personal/polimi/Thesis/genome_analysis_parkinson/src/pipeline_1_VAE.ipynb#X33sZmlsZQ%3D%3D?line=25'>26</a>\u001b[0m                 keras\u001b[39m.\u001b[39mlosses\u001b[39m.\u001b[39mbinary_crossentropy(data, reconstruction), axis\u001b[39m=\u001b[39m(\u001b[39m1\u001b[39m, \u001b[39m2\u001b[39m)\n\u001b[1;32m     <a href='vscode-notebook-cell:/Users/aygalic/Library/CloudStorage/OneDrive-Personal/polimi/Thesis/genome_analysis_parkinson/src/pipeline_1_VAE.ipynb#X33sZmlsZQ%3D%3D?line=26'>27</a>\u001b[0m             )\n\u001b[1;32m     <a href='vscode-notebook-cell:/Users/aygalic/Library/CloudStorage/OneDrive-Personal/polimi/Thesis/genome_analysis_parkinson/src/pipeline_1_VAE.ipynb#X33sZmlsZQ%3D%3D?line=27'>28</a>\u001b[0m         )\n",
      "\u001b[0;31mValueError\u001b[0m: in user code:\n\n    File \"/opt/homebrew/anaconda3/envs/thesis/lib/python3.9/site-packages/keras/engine/training.py\", line 1249, in train_function  *\n        return step_function(self, iterator)\n    File \"/opt/homebrew/anaconda3/envs/thesis/lib/python3.9/site-packages/keras/engine/training.py\", line 1233, in step_function  **\n        outputs = model.distribute_strategy.run(run_step, args=(data,))\n    File \"/opt/homebrew/anaconda3/envs/thesis/lib/python3.9/site-packages/keras/engine/training.py\", line 1222, in run_step  **\n        outputs = model.train_step(data)\n    File \"/var/folders/xr/0fvz4r2s4wx1hx13jlhxj2z00000gn/T/ipykernel_43545/2449247714.py\", line 22, in train_step\n        z_mean, z_log_var, z = self.encoder(data)\n    File \"/opt/homebrew/anaconda3/envs/thesis/lib/python3.9/site-packages/keras/utils/traceback_utils.py\", line 70, in error_handler\n        raise e.with_traceback(filtered_tb) from None\n    File \"/opt/homebrew/anaconda3/envs/thesis/lib/python3.9/site-packages/keras/engine/input_spec.py\", line 295, in assert_input_compatibility\n        raise ValueError(\n\n    ValueError: Input 0 of layer \"encoder\" is incompatible with the layer: expected shape=(None, 1, 95309), found shape=(1, 95309)\n"
     ]
    }
   ],
   "source": [
    "#vae.fit(zipped_boi, epochs=30, batch_size=128)\n",
    "vae.fit(x_train, epochs=30)\n",
    "\n",
    "\n"
   ]
  },
  {
   "cell_type": "code",
   "execution_count": null,
   "metadata": {},
   "outputs": [],
   "source": []
  },
  {
   "cell_type": "code",
   "execution_count": null,
   "metadata": {},
   "outputs": [],
   "source": []
  },
  {
   "cell_type": "code",
   "execution_count": 50,
   "metadata": {},
   "outputs": [
    {
     "name": "stdout",
     "output_type": "stream",
     "text": [
      "Epoch 1/10\n"
     ]
    },
    {
     "name": "stdout",
     "output_type": "stream",
     "text": [
      "4755/4755 [==============================] - 256s 54ms/step - loss: 50037.5977\n",
      "Epoch 2/10\n",
      "4755/4755 [==============================] - 256s 54ms/step - loss: 49595.7070\n",
      "Epoch 3/10\n",
      "4755/4755 [==============================] - 296s 62ms/step - loss: 49558.0820\n",
      "Epoch 4/10\n",
      "4755/4755 [==============================] - 297s 62ms/step - loss: 49515.7422\n",
      "Epoch 5/10\n",
      "4755/4755 [==============================] - 268s 56ms/step - loss: 49461.5156\n",
      "Epoch 6/10\n",
      "4755/4755 [==============================] - 220s 46ms/step - loss: 49422.7031\n",
      "Epoch 7/10\n",
      "4755/4755 [==============================] - 206s 43ms/step - loss: 49384.5352\n",
      "Epoch 8/10\n",
      "4755/4755 [==============================] - 192s 40ms/step - loss: 49351.1133\n",
      "Epoch 9/10\n",
      "4755/4755 [==============================] - 193s 41ms/step - loss: 49327.9727\n",
      "Epoch 10/10\n",
      "4755/4755 [==============================] - 200s 42ms/step - loss: 49303.5312\n"
     ]
    }
   ],
   "source": [
    "hist = autoencoder.fit(zipped_boi,\n",
    "                epochs=10,\n",
    "                shuffle=False)"
   ]
  },
  {
   "cell_type": "code",
   "execution_count": 11,
   "metadata": {},
   "outputs": [
    {
     "name": "stdout",
     "output_type": "stream",
     "text": [
      "[8458.9609375, 5196.03369140625, 3719.23828125, 3157.94580078125, 2965.247802734375, 2837.5986328125, 2734.477783203125, 2659.512939453125, 2532.032958984375, 2480.10498046875]\n"
     ]
    },
    {
     "data": {
      "image/png": "[encoded data removed]",
      "text/plain": [
       "<Figure size 432x288 with 1 Axes>"
      ]
     },
     "metadata": {
      "needs_background": "light"
     },
     "output_type": "display_data"
    }
   ],
   "source": [
    "\n",
    "plt.plot(hist.history['loss'])\n",
    "\n",
    "print(hist.history['loss'])\n"
   ]
  },
  {
   "cell_type": "code",
   "execution_count": 51,
   "metadata": {},
   "outputs": [
    {
     "name": "stderr",
     "output_type": "stream",
     "text": [
      "WARNING:absl:Found untraced functions such as _update_step_xla while saving (showing 1 of 1). These functions will not be directly callable after loading.\n"
     ]
    },
    {
     "name": "stdout",
     "output_type": "stream",
     "text": [
      "INFO:tensorflow:Assets written to: ../workfiles/placeholder_normalized_model/assets\n"
     ]
    },
    {
     "name": "stderr",
     "output_type": "stream",
     "text": [
      "INFO:tensorflow:Assets written to: ../workfiles/placeholder_normalized_model/assets\n"
     ]
    }
   ],
   "source": [
    "#autoencoder.save('../workfiles/placeholder_model')\n",
    "autoencoder.save('../workfiles/placeholder_normalized_model')"
   ]
  },
  {
   "cell_type": "code",
   "execution_count": null,
   "metadata": {},
   "outputs": [],
   "source": []
  }
 ],
 "metadata": {
  "kernelspec": {
   "display_name": "Python 3 (ipykernel)",
   "language": "python",
   "name": "python3"
  },
  "language_info": {
   "codemirror_mode": {
    "name": "ipython",
    "version": 3
   },
   "file_extension": ".py",
   "mimetype": "text/x-python",
   "name": "python",
   "nbconvert_exporter": "python",
   "pygments_lexer": "ipython3",
   "version": "3.9.16"
  }
 },
 "nbformat": 4,
 "nbformat_minor": 2
}
