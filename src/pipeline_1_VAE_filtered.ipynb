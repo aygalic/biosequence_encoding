{
 "cells": [
  {
   "cell_type": "code",
   "execution_count": 6,
   "metadata": {},
   "outputs": [],
   "source": [
    "import pandas as pd\n",
    "import matplotlib.pyplot as plt\n",
    "import numpy as np\n",
    "import tensorflow as tf\n",
    "from tensorflow import keras"
   ]
  },
  {
   "cell_type": "code",
   "execution_count": 2,
   "metadata": {},
   "outputs": [],
   "source": [
    "import utils\n"
   ]
  },
  {
   "cell_type": "markdown",
   "metadata": {},
   "source": [
    "### Generate dataset"
   ]
  },
  {
   "cell_type": "code",
   "execution_count": 3,
   "metadata": {},
   "outputs": [
    {
     "name": "stdout",
     "output_type": "stream",
     "text": [
      "number of genes selected :  5531\n"
     ]
    }
   ],
   "source": [
    "x_train = utils.generate_dataset(feature_selection_threshold = 5)"
   ]
  },
  {
   "cell_type": "markdown",
   "metadata": {},
   "source": [
    "# Generate model"
   ]
  },
  {
   "cell_type": "code",
   "execution_count": 4,
   "metadata": {},
   "outputs": [],
   "source": [
    "vae = utils.generate_model(shape = (5531))\n",
    "vae.compile(optimizer=keras.optimizers.Adam())"
   ]
  },
  {
   "cell_type": "code",
   "execution_count": 7,
   "metadata": {},
   "outputs": [],
   "source": []
  },
  {
   "cell_type": "markdown",
   "metadata": {},
   "source": [
    "#### Train Model"
   ]
  },
  {
   "cell_type": "code",
   "execution_count": 8,
   "metadata": {},
   "outputs": [
    {
     "name": "stdout",
     "output_type": "stream",
     "text": [
      "Epoch 1/30\n"
     ]
    },
    {
     "name": "stderr",
     "output_type": "stream",
     "text": [
      "2023-07-12 16:38:14.602292: W tensorflow/tsl/platform/profile_utils/cpu_utils.cc:128] Failed to get CPU frequency: 0 Hz\n"
     ]
    },
    {
     "name": "stdout",
     "output_type": "stream",
     "text": [
      "1/1 [==============================] - 2s 2s/step - loss: 1432258.6250 - reconstruction_loss: 1432258.6250 - kl_loss: 0.0262\n",
      "Epoch 2/30\n",
      "1/1 [==============================] - 0s 22ms/step - loss: 1432251.5000 - reconstruction_loss: 1432251.2500 - kl_loss: 0.2474\n",
      "Epoch 3/30\n",
      "1/1 [==============================] - 0s 20ms/step - loss: 1432241.3750 - reconstruction_loss: 1432240.8750 - kl_loss: 0.5477\n",
      "Epoch 4/30\n",
      "1/1 [==============================] - 0s 18ms/step - loss: 1432220.8750 - reconstruction_loss: 1432219.6250 - kl_loss: 1.2540\n",
      "Epoch 5/30\n",
      "1/1 [==============================] - 0s 49ms/step - loss: 1432189.5000 - reconstruction_loss: 1432186.7500 - kl_loss: 2.6914\n",
      "Epoch 6/30\n",
      "1/1 [==============================] - 0s 24ms/step - loss: 1432134.3750 - reconstruction_loss: 1432129.0000 - kl_loss: 5.3640\n",
      "Epoch 7/30\n",
      "1/1 [==============================] - 0s 19ms/step - loss: 1432042.6250 - reconstruction_loss: 1432032.6250 - kl_loss: 10.0375\n",
      "Epoch 8/30\n",
      "1/1 [==============================] - 0s 19ms/step - loss: 1431907.8750 - reconstruction_loss: 1431890.0000 - kl_loss: 17.8169\n",
      "Epoch 9/30\n",
      "1/1 [==============================] - 0s 29ms/step - loss: 1431676.2500 - reconstruction_loss: 1431645.7500 - kl_loss: 30.5389\n",
      "Epoch 10/30\n",
      "1/1 [==============================] - 0s 21ms/step - loss: 1431364.7500 - reconstruction_loss: 1431314.1250 - kl_loss: 50.6042\n",
      "Epoch 11/30\n",
      "1/1 [==============================] - 0s 17ms/step - loss: 1430944.5000 - reconstruction_loss: 1430863.1250 - kl_loss: 81.3727\n",
      "Epoch 12/30\n",
      "1/1 [==============================] - 0s 19ms/step - loss: 1430325.2500 - reconstruction_loss: 1430198.1250 - kl_loss: 127.1624\n",
      "Epoch 13/30\n",
      "1/1 [==============================] - 0s 20ms/step - loss: 1429483.7500 - reconstruction_loss: 1429289.1250 - kl_loss: 194.6587\n",
      "Epoch 14/30\n",
      "1/1 [==============================] - 0s 18ms/step - loss: 1428231.5000 - reconstruction_loss: 1427937.3750 - kl_loss: 294.1640\n",
      "Epoch 15/30\n",
      "1/1 [==============================] - 0s 24ms/step - loss: 1426519.5000 - reconstruction_loss: 1426080.2500 - kl_loss: 439.2904\n",
      "Epoch 16/30\n",
      "1/1 [==============================] - 0s 20ms/step - loss: 1424301.0000 - reconstruction_loss: 1423647.8750 - kl_loss: 653.0723\n",
      "Epoch 17/30\n",
      "1/1 [==============================] - 0s 20ms/step - loss: 1421570.6250 - reconstruction_loss: 1420589.5000 - kl_loss: 981.0708\n",
      "Epoch 18/30\n",
      "1/1 [==============================] - 0s 18ms/step - loss: 1418462.2500 - reconstruction_loss: 1416971.8750 - kl_loss: 1490.3993\n",
      "Epoch 19/30\n",
      "1/1 [==============================] - 0s 20ms/step - loss: 1414946.8750 - reconstruction_loss: 1412733.6250 - kl_loss: 2213.3054\n",
      "Epoch 20/30\n",
      "1/1 [==============================] - 0s 18ms/step - loss: 1411055.6250 - reconstruction_loss: 1408182.5000 - kl_loss: 2873.1089\n",
      "Epoch 21/30\n",
      "1/1 [==============================] - 0s 17ms/step - loss: 1407440.3750 - reconstruction_loss: 1404477.6250 - kl_loss: 2962.6882\n",
      "Epoch 22/30\n",
      "1/1 [==============================] - 0s 18ms/step - loss: 1403713.2500 - reconstruction_loss: 1400952.3750 - kl_loss: 2760.8533\n",
      "Epoch 23/30\n",
      "1/1 [==============================] - 0s 18ms/step - loss: 1399499.3750 - reconstruction_loss: 1397029.5000 - kl_loss: 2469.8440\n",
      "Epoch 24/30\n",
      "1/1 [==============================] - 0s 17ms/step - loss: 1394145.6250 - reconstruction_loss: 1391974.0000 - kl_loss: 2171.6255\n",
      "Epoch 25/30\n",
      "1/1 [==============================] - 0s 16ms/step - loss: 1388319.0000 - reconstruction_loss: 1386398.8750 - kl_loss: 1920.1228\n",
      "Epoch 26/30\n",
      "1/1 [==============================] - 0s 19ms/step - loss: 1382124.7500 - reconstruction_loss: 1380381.2500 - kl_loss: 1743.4631\n",
      "Epoch 27/30\n",
      "1/1 [==============================] - 0s 26ms/step - loss: 1375246.0000 - reconstruction_loss: 1373581.6250 - kl_loss: 1664.3643\n",
      "Epoch 28/30\n",
      "1/1 [==============================] - 0s 27ms/step - loss: 1366943.5000 - reconstruction_loss: 1365248.2500 - kl_loss: 1695.2366\n",
      "Epoch 29/30\n",
      "1/1 [==============================] - 0s 17ms/step - loss: 1357245.1250 - reconstruction_loss: 1355416.3750 - kl_loss: 1828.6978\n",
      "Epoch 30/30\n",
      "1/1 [==============================] - 0s 21ms/step - loss: 1346396.5000 - reconstruction_loss: 1344349.7500 - kl_loss: 2046.6879\n"
     ]
    }
   ],
   "source": [
    "hist = vae.fit(x_train, epochs = 30)"
   ]
  },
  {
   "attachments": {},
   "cell_type": "markdown",
   "metadata": {},
   "source": [
    "# train it"
   ]
  },
  {
   "cell_type": "code",
   "execution_count": 64,
   "metadata": {},
   "outputs": [
    {
     "data": {
      "text/plain": [
       "[<matplotlib.lines.Line2D at 0x29cbcc670>]"
      ]
     },
     "execution_count": 64,
     "metadata": {},
     "output_type": "execute_result"
    },
    {
     "data": {
      "image/png": "[encoded data removed]",
      "text/plain": [
       "<Figure size 432x288 with 1 Axes>"
      ]
     },
     "metadata": {
      "needs_background": "light"
     },
     "output_type": "display_data"
    }
   ],
   "source": [
    "plt.plot(hist.history['reconstruction_loss'])\n",
    "plt.plot(hist.history['kl_loss'])\n",
    "\n",
    "\n",
    "\n",
    "\n",
    "\n"
   ]
  },
  {
   "cell_type": "code",
   "execution_count": 65,
   "metadata": {},
   "outputs": [
    {
     "name": "stdout",
     "output_type": "stream",
     "text": [
      "WARNING:tensorflow:Compiled the loaded model, but the compiled metrics have yet to be built. `model.compile_metrics` will be empty until you train or evaluate the model.\n"
     ]
    },
    {
     "name": "stderr",
     "output_type": "stream",
     "text": [
      "WARNING:tensorflow:Compiled the loaded model, but the compiled metrics have yet to be built. `model.compile_metrics` will be empty until you train or evaluate the model.\n",
      "WARNING:absl:Found untraced functions such as elu_27_layer_call_fn, elu_27_layer_call_and_return_conditional_losses, elu_28_layer_call_fn, elu_28_layer_call_and_return_conditional_losses, elu_29_layer_call_fn while saving (showing 5 of 8). These functions will not be directly callable after loading.\n"
     ]
    },
    {
     "name": "stdout",
     "output_type": "stream",
     "text": [
      "INFO:tensorflow:Assets written to: ../workfiles/vae_model_complex/assets\n"
     ]
    },
    {
     "name": "stderr",
     "output_type": "stream",
     "text": [
      "INFO:tensorflow:Assets written to: ../workfiles/vae_model_complex/assets\n"
     ]
    }
   ],
   "source": [
    "#autoencoder.save('../workfiles/placeholder_model')\n",
    "vae.encoder.save('../workfiles/vae_model_complex')\n",
    "\n"
   ]
  },
  {
   "cell_type": "code",
   "execution_count": null,
   "metadata": {},
   "outputs": [],
   "source": []
  }
 ],
 "metadata": {
  "kernelspec": {
   "display_name": "Python 3 (ipykernel)",
   "language": "python",
   "name": "python3"
  },
  "language_info": {
   "codemirror_mode": {
    "name": "ipython",
    "version": 3
   },
   "file_extension": ".py",
   "mimetype": "text/x-python",
   "name": "python",
   "nbconvert_exporter": "python",
   "pygments_lexer": "ipython3",
   "version": "3.9.16"
  }
 },
 "nbformat": 4,
 "nbformat_minor": 2
}
