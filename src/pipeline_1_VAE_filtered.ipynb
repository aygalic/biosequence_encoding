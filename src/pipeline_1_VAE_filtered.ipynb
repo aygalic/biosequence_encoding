{
 "cells": [
  {
   "cell_type": "code",
   "execution_count": 1,
   "metadata": {},
   "outputs": [],
   "source": [
    "import pandas as pd\n",
    "import matplotlib.pyplot as plt\n",
    "\n",
    "import numpy as np\n",
    "import tensorflow as tf\n",
    "from tensorflow import keras"
   ]
  },
  {
   "cell_type": "code",
   "execution_count": 8,
   "metadata": {},
   "outputs": [],
   "source": [
    "# project specific\n",
    "from utils import data_handler\n",
    "from utils.models import vae\n",
    "\n"
   ]
  },
  {
   "cell_type": "markdown",
   "metadata": {},
   "source": [
    "### Generate dataset"
   ]
  },
  {
   "cell_type": "code",
   "execution_count": 16,
   "metadata": {},
   "outputs": [
    {
     "name": "stdout",
     "output_type": "stream",
     "text": [
      "retained phase 2\n",
      "loading samples...\n"
     ]
    }
   ],
   "source": [
    "x_train, filenames = data_handler.generate_dataset(feature_selection_threshold = 5, retain_phases=\"2\", return_filenames= True)"
   ]
  },
  {
   "cell_type": "markdown",
   "metadata": {},
   "source": [
    "### Generate model"
   ]
  },
  {
   "cell_type": "code",
   "execution_count": 9,
   "metadata": {},
   "outputs": [],
   "source": [
    "vae_model = vae.generate_model(shape = (6161))\n"
   ]
  },
  {
   "cell_type": "code",
   "execution_count": 10,
   "metadata": {},
   "outputs": [],
   "source": [
    "vae_model.compile(optimizer=keras.optimizers.Adam(), loss = keras.losses.mean_squared_error)"
   ]
  },
  {
   "cell_type": "markdown",
   "metadata": {},
   "source": [
    "#### Train Model"
   ]
  },
  {
   "cell_type": "code",
   "execution_count": 11,
   "metadata": {},
   "outputs": [
    {
     "name": "stdout",
     "output_type": "stream",
     "text": [
      "Epoch 1/10\n"
     ]
    },
    {
     "name": "stderr",
     "output_type": "stream",
     "text": [
      "2023-07-13 18:37:08.832100: W tensorflow/tsl/platform/profile_utils/cpu_utils.cc:128] Failed to get CPU frequency: 0 Hz\n"
     ]
    },
    {
     "name": "stdout",
     "output_type": "stream",
     "text": [
      "1/1 [==============================] - 1s 1s/step - loss: 2050409.1250 - reconstruction_loss: 2050409.1250 - kl_loss: 0.0397\n",
      "Epoch 2/10\n",
      "1/1 [==============================] - 0s 16ms/step - loss: 2050401.7500 - reconstruction_loss: 2050401.6250 - kl_loss: 0.1837\n",
      "Epoch 3/10\n",
      "1/1 [==============================] - 0s 14ms/step - loss: 2050394.0000 - reconstruction_loss: 2050393.5000 - kl_loss: 0.5300\n",
      "Epoch 4/10\n",
      "1/1 [==============================] - 0s 27ms/step - loss: 2050383.5000 - reconstruction_loss: 2050382.1250 - kl_loss: 1.3769\n",
      "Epoch 5/10\n",
      "1/1 [==============================] - 0s 16ms/step - loss: 2050358.1250 - reconstruction_loss: 2050355.1250 - kl_loss: 3.0215\n",
      "Epoch 6/10\n",
      "1/1 [==============================] - 0s 13ms/step - loss: 2050324.8750 - reconstruction_loss: 2050318.8750 - kl_loss: 5.9661\n",
      "Epoch 7/10\n",
      "1/1 [==============================] - 0s 13ms/step - loss: 2050240.3750 - reconstruction_loss: 2050229.5000 - kl_loss: 10.9304\n",
      "Epoch 8/10\n",
      "1/1 [==============================] - 0s 12ms/step - loss: 2050132.8750 - reconstruction_loss: 2050113.8750 - kl_loss: 18.9667\n",
      "Epoch 9/10\n",
      "1/1 [==============================] - 0s 12ms/step - loss: 2049988.5000 - reconstruction_loss: 2049956.8750 - kl_loss: 31.6102\n",
      "Epoch 10/10\n",
      "1/1 [==============================] - 0s 14ms/step - loss: 2049781.2500 - reconstruction_loss: 2049730.0000 - kl_loss: 51.2720\n"
     ]
    }
   ],
   "source": [
    "hist = vae_model.fit(x_train, epochs = 1000) #2k provided good separation"
   ]
  },
  {
   "attachments": {},
   "cell_type": "markdown",
   "metadata": {},
   "source": [
    "#### Monitoring training results"
   ]
  },
  {
   "cell_type": "code",
   "execution_count": 12,
   "metadata": {},
   "outputs": [
    {
     "data": {
      "text/plain": [
       "[<matplotlib.lines.Line2D at 0x16cd57730>]"
      ]
     },
     "execution_count": 12,
     "metadata": {},
     "output_type": "execute_result"
    },
    {
     "data": {
      "image/png": "[encoded data removed]",
      "text/plain": [
       "<Figure size 432x288 with 1 Axes>"
      ]
     },
     "metadata": {
      "needs_background": "light"
     },
     "output_type": "display_data"
    }
   ],
   "source": [
    "plt.plot(hist.history['reconstruction_loss'])\n",
    "plt.plot(hist.history['kl_loss'])\n",
    "\n",
    "\n",
    "\n",
    "\n",
    "\n"
   ]
  },
  {
   "cell_type": "code",
   "execution_count": 10,
   "metadata": {},
   "outputs": [
    {
     "name": "stdout",
     "output_type": "stream",
     "text": [
      "WARNING:tensorflow:Compiled the loaded model, but the compiled metrics have yet to be built. `model.compile_metrics` will be empty until you train or evaluate the model.\n"
     ]
    },
    {
     "name": "stderr",
     "output_type": "stream",
     "text": [
      "WARNING:absl:Found untraced functions such as elu_layer_call_fn, elu_layer_call_and_return_conditional_losses, elu_1_layer_call_fn, elu_1_layer_call_and_return_conditional_losses, elu_2_layer_call_fn while saving (showing 5 of 8). These functions will not be directly callable after loading.\n"
     ]
    },
    {
     "name": "stdout",
     "output_type": "stream",
     "text": [
      "INFO:tensorflow:Assets written to: ../workfiles/vae_model_complex_phase_2/assets\n"
     ]
    },
    {
     "name": "stderr",
     "output_type": "stream",
     "text": [
      "INFO:tensorflow:Assets written to: ../workfiles/vae_model_complex_phase_2/assets\n"
     ]
    }
   ],
   "source": [
    "#autoencoder.save('../workfiles/placeholder_model')\n",
    "vae_model.encoder.save('../workfiles/vae_model_complex_phase_2')\n",
    "\n",
    "\n"
   ]
  },
  {
   "cell_type": "markdown",
   "metadata": {},
   "source": [
    "### encoding the whole dataset"
   ]
  },
  {
   "cell_type": "code",
   "execution_count": 13,
   "metadata": {},
   "outputs": [
    {
     "name": "stdout",
     "output_type": "stream",
     "text": [
      "1/1 [==============================] - 0s 118ms/step\n"
     ]
    }
   ],
   "source": [
    "_, __, compressed_dataframe = vae_model.encoder.predict(x_train)\n"
   ]
  },
  {
   "cell_type": "code",
   "execution_count": 15,
   "metadata": {},
   "outputs": [],
   "source": [
    "df = pd.DataFrame(compressed_dataframe)\n",
    "df[\"name\"] = filenames"
   ]
  },
  {
   "cell_type": "code",
   "execution_count": 16,
   "metadata": {},
   "outputs": [],
   "source": [
    "df.to_csv(\"../workfiles/compressed_data_vae_phase_2.csv\")\n"
   ]
  },
  {
   "cell_type": "code",
   "execution_count": null,
   "metadata": {},
   "outputs": [],
   "source": []
  }
 ],
 "metadata": {
  "kernelspec": {
   "display_name": "Python 3 (ipykernel)",
   "language": "python",
   "name": "python3"
  },
  "language_info": {
   "codemirror_mode": {
    "name": "ipython",
    "version": 3
   },
   "file_extension": ".py",
   "mimetype": "text/x-python",
   "name": "python",
   "nbconvert_exporter": "python",
   "pygments_lexer": "ipython3",
   "version": "3.9.16"
  }
 },
 "nbformat": 4,
 "nbformat_minor": 2
}
