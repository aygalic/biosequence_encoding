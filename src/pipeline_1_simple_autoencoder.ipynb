{
 "cells": [
  {
   "cell_type": "code",
   "execution_count": 1,
   "metadata": {},
   "outputs": [],
   "source": [
    "import os\n",
    "import pandas as pd\n",
    "\n",
    "import pathlib\n",
    "import matplotlib.pyplot as plt\n",
    "import numpy as np\n",
    "import tensorflow as tf\n",
    "\n",
    "\n",
    "\n",
    "from tensorflow.keras import layers, losses\n",
    "from tensorflow.keras.models import Model\n",
    "from tensorflow import keras"
   ]
  },
  {
   "cell_type": "code",
   "execution_count": 2,
   "metadata": {},
   "outputs": [],
   "source": [
    "# project specific\n",
    "from utils import data_handler\n",
    "from utils.models import vanilla_autoencoder"
   ]
  },
  {
   "cell_type": "code",
   "execution_count": 6,
   "metadata": {},
   "outputs": [
    {
     "name": "stdout",
     "output_type": "stream",
     "text": [
      "retained phase 2\n",
      "loading samples...\n",
      "loaded 5740 samples\n",
      "number of genes selected :  48741\n"
     ]
    }
   ],
   "source": [
    "#x_train, filenames = data_handler.generate_dataset(feature_selection_threshold = 5, retain_phases=\"2\", return_filenames= True)\n",
    "x_train, filenames = data_handler.generate_dataset(feature_selection_threshold = 0, retain_phases=\"2\", return_filenames= True)"
   ]
  },
  {
   "cell_type": "code",
   "execution_count": 7,
   "metadata": {},
   "outputs": [],
   "source": [
    "latent_dim = 64\n",
    "t_shape = (48741)\n",
    "\n",
    "\n",
    "autoencoder = vanilla_autoencoder.generate_model(t_shape, latent_dim)\n",
    "autoencoder.compile(optimizer='adam', loss=tf.keras.losses.MeanSquaredError())"
   ]
  },
  {
   "cell_type": "code",
   "execution_count": 8,
   "metadata": {},
   "outputs": [
    {
     "name": "stdout",
     "output_type": "stream",
     "text": [
      "Epoch 1/100\n",
      "45/45 [==============================] - 3s 52ms/step - loss: 164858.8273\n",
      "Epoch 2/100\n",
      "45/45 [==============================] - 2s 48ms/step - loss: 29734.7189\n",
      "Epoch 3/100\n",
      "45/45 [==============================] - 2s 46ms/step - loss: 11952.3832\n",
      "Epoch 4/100\n",
      "45/45 [==============================] - 2s 42ms/step - loss: 10421.1710\n",
      "Epoch 5/100\n",
      "45/45 [==============================] - 2s 40ms/step - loss: 8431.4145\n",
      "Epoch 6/100\n",
      "45/45 [==============================] - 2s 45ms/step - loss: 6848.3723\n",
      "Epoch 7/100\n",
      "45/45 [==============================] - 2s 40ms/step - loss: 6504.4117\n",
      "Epoch 8/100\n",
      "45/45 [==============================] - 2s 45ms/step - loss: 6258.9419\n",
      "Epoch 9/100\n",
      "45/45 [==============================] - 3s 60ms/step - loss: 6006.1554\n",
      "Epoch 10/100\n",
      "45/45 [==============================] - 2s 46ms/step - loss: 5702.9387\n",
      "Epoch 11/100\n",
      "45/45 [==============================] - 2s 54ms/step - loss: 5318.8146\n",
      "Epoch 12/100\n",
      "45/45 [==============================] - 3s 56ms/step - loss: 4811.8120\n",
      "Epoch 13/100\n",
      "45/45 [==============================] - 2s 44ms/step - loss: 4144.5939\n",
      "Epoch 14/100\n",
      "45/45 [==============================] - 2s 41ms/step - loss: 3664.0634\n",
      "Epoch 15/100\n",
      "45/45 [==============================] - 2s 51ms/step - loss: 3421.7327\n",
      "Epoch 16/100\n",
      "45/45 [==============================] - 2s 44ms/step - loss: 3263.7921\n",
      "Epoch 17/100\n",
      "45/45 [==============================] - 2s 43ms/step - loss: 3138.3846\n",
      "Epoch 18/100\n",
      "45/45 [==============================] - 2s 41ms/step - loss: 3018.7949\n",
      "Epoch 19/100\n",
      "45/45 [==============================] - 2s 45ms/step - loss: 2909.9128\n",
      "Epoch 20/100\n",
      "45/45 [==============================] - 2s 43ms/step - loss: 2814.6924\n",
      "Epoch 21/100\n",
      "45/45 [==============================] - 2s 48ms/step - loss: 2718.0445\n",
      "Epoch 22/100\n",
      "45/45 [==============================] - 2s 50ms/step - loss: 2633.2092\n",
      "Epoch 23/100\n",
      "45/45 [==============================] - 2s 38ms/step - loss: 2556.8302\n",
      "Epoch 24/100\n",
      "45/45 [==============================] - 2s 39ms/step - loss: 2492.0005\n",
      "Epoch 25/100\n",
      "45/45 [==============================] - 2s 36ms/step - loss: 2442.3538\n",
      "Epoch 26/100\n",
      "45/45 [==============================] - 2s 37ms/step - loss: 2400.4614\n",
      "Epoch 27/100\n",
      "45/45 [==============================] - 2s 44ms/step - loss: 2361.6328\n",
      "Epoch 28/100\n",
      "45/45 [==============================] - 2s 48ms/step - loss: 2331.0570\n",
      "Epoch 29/100\n",
      "45/45 [==============================] - 2s 41ms/step - loss: 2303.9312\n",
      "Epoch 30/100\n",
      "45/45 [==============================] - 2s 39ms/step - loss: 2276.0606\n",
      "Epoch 31/100\n",
      "45/45 [==============================] - 2s 48ms/step - loss: 2247.5030\n",
      "Epoch 32/100\n",
      "45/45 [==============================] - 2s 54ms/step - loss: 2226.5336\n",
      "Epoch 33/100\n",
      "45/45 [==============================] - 3s 69ms/step - loss: 2202.6435\n",
      "Epoch 34/100\n",
      "45/45 [==============================] - 3s 60ms/step - loss: 2178.0144\n",
      "Epoch 35/100\n",
      "45/45 [==============================] - 3s 72ms/step - loss: 2153.9025\n",
      "Epoch 36/100\n",
      "45/45 [==============================] - 3s 55ms/step - loss: 2136.2844\n",
      "Epoch 37/100\n",
      "45/45 [==============================] - 2s 55ms/step - loss: 2126.9298\n",
      "Epoch 38/100\n",
      "45/45 [==============================] - 2s 42ms/step - loss: 2120.6125\n",
      "Epoch 39/100\n",
      "45/45 [==============================] - 3s 57ms/step - loss: 2174.4640\n",
      "Epoch 40/100\n",
      "45/45 [==============================] - 2s 49ms/step - loss: 2076.9843\n",
      "Epoch 41/100\n",
      "45/45 [==============================] - 2s 39ms/step - loss: 2053.0126\n",
      "Epoch 42/100\n",
      "45/45 [==============================] - 2s 45ms/step - loss: 2031.5951\n",
      "Epoch 43/100\n",
      "45/45 [==============================] - 2s 41ms/step - loss: 2016.2177\n",
      "Epoch 44/100\n",
      "45/45 [==============================] - 2s 48ms/step - loss: 1997.3578\n",
      "Epoch 45/100\n",
      "45/45 [==============================] - 2s 45ms/step - loss: 1975.0708\n",
      "Epoch 46/100\n",
      "45/45 [==============================] - 2s 42ms/step - loss: 1957.7988\n",
      "Epoch 47/100\n",
      "45/45 [==============================] - 2s 44ms/step - loss: 1942.7068\n",
      "Epoch 48/100\n",
      "45/45 [==============================] - 3s 61ms/step - loss: 1928.6052\n",
      "Epoch 49/100\n",
      "45/45 [==============================] - 2s 47ms/step - loss: 1928.7723\n",
      "Epoch 50/100\n",
      "45/45 [==============================] - 2s 40ms/step - loss: 1903.1370\n",
      "Epoch 51/100\n",
      "45/45 [==============================] - 2s 41ms/step - loss: 1874.6307\n",
      "Epoch 52/100\n",
      "45/45 [==============================] - 2s 40ms/step - loss: 1875.2044\n",
      "Epoch 53/100\n",
      "45/45 [==============================] - 3s 60ms/step - loss: 1886.2704\n",
      "Epoch 54/100\n",
      "45/45 [==============================] - 2s 42ms/step - loss: 1863.0995\n",
      "Epoch 55/100\n",
      "45/45 [==============================] - 2s 40ms/step - loss: 1860.9814\n",
      "Epoch 56/100\n",
      "45/45 [==============================] - 2s 43ms/step - loss: 1854.8809\n",
      "Epoch 57/100\n",
      "45/45 [==============================] - 2s 40ms/step - loss: 1875.0091\n",
      "Epoch 58/100\n",
      "45/45 [==============================] - 2s 44ms/step - loss: 1872.4109\n",
      "Epoch 59/100\n",
      "45/45 [==============================] - 2s 43ms/step - loss: 1791.9743\n",
      "Epoch 60/100\n",
      "45/45 [==============================] - 2s 42ms/step - loss: 1768.7204\n",
      "Epoch 61/100\n",
      "45/45 [==============================] - 2s 46ms/step - loss: 1755.0081\n",
      "Epoch 62/100\n",
      "45/45 [==============================] - 2s 50ms/step - loss: 1740.9464\n",
      "Epoch 63/100\n",
      "45/45 [==============================] - 2s 53ms/step - loss: 1733.4701\n",
      "Epoch 64/100\n",
      "45/45 [==============================] - 2s 50ms/step - loss: 1724.8407\n",
      "Epoch 65/100\n",
      "45/45 [==============================] - 2s 47ms/step - loss: 1718.2572\n",
      "Epoch 66/100\n",
      "45/45 [==============================] - 2s 42ms/step - loss: 1713.6481\n",
      "Epoch 67/100\n",
      "45/45 [==============================] - 2s 46ms/step - loss: 1707.1530\n",
      "Epoch 68/100\n",
      "45/45 [==============================] - 2s 50ms/step - loss: 1701.5339\n",
      "Epoch 69/100\n",
      "45/45 [==============================] - 2s 45ms/step - loss: 1696.8887\n",
      "Epoch 70/100\n",
      "45/45 [==============================] - 2s 42ms/step - loss: 1689.5880\n",
      "Epoch 71/100\n",
      "45/45 [==============================] - 2s 41ms/step - loss: 1682.8456\n",
      "Epoch 72/100\n",
      "45/45 [==============================] - 2s 42ms/step - loss: 1672.0462\n",
      "Epoch 73/100\n",
      "45/45 [==============================] - 2s 42ms/step - loss: 1664.9433\n",
      "Epoch 74/100\n",
      "45/45 [==============================] - 2s 40ms/step - loss: 1657.4256\n",
      "Epoch 75/100\n",
      "45/45 [==============================] - 2s 43ms/step - loss: 1651.5354\n",
      "Epoch 76/100\n",
      "45/45 [==============================] - 2s 41ms/step - loss: 1645.1152\n",
      "Epoch 77/100\n",
      "45/45 [==============================] - 2s 44ms/step - loss: 1639.4312\n",
      "Epoch 78/100\n",
      "45/45 [==============================] - 2s 50ms/step - loss: 1633.6905\n",
      "Epoch 79/100\n",
      "45/45 [==============================] - 2s 41ms/step - loss: 1628.0520\n",
      "Epoch 80/100\n",
      "45/45 [==============================] - 2s 54ms/step - loss: 1622.8313\n",
      "Epoch 81/100\n",
      "45/45 [==============================] - 3s 64ms/step - loss: 1619.9716\n",
      "Epoch 82/100\n",
      "45/45 [==============================] - 2s 46ms/step - loss: 1613.6012\n",
      "Epoch 83/100\n",
      "45/45 [==============================] - 2s 46ms/step - loss: 1608.5500\n",
      "Epoch 84/100\n",
      "45/45 [==============================] - 2s 43ms/step - loss: 1603.4905\n",
      "Epoch 85/100\n",
      "45/45 [==============================] - 2s 42ms/step - loss: 1599.5491\n",
      "Epoch 86/100\n",
      "45/45 [==============================] - 2s 39ms/step - loss: 1596.7366\n",
      "Epoch 87/100\n",
      "45/45 [==============================] - 2s 41ms/step - loss: 1591.7647\n",
      "Epoch 88/100\n",
      "45/45 [==============================] - 2s 43ms/step - loss: 1587.4710\n",
      "Epoch 89/100\n",
      "45/45 [==============================] - 2s 39ms/step - loss: 1582.8310\n",
      "Epoch 90/100\n",
      "45/45 [==============================] - 2s 45ms/step - loss: 1579.5859\n",
      "Epoch 91/100\n",
      "45/45 [==============================] - 2s 42ms/step - loss: 1575.9449\n",
      "Epoch 92/100\n",
      "45/45 [==============================] - 2s 44ms/step - loss: 1571.0563\n",
      "Epoch 93/100\n",
      "45/45 [==============================] - 2s 45ms/step - loss: 1567.4232\n",
      "Epoch 94/100\n",
      "45/45 [==============================] - 2s 41ms/step - loss: 1564.3686\n",
      "Epoch 95/100\n",
      "45/45 [==============================] - 2s 39ms/step - loss: 1559.5833\n",
      "Epoch 96/100\n",
      "45/45 [==============================] - 2s 41ms/step - loss: 1555.8762\n",
      "Epoch 97/100\n",
      "45/45 [==============================] - 2s 41ms/step - loss: 1552.4480\n",
      "Epoch 98/100\n",
      "45/45 [==============================] - 2s 47ms/step - loss: 1549.0338\n",
      "Epoch 99/100\n",
      "45/45 [==============================] - 2s 44ms/step - loss: 1545.3966\n",
      "Epoch 100/100\n",
      "45/45 [==============================] - 2s 41ms/step - loss: 1543.2842\n"
     ]
    }
   ],
   "source": [
    "hist = autoencoder.fit(x_train, epochs=100, shuffle=False)"
   ]
  },
  {
   "cell_type": "code",
   "execution_count": 11,
   "metadata": {},
   "outputs": [
    {
     "name": "stdout",
     "output_type": "stream",
     "text": [
      "[124953.1328125, 21670.703125, 11882.5908203125, 10187.7939453125, 7877.626953125, 6564.8349609375, 6255.28369140625, 5999.681640625, 5742.515625, 5433.63330078125, 5046.6533203125, 4534.73095703125, 3946.957763671875, 3567.827880859375, 3380.332763671875, 3235.932861328125, 3121.19677734375, 3007.8125, 2899.8876953125, 2805.24853515625, 2708.806640625, 2624.47216796875, 2552.272705078125, 2488.57568359375, 2439.875, 2394.90673828125, 2357.374267578125, 2324.574462890625, 2298.801513671875, 2271.517333984375, 2240.330810546875, 2220.45166015625, 2195.03076171875, 2171.548583984375, 2148.62744140625, 2132.66259765625, 2128.97119140625, 2131.532470703125, 2130.292724609375, 2067.28076171875, 2048.1611328125, 2028.0469970703125, 2012.2108154296875, 1991.9853515625, 1972.362060546875, 1953.9759521484375, 1937.639892578125, 1923.8017578125, 1913.9569091796875, 1895.4794921875, 1874.028076171875, 1881.1510009765625, 1874.8614501953125, 1859.156982421875, 1865.61962890625, 1863.1571044921875, 1886.9976806640625, 1845.1650390625, 1798.663818359375, 1777.94482421875, 1764.887451171875, 1750.405029296875, 1742.9320068359375, 1733.67138671875, 1728.2637939453125, 1721.8070068359375, 1715.57421875, 1708.9820556640625, 1704.265869140625, 1696.2047119140625, 1688.5379638671875, 1677.6129150390625, 1670.989501953125, 1661.8067626953125, 1655.970947265625, 1649.803955078125, 1643.568603515625, 1637.686279296875, 1631.05126953125, 1626.6463623046875, 1623.2667236328125, 1615.864501953125, 1611.16357421875, 1606.0404052734375, 1602.00927734375, 1599.17138671875, 1593.5408935546875, 1588.7786865234375, 1584.528564453125, 1580.6085205078125, 1576.0311279296875, 1572.77392578125, 1568.1734619140625, 1565.16796875, 1560.7860107421875, 1557.2872314453125, 1553.4322509765625, 1550.433837890625, 1546.4156494140625, 1544.408935546875]\n"
     ]
    },
    {
     "data": {
      "image/png": "[encoded data removed]",
      "text/plain": [
       "<Figure size 432x288 with 1 Axes>"
      ]
     },
     "metadata": {
      "needs_background": "light"
     },
     "output_type": "display_data"
    }
   ],
   "source": [
    "plt.plot(hist.history['loss'][10:])\n",
    "print(hist.history['loss'])\n"
   ]
  },
  {
   "cell_type": "code",
   "execution_count": 12,
   "metadata": {},
   "outputs": [
    {
     "name": "stdout",
     "output_type": "stream",
     "text": [
      "WARNING:tensorflow:Compiled the loaded model, but the compiled metrics have yet to be built. `model.compile_metrics` will be empty until you train or evaluate the model.\n",
      "INFO:tensorflow:Assets written to: ../workfiles/simple_autoencoer_model/assets\n"
     ]
    }
   ],
   "source": [
    "autoencoder.encoder.save('../workfiles/simple_autoencoer_model')\n"
   ]
  },
  {
   "cell_type": "code",
   "execution_count": 13,
   "metadata": {},
   "outputs": [
    {
     "name": "stdout",
     "output_type": "stream",
     "text": [
      "45/45 [==============================] - 1s 15ms/step\n"
     ]
    }
   ],
   "source": [
    "compressed_dataframe = autoencoder.encoder.predict(x_train)"
   ]
  },
  {
   "cell_type": "code",
   "execution_count": 14,
   "metadata": {},
   "outputs": [],
   "source": [
    "df = pd.DataFrame(compressed_dataframe)\n",
    "df[\"name\"] = filenames"
   ]
  },
  {
   "cell_type": "code",
   "execution_count": 15,
   "metadata": {},
   "outputs": [],
   "source": [
    "df.to_csv(\"../workfiles/compressed_data_simple_autoencoder_phase_2.csv\")\n"
   ]
  },
  {
   "cell_type": "code",
   "execution_count": null,
   "metadata": {},
   "outputs": [],
   "source": []
  }
 ],
 "metadata": {
  "kernelspec": {
   "display_name": "Python 3 (ipykernel)",
   "language": "python",
   "name": "python3"
  },
  "language_info": {
   "codemirror_mode": {
    "name": "ipython",
    "version": 3
   },
   "file_extension": ".py",
   "mimetype": "text/x-python",
   "name": "python",
   "nbconvert_exporter": "python",
   "pygments_lexer": "ipython3",
   "version": "3.9.16"
  }
 },
 "nbformat": 4,
 "nbformat_minor": 2
}
