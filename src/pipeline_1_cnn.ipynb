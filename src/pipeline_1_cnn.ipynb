{
 "cells": [
  {
   "cell_type": "code",
   "execution_count": 11,
   "metadata": {},
   "outputs": [],
   "source": [
    "import os\n",
    "import pandas as pd\n",
    "\n",
    "import pathlib\n",
    "import matplotlib.pyplot as plt\n",
    "import numpy as np\n",
    "import tensorflow as tf\n",
    "\n",
    "\n",
    "\n",
    "from tensorflow.keras import layers, losses\n",
    "from tensorflow.keras.models import Model\n",
    "from tensorflow import keras"
   ]
  },
  {
   "cell_type": "code",
   "execution_count": 12,
   "metadata": {},
   "outputs": [],
   "source": [
    "# project specific\n",
    "from utils import data_handler\n",
    "from utils.models import cnn_encoder"
   ]
  },
  {
   "cell_type": "code",
   "execution_count": 13,
   "metadata": {},
   "outputs": [
    {
     "name": "stdout",
     "output_type": "stream",
     "text": [
      "retained phase 2\n",
      "loading samples...\n",
      "loaded 5740 samples\n",
      "number of genes selected :  6161\n"
     ]
    }
   ],
   "source": [
    "x_train, filenames = data_handler.generate_dataset(feature_selection_threshold = 5, retain_phases=\"2\", return_filenames= True)\n",
    "#x_train, filenames = data_handler.generate_dataset(feature_selection_threshold = 0, retain_phases=\"2\", return_filenames= True)"
   ]
  },
  {
   "cell_type": "code",
   "execution_count": 14,
   "metadata": {},
   "outputs": [
    {
     "name": "stdout",
     "output_type": "stream",
     "text": [
      "6161\n"
     ]
    }
   ],
   "source": [
    "latent_dim = 64\n",
    "t_shape = (6161)\n",
    "print(t_shape)\n",
    "\n",
    "autoencoder = cnn_encoder.generate_model(t_shape, latent_dim)\n",
    "autoencoder.compile(optimizer='adam', loss=tf.keras.losses.MeanSquaredError())"
   ]
  },
  {
   "cell_type": "code",
   "execution_count": 15,
   "metadata": {},
   "outputs": [
    {
     "name": "stdout",
     "output_type": "stream",
     "text": [
      "Epoch 1/100\n",
      "45/45 [==============================] - 49s 1s/step - loss: 1407894.6576\n",
      "Epoch 2/100\n",
      "45/45 [==============================] - 55s 1s/step - loss: 1001945.8234\n",
      "Epoch 3/100\n",
      "45/45 [==============================] - 57s 1s/step - loss: 968871.7255\n",
      "Epoch 4/100\n",
      "45/45 [==============================] - 55s 1s/step - loss: 716863.3139\n",
      "Epoch 5/100\n",
      "45/45 [==============================] - 49s 1s/step - loss: 514442.6202\n",
      "Epoch 6/100\n",
      "45/45 [==============================] - 48s 1s/step - loss: 419664.8852\n",
      "Epoch 7/100\n",
      "45/45 [==============================] - 59s 1s/step - loss: 370605.1447\n",
      "Epoch 8/100\n",
      "45/45 [==============================] - 59s 1s/step - loss: 339261.9803\n",
      "Epoch 9/100\n",
      "45/45 [==============================] - 55s 1s/step - loss: 318049.7188\n",
      "Epoch 10/100\n",
      "45/45 [==============================] - 62s 1s/step - loss: 300112.4039\n",
      "Epoch 11/100\n",
      "45/45 [==============================] - 56s 1s/step - loss: 281927.1135\n",
      "Epoch 12/100\n",
      "45/45 [==============================] - 60s 1s/step - loss: 264888.2738\n",
      "Epoch 13/100\n",
      "45/45 [==============================] - 50s 1s/step - loss: 238671.0822\n",
      "Epoch 14/100\n",
      "45/45 [==============================] - 37s 835ms/step - loss: 248765.7673\n",
      "Epoch 15/100\n",
      "45/45 [==============================] - 52s 1s/step - loss: 293107.0910\n",
      "Epoch 16/100\n",
      "45/45 [==============================] - 51s 1s/step - loss: 263740.6223\n",
      "Epoch 17/100\n",
      "45/45 [==============================] - 54s 1s/step - loss: 230738.5968\n",
      "Epoch 18/100\n",
      "45/45 [==============================] - 52s 1s/step - loss: 217261.0302\n",
      "Epoch 19/100\n",
      "45/45 [==============================] - 56s 1s/step - loss: 235795.8152\n",
      "Epoch 20/100\n",
      "45/45 [==============================] - 56s 1s/step - loss: 317153.9708\n",
      "Epoch 21/100\n",
      "45/45 [==============================] - 56s 1s/step - loss: 208241.8240\n",
      "Epoch 22/100\n",
      "45/45 [==============================] - 58s 1s/step - loss: 155620.0761\n",
      "Epoch 23/100\n",
      "45/45 [==============================] - 52s 1s/step - loss: 163009.6914\n",
      "Epoch 24/100\n",
      "45/45 [==============================] - 56s 1s/step - loss: 147237.4813\n",
      "Epoch 25/100\n",
      "45/45 [==============================] - 58s 1s/step - loss: 152169.3444\n",
      "Epoch 26/100\n",
      "45/45 [==============================] - 53s 1s/step - loss: 215904.0778\n",
      "Epoch 27/100\n",
      "45/45 [==============================] - 50s 1s/step - loss: 203467.0228\n",
      "Epoch 28/100\n",
      "45/45 [==============================] - 50s 1s/step - loss: 166631.3821\n",
      "Epoch 29/100\n",
      "45/45 [==============================] - 49s 1s/step - loss: 157632.1486\n",
      "Epoch 30/100\n",
      "45/45 [==============================] - 40s 879ms/step - loss: 157312.0712\n",
      "Epoch 31/100\n",
      "45/45 [==============================] - 43s 966ms/step - loss: 167413.9767\n",
      "Epoch 32/100\n",
      "45/45 [==============================] - 47s 1s/step - loss: 230174.3716\n",
      "Epoch 33/100\n",
      "45/45 [==============================] - 42s 938ms/step - loss: 220308.0798\n",
      "Epoch 34/100\n",
      "45/45 [==============================] - 46s 1s/step - loss: 161646.5948\n",
      "Epoch 35/100\n",
      "45/45 [==============================] - 49s 1s/step - loss: 145998.3575\n",
      "Epoch 36/100\n",
      "45/45 [==============================] - 49s 1s/step - loss: 136486.0569\n",
      "Epoch 37/100\n",
      "45/45 [==============================] - 49s 1s/step - loss: 124913.4030\n",
      "Epoch 38/100\n",
      "45/45 [==============================] - 42s 925ms/step - loss: 118997.7955\n",
      "Epoch 39/100\n",
      "45/45 [==============================] - 49s 1s/step - loss: 119929.6459\n",
      "Epoch 40/100\n",
      "45/45 [==============================] - 50s 1s/step - loss: 112753.7441\n",
      "Epoch 41/100\n",
      "45/45 [==============================] - 47s 1s/step - loss: 113125.6005\n",
      "Epoch 42/100\n",
      "45/45 [==============================] - 56s 1s/step - loss: 136700.1182\n",
      "Epoch 43/100\n",
      "45/45 [==============================] - 50s 1s/step - loss: 158084.6797\n",
      "Epoch 44/100\n",
      "45/45 [==============================] - 55s 1s/step - loss: 155356.0425\n",
      "Epoch 45/100\n",
      "45/45 [==============================] - 42s 931ms/step - loss: 158074.9056\n",
      "Epoch 46/100\n",
      "45/45 [==============================] - 52s 1s/step - loss: 178340.2279\n",
      "Epoch 47/100\n",
      "45/45 [==============================] - 50s 1s/step - loss: 172287.8188\n",
      "Epoch 48/100\n",
      "45/45 [==============================] - 45s 1s/step - loss: 195668.4701\n",
      "Epoch 49/100\n",
      "45/45 [==============================] - 61s 1s/step - loss: 144597.8030\n",
      "Epoch 50/100\n",
      "45/45 [==============================] - 47s 1s/step - loss: 120222.3336\n",
      "Epoch 51/100\n",
      "45/45 [==============================] - 46s 1s/step - loss: 122944.1749\n",
      "Epoch 52/100\n",
      "45/45 [==============================] - 50s 1s/step - loss: 162184.0730\n",
      "Epoch 53/100\n",
      "45/45 [==============================] - 56s 1s/step - loss: 159131.3731\n",
      "Epoch 54/100\n",
      "45/45 [==============================] - 55s 1s/step - loss: 155166.1143\n",
      "Epoch 55/100\n",
      "45/45 [==============================] - 60s 1s/step - loss: 180676.0228\n",
      "Epoch 56/100\n",
      "45/45 [==============================] - 85s 2s/step - loss: 170452.1060\n",
      "Epoch 57/100\n",
      "45/45 [==============================] - 65s 1s/step - loss: 200154.4766\n",
      "Epoch 58/100\n",
      "45/45 [==============================] - 73s 2s/step - loss: 245553.9470\n",
      "Epoch 59/100\n",
      "45/45 [==============================] - 81s 2s/step - loss: 291468.2721\n",
      "Epoch 60/100\n",
      "45/45 [==============================] - 103s 2s/step - loss: 268999.6372\n",
      "Epoch 61/100\n",
      "45/45 [==============================] - 82s 2s/step - loss: 254237.8213\n",
      "Epoch 62/100\n",
      "45/45 [==============================] - 106s 2s/step - loss: 243801.0414\n",
      "Epoch 63/100\n",
      "45/45 [==============================] - 71s 2s/step - loss: 223417.1824\n",
      "Epoch 64/100\n",
      "45/45 [==============================] - 77s 2s/step - loss: 172670.5397\n",
      "Epoch 65/100\n",
      "45/45 [==============================] - 79s 2s/step - loss: 114844.5994\n",
      "Epoch 66/100\n",
      "45/45 [==============================] - 56s 1s/step - loss: 81821.3663\n",
      "Epoch 67/100\n",
      "45/45 [==============================] - 73s 2s/step - loss: 69380.4107\n",
      "Epoch 68/100\n",
      "45/45 [==============================] - 79s 2s/step - loss: 68745.5405\n",
      "Epoch 69/100\n",
      "45/45 [==============================] - 62s 1s/step - loss: 69076.4614\n",
      "Epoch 70/100\n",
      "45/45 [==============================] - 71s 2s/step - loss: 66098.9543\n",
      "Epoch 71/100\n",
      "45/45 [==============================] - 75s 2s/step - loss: 64251.0976\n",
      "Epoch 72/100\n",
      "45/45 [==============================] - 73s 2s/step - loss: 65946.2621\n",
      "Epoch 73/100\n",
      "45/45 [==============================] - 74s 2s/step - loss: 67678.4239\n",
      "Epoch 74/100\n",
      "45/45 [==============================] - 74s 2s/step - loss: 67230.5273\n",
      "Epoch 75/100\n",
      "45/45 [==============================] - 59s 1s/step - loss: 65654.5256\n",
      "Epoch 76/100\n",
      "45/45 [==============================] - 69s 2s/step - loss: 65603.3194\n",
      "Epoch 77/100\n",
      "45/45 [==============================] - 89s 2s/step - loss: 70708.3011\n",
      "Epoch 78/100\n",
      "45/45 [==============================] - 88s 2s/step - loss: 81015.4158\n",
      "Epoch 79/100\n",
      "45/45 [==============================] - 81s 2s/step - loss: 91752.9078\n",
      "Epoch 80/100\n",
      "45/45 [==============================] - 74s 2s/step - loss: 89337.6645\n",
      "Epoch 81/100\n",
      "45/45 [==============================] - 88s 2s/step - loss: 103601.5401\n",
      "Epoch 82/100\n",
      "45/45 [==============================] - 82s 2s/step - loss: 147282.6026\n",
      "Epoch 83/100\n",
      "45/45 [==============================] - 80s 2s/step - loss: 139025.8438\n",
      "Epoch 84/100\n",
      "45/45 [==============================] - 77s 2s/step - loss: 117471.6890\n",
      "Epoch 85/100\n",
      "45/45 [==============================] - 65s 1s/step - loss: 106740.9266\n",
      "Epoch 86/100\n",
      "45/45 [==============================] - 62s 1s/step - loss: 130904.6819\n",
      "Epoch 87/100\n",
      "45/45 [==============================] - 57s 1s/step - loss: 117752.8854\n",
      "Epoch 88/100\n",
      "45/45 [==============================] - 56s 1s/step - loss: 94369.3774\n",
      "Epoch 89/100\n",
      "45/45 [==============================] - 52s 1s/step - loss: 98268.0452\n",
      "Epoch 90/100\n",
      "45/45 [==============================] - 49s 1s/step - loss: 122181.8324\n",
      "Epoch 91/100\n",
      "45/45 [==============================] - 53s 1s/step - loss: 97658.5966\n",
      "Epoch 92/100\n",
      "45/45 [==============================] - 56s 1s/step - loss: 87795.2337\n",
      "Epoch 93/100\n",
      "45/45 [==============================] - 52s 1s/step - loss: 85546.2901\n",
      "Epoch 94/100\n",
      "45/45 [==============================] - 54s 1s/step - loss: 95829.8556\n",
      "Epoch 95/100\n",
      "45/45 [==============================] - 61s 1s/step - loss: 78462.8996\n",
      "Epoch 96/100\n",
      "45/45 [==============================] - 55s 1s/step - loss: 79600.8356\n",
      "Epoch 97/100\n",
      "45/45 [==============================] - 58s 1s/step - loss: 75515.7618\n",
      "Epoch 98/100\n",
      "45/45 [==============================] - 46s 1s/step - loss: 66757.3747\n",
      "Epoch 99/100\n",
      "45/45 [==============================] - 53s 1s/step - loss: 70725.6926\n",
      "Epoch 100/100\n",
      "45/45 [==============================] - 60s 1s/step - loss: 78044.4253\n"
     ]
    }
   ],
   "source": [
    "hist = autoencoder.fit(x_train, epochs=100, shuffle=False)"
   ]
  },
  {
   "cell_type": "code",
   "execution_count": 8,
   "metadata": {},
   "outputs": [],
   "source": [
    "e = iter(x_train).next()"
   ]
  },
  {
   "cell_type": "code",
   "execution_count": 9,
   "metadata": {},
   "outputs": [
    {
     "data": {
      "text/plain": [
       "<tf.Tensor: shape=(22, 5257), dtype=float32, numpy=\n",
       "array([[0., 0., 0., ..., 0., 0., 0.],\n",
       "       [0., 0., 0., ..., 0., 0., 0.],\n",
       "       [0., 0., 0., ..., 0., 0., 0.],\n",
       "       ...,\n",
       "       [0., 0., 0., ..., 0., 0., 0.],\n",
       "       [0., 0., 0., ..., 0., 0., 0.],\n",
       "       [0., 0., 0., ..., 0., 0., 0.]], dtype=float32)>"
      ]
     },
     "execution_count": 9,
     "metadata": {},
     "output_type": "execute_result"
    }
   ],
   "source": [
    "z = autoencoder.encoder(e)\n",
    "autoencoder.decoder(z)"
   ]
  },
  {
   "cell_type": "code",
   "execution_count": 16,
   "metadata": {},
   "outputs": [
    {
     "name": "stdout",
     "output_type": "stream",
     "text": [
      "[1188348.75, 946906.6875, 883796.3125, 638768.25, 482315.71875, 403149.25, 357394.0, 328502.09375, 305864.84375, 287452.0625, 266403.15625, 252978.671875, 229159.25, 236902.75, 293389.9375, 229193.015625, 207590.171875, 208913.703125, 209363.421875, 282245.625, 187396.90625, 150685.359375, 146908.484375, 136450.484375, 146387.59375, 196551.421875, 207067.1875, 193026.09375, 150136.78125, 172216.421875, 192640.484375, 228816.921875, 172839.65625, 142000.078125, 130219.5078125, 127134.859375, 131253.8125, 126075.8046875, 115890.0703125, 119033.6015625, 140129.5, 155573.546875, 153240.671875, 137197.53125, 146659.296875, 164056.96875, 194008.1875, 196849.796875, 139113.875, 135691.640625, 119219.3203125, 152934.765625, 157028.296875, 193140.96875, 168660.34375, 192952.953125, 226522.765625, 239812.28125, 206788.6875, 248561.1875, 254594.71875, 236479.9375, 191398.671875, 153513.90625, 109576.671875, 79996.2421875, 69649.1796875, 69264.3515625, 69927.6875, 67708.203125, 65434.26953125, 66151.0, 67788.6328125, 68434.40625, 66994.6015625, 66759.296875, 71488.7890625, 81825.875, 94000.578125, 95003.7109375, 108427.671875, 149089.625, 145741.328125, 116013.1484375, 107374.71875, 118010.4453125, 104126.4296875, 107383.6796875, 102198.9140625, 121468.4296875, 100845.7890625, 82934.765625, 84061.921875, 93590.4140625, 78422.984375, 81977.2734375, 78471.7578125, 66042.4453125, 69573.015625, 77507.6328125]\n"
     ]
    },
    {
     "data": {
      "image/png": "[encoded data removed]",
      "text/plain": [
       "<Figure size 432x288 with 1 Axes>"
      ]
     },
     "metadata": {
      "needs_background": "light"
     },
     "output_type": "display_data"
    }
   ],
   "source": [
    "plt.plot(hist.history['loss'][1:])\n",
    "print(hist.history['loss'])\n"
   ]
  },
  {
   "cell_type": "code",
   "execution_count": 17,
   "metadata": {},
   "outputs": [
    {
     "name": "stdout",
     "output_type": "stream",
     "text": [
      "WARNING:tensorflow:Compiled the loaded model, but the compiled metrics have yet to be built. `model.compile_metrics` will be empty until you train or evaluate the model.\n"
     ]
    },
    {
     "name": "stderr",
     "output_type": "stream",
     "text": [
      "WARNING:absl:Found untraced functions such as _jit_compiled_convolution_op, _jit_compiled_convolution_op, _jit_compiled_convolution_op while saving (showing 3 of 3). These functions will not be directly callable after loading.\n"
     ]
    },
    {
     "name": "stdout",
     "output_type": "stream",
     "text": [
      "INFO:tensorflow:Assets written to: ../workfiles/cnn_autoencoer_model/assets\n"
     ]
    },
    {
     "name": "stderr",
     "output_type": "stream",
     "text": [
      "INFO:tensorflow:Assets written to: ../workfiles/cnn_autoencoer_model/assets\n"
     ]
    }
   ],
   "source": [
    "autoencoder.encoder.save('../workfiles/cnn_autoencoer_model')\n"
   ]
  },
  {
   "cell_type": "code",
   "execution_count": 18,
   "metadata": {},
   "outputs": [
    {
     "name": "stdout",
     "output_type": "stream",
     "text": [
      "45/45 [==============================] - 2s 45ms/step\n"
     ]
    }
   ],
   "source": [
    "compressed_dataframe = autoencoder.encoder.predict(x_train)"
   ]
  },
  {
   "cell_type": "code",
   "execution_count": 19,
   "metadata": {},
   "outputs": [],
   "source": [
    "df = pd.DataFrame(compressed_dataframe)\n",
    "df[\"name\"] = filenames"
   ]
  },
  {
   "cell_type": "code",
   "execution_count": 20,
   "metadata": {},
   "outputs": [],
   "source": [
    "df.to_csv(\"../workfiles/compressed_data_cnn_autoencoder_phase_2.csv\")\n"
   ]
  },
  {
   "cell_type": "code",
   "execution_count": null,
   "metadata": {},
   "outputs": [],
   "source": []
  }
 ],
 "metadata": {
  "kernelspec": {
   "display_name": "Python 3 (ipykernel)",
   "language": "python",
   "name": "python3"
  },
  "language_info": {
   "codemirror_mode": {
    "name": "ipython",
    "version": 3
   },
   "file_extension": ".py",
   "mimetype": "text/x-python",
   "name": "python",
   "nbconvert_exporter": "python",
   "pygments_lexer": "ipython3",
   "version": "3.9.16"
  }
 },
 "nbformat": 4,
 "nbformat_minor": 2
}
