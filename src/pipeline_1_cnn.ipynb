{
 "cells": [
  {
   "cell_type": "code",
   "execution_count": 1,
   "metadata": {},
   "outputs": [],
   "source": [
    "import os\n",
    "import pandas as pd\n",
    "\n",
    "import pathlib\n",
    "import matplotlib.pyplot as plt\n",
    "import numpy as np\n",
    "import tensorflow as tf\n",
    "\n",
    "\n",
    "\n",
    "from tensorflow.keras import layers, losses\n",
    "from tensorflow.keras.models import Model\n",
    "from tensorflow import keras"
   ]
  },
  {
   "cell_type": "code",
   "execution_count": 2,
   "metadata": {},
   "outputs": [],
   "source": [
    "# project specific\n",
    "from utils import data_handler\n",
    "from utils.models import cnn_encoder"
   ]
  },
  {
   "cell_type": "code",
   "execution_count": 3,
   "metadata": {},
   "outputs": [
    {
     "name": "stdout",
     "output_type": "stream",
     "text": [
      "retained phase 2\n",
      "loading samples...\n",
      "loaded 5740 samples\n",
      "number of genes selected :  6161\n"
     ]
    }
   ],
   "source": [
    "x_train, filenames = data_handler.generate_dataset(feature_selection_threshold = 5, retain_phases=\"2\", return_filenames= True)\n",
    "#x_train, filenames = data_handler.generate_dataset(feature_selection_threshold = 0, retain_phases=\"2\", return_filenames= True)"
   ]
  },
  {
   "cell_type": "code",
   "execution_count": 4,
   "metadata": {},
   "outputs": [
    {
     "name": "stdout",
     "output_type": "stream",
     "text": [
      "6161\n"
     ]
    }
   ],
   "source": [
    "latent_dim = 64\n",
    "t_shape = (6161)\n",
    "print(t_shape)\n",
    "\n",
    "autoencoder = cnn_encoder.generate_model(t_shape, latent_dim)\n",
    "autoencoder.compile(optimizer='adam', loss=tf.keras.losses.MeanSquaredError())"
   ]
  },
  {
   "cell_type": "code",
   "execution_count": 5,
   "metadata": {},
   "outputs": [
    {
     "name": "stdout",
     "output_type": "stream",
     "text": [
      "Epoch 1/100\n"
     ]
    },
    {
     "name": "stderr",
     "output_type": "stream",
     "text": [
      "2023-07-18 11:43:11.946131: W tensorflow/tsl/platform/profile_utils/cpu_utils.cc:128] Failed to get CPU frequency: 0 Hz\n"
     ]
    },
    {
     "name": "stdout",
     "output_type": "stream",
     "text": [
      "45/45 [==============================] - 9s 178ms/step - loss: 1424453.2853\n",
      "Epoch 2/100\n",
      "45/45 [==============================] - 8s 169ms/step - loss: 1008318.8832\n",
      "Epoch 3/100\n",
      "45/45 [==============================] - 8s 177ms/step - loss: 1000233.1508\n",
      "Epoch 4/100\n",
      "45/45 [==============================] - 7s 156ms/step - loss: 997495.3410\n",
      "Epoch 5/100\n",
      "45/45 [==============================] - 8s 172ms/step - loss: 995297.4986\n",
      "Epoch 6/100\n",
      "45/45 [==============================] - 7s 159ms/step - loss: 993841.1399\n",
      "Epoch 7/100\n",
      "45/45 [==============================] - 7s 163ms/step - loss: 992196.6590\n",
      "Epoch 8/100\n",
      "45/45 [==============================] - 7s 165ms/step - loss: 990469.4810\n",
      "Epoch 9/100\n",
      "45/45 [==============================] - 8s 166ms/step - loss: 988010.8641\n",
      "Epoch 10/100\n",
      "45/45 [==============================] - 8s 168ms/step - loss: 984022.2351\n",
      "Epoch 11/100\n",
      "45/45 [==============================] - 9s 192ms/step - loss: 975931.8465\n",
      "Epoch 12/100\n",
      "45/45 [==============================] - 8s 184ms/step - loss: 955959.8668\n",
      "Epoch 13/100\n",
      "45/45 [==============================] - 8s 180ms/step - loss: 894778.0380\n",
      "Epoch 14/100\n",
      "45/45 [==============================] - 8s 177ms/step - loss: 673040.6943\n",
      "Epoch 15/100\n",
      "45/45 [==============================] - 8s 182ms/step - loss: 451142.7901\n",
      "Epoch 16/100\n",
      "45/45 [==============================] - 8s 177ms/step - loss: 368920.4205\n",
      "Epoch 17/100\n",
      "45/45 [==============================] - 8s 178ms/step - loss: 343358.9280\n",
      "Epoch 18/100\n",
      "45/45 [==============================] - 9s 201ms/step - loss: 326492.6216\n",
      "Epoch 19/100\n",
      "45/45 [==============================] - 8s 182ms/step - loss: 312397.9321\n",
      "Epoch 20/100\n",
      "45/45 [==============================] - 8s 182ms/step - loss: 299524.4633\n",
      "Epoch 21/100\n",
      "45/45 [==============================] - 8s 178ms/step - loss: 287507.1080\n",
      "Epoch 22/100\n",
      "45/45 [==============================] - 8s 181ms/step - loss: 276124.9300\n",
      "Epoch 23/100\n",
      "45/45 [==============================] - 8s 181ms/step - loss: 265537.0360\n",
      "Epoch 24/100\n",
      "45/45 [==============================] - 10s 214ms/step - loss: 255742.9684\n",
      "Epoch 25/100\n",
      "45/45 [==============================] - 11s 241ms/step - loss: 246380.8064\n",
      "Epoch 26/100\n",
      "45/45 [==============================] - 9s 199ms/step - loss: 236673.7466\n",
      "Epoch 27/100\n",
      "45/45 [==============================] - 8s 170ms/step - loss: 227710.7612\n",
      "Epoch 28/100\n",
      "45/45 [==============================] - 8s 173ms/step - loss: 218778.9107\n",
      "Epoch 29/100\n",
      "45/45 [==============================] - 8s 177ms/step - loss: 211079.7276\n",
      "Epoch 30/100\n",
      "45/45 [==============================] - 8s 175ms/step - loss: 201881.6678\n",
      "Epoch 31/100\n",
      "45/45 [==============================] - 8s 179ms/step - loss: 193052.8692\n",
      "Epoch 32/100\n",
      "45/45 [==============================] - 9s 190ms/step - loss: 185488.7320\n",
      "Epoch 33/100\n",
      "45/45 [==============================] - 8s 176ms/step - loss: 177270.4901\n",
      "Epoch 34/100\n",
      "45/45 [==============================] - 8s 181ms/step - loss: 169841.8862\n",
      "Epoch 35/100\n",
      "45/45 [==============================] - 8s 177ms/step - loss: 164316.7510\n",
      "Epoch 36/100\n",
      "45/45 [==============================] - 9s 189ms/step - loss: 158487.6722\n",
      "Epoch 37/100\n",
      "45/45 [==============================] - 8s 175ms/step - loss: 154852.6766\n",
      "Epoch 38/100\n",
      "45/45 [==============================] - 8s 184ms/step - loss: 153350.9046\n",
      "Epoch 39/100\n",
      "45/45 [==============================] - 8s 184ms/step - loss: 145514.7821\n",
      "Epoch 40/100\n",
      "45/45 [==============================] - 9s 195ms/step - loss: 140145.1180\n",
      "Epoch 41/100\n",
      "45/45 [==============================] - 9s 185ms/step - loss: 133150.3471\n",
      "Epoch 42/100\n",
      "45/45 [==============================] - 8s 179ms/step - loss: 130037.2993\n",
      "Epoch 43/100\n",
      "45/45 [==============================] - 8s 186ms/step - loss: 126464.3916\n",
      "Epoch 44/100\n",
      "45/45 [==============================] - 8s 173ms/step - loss: 119986.6296\n",
      "Epoch 45/100\n",
      "45/45 [==============================] - 8s 176ms/step - loss: 122566.0112\n",
      "Epoch 46/100\n",
      "45/45 [==============================] - 8s 184ms/step - loss: 115744.1505\n",
      "Epoch 47/100\n",
      "45/45 [==============================] - 9s 192ms/step - loss: 111935.0185\n",
      "Epoch 48/100\n",
      "45/45 [==============================] - 8s 179ms/step - loss: 112017.2480\n",
      "Epoch 49/100\n",
      "45/45 [==============================] - 8s 184ms/step - loss: 104351.0630\n",
      "Epoch 50/100\n",
      "45/45 [==============================] - 8s 180ms/step - loss: 106459.3991\n",
      "Epoch 51/100\n",
      "45/45 [==============================] - 8s 187ms/step - loss: 104955.8643\n",
      "Epoch 52/100\n",
      "45/45 [==============================] - 8s 185ms/step - loss: 105054.4545\n",
      "Epoch 53/100\n",
      "45/45 [==============================] - 8s 184ms/step - loss: 121576.4630\n",
      "Epoch 54/100\n",
      "45/45 [==============================] - 9s 196ms/step - loss: 131128.4815\n",
      "Epoch 55/100\n",
      "45/45 [==============================] - 8s 179ms/step - loss: 112301.9497\n",
      "Epoch 56/100\n",
      "45/45 [==============================] - 8s 179ms/step - loss: 108601.4490\n",
      "Epoch 57/100\n",
      "45/45 [==============================] - 8s 182ms/step - loss: 112454.7804\n",
      "Epoch 58/100\n",
      "45/45 [==============================] - 9s 192ms/step - loss: 123174.4107\n",
      "Epoch 59/100\n",
      "45/45 [==============================] - 8s 189ms/step - loss: 102854.9134\n",
      "Epoch 60/100\n",
      "45/45 [==============================] - 9s 189ms/step - loss: 89105.9587\n",
      "Epoch 61/100\n",
      "45/45 [==============================] - 9s 205ms/step - loss: 84728.2014\n",
      "Epoch 62/100\n",
      "45/45 [==============================] - 9s 190ms/step - loss: 81721.7892\n",
      "Epoch 63/100\n",
      "45/45 [==============================] - 9s 200ms/step - loss: 79339.5713\n",
      "Epoch 64/100\n",
      "45/45 [==============================] - 9s 200ms/step - loss: 81889.9881\n",
      "Epoch 65/100\n",
      "45/45 [==============================] - 10s 215ms/step - loss: 90260.0245\n",
      "Epoch 66/100\n",
      "45/45 [==============================] - 8s 189ms/step - loss: 91427.7296\n",
      "Epoch 67/100\n",
      "45/45 [==============================] - 9s 190ms/step - loss: 86729.1371\n",
      "Epoch 68/100\n",
      "45/45 [==============================] - 9s 194ms/step - loss: 86243.3782\n",
      "Epoch 69/100\n",
      "45/45 [==============================] - 8s 186ms/step - loss: 99498.7087\n",
      "Epoch 70/100\n",
      "45/45 [==============================] - 8s 181ms/step - loss: 107684.8787\n",
      "Epoch 71/100\n",
      "45/45 [==============================] - 8s 184ms/step - loss: 94639.1024\n",
      "Epoch 72/100\n",
      "45/45 [==============================] - 9s 191ms/step - loss: 92651.1980\n",
      "Epoch 73/100\n",
      "45/45 [==============================] - 8s 184ms/step - loss: 87676.5299\n",
      "Epoch 74/100\n",
      "45/45 [==============================] - 8s 188ms/step - loss: 82540.4062\n",
      "Epoch 75/100\n",
      "45/45 [==============================] - 9s 211ms/step - loss: 75839.6710\n",
      "Epoch 76/100\n",
      "45/45 [==============================] - 9s 190ms/step - loss: 76070.3460\n",
      "Epoch 77/100\n",
      "45/45 [==============================] - 9s 187ms/step - loss: 68695.9341\n",
      "Epoch 78/100\n",
      "45/45 [==============================] - 8s 187ms/step - loss: 65647.5094\n",
      "Epoch 79/100\n",
      "45/45 [==============================] - 9s 189ms/step - loss: 64642.7418\n",
      "Epoch 80/100\n",
      "45/45 [==============================] - 10s 214ms/step - loss: 66375.9723\n",
      "Epoch 81/100\n",
      "45/45 [==============================] - 9s 210ms/step - loss: 66175.4167\n",
      "Epoch 82/100\n",
      "45/45 [==============================] - 11s 242ms/step - loss: 66465.4380\n",
      "Epoch 83/100\n",
      "45/45 [==============================] - 10s 227ms/step - loss: 65219.2124\n",
      "Epoch 84/100\n",
      "45/45 [==============================] - 11s 241ms/step - loss: 64775.8745\n",
      "Epoch 85/100\n",
      "45/45 [==============================] - 11s 239ms/step - loss: 66535.9156\n",
      "Epoch 86/100\n",
      "45/45 [==============================] - 10s 212ms/step - loss: 73831.1675\n",
      "Epoch 87/100\n",
      "45/45 [==============================] - 10s 220ms/step - loss: 70209.6780\n",
      "Epoch 88/100\n",
      "45/45 [==============================] - 11s 237ms/step - loss: 71603.8786\n",
      "Epoch 89/100\n",
      "45/45 [==============================] - 10s 212ms/step - loss: 70960.9253\n",
      "Epoch 90/100\n",
      "45/45 [==============================] - 9s 205ms/step - loss: 71200.6133\n",
      "Epoch 91/100\n",
      "45/45 [==============================] - 10s 214ms/step - loss: 79294.3108\n",
      "Epoch 92/100\n",
      "45/45 [==============================] - 10s 212ms/step - loss: 73035.9788\n",
      "Epoch 93/100\n",
      "45/45 [==============================] - 10s 212ms/step - loss: 73329.1987\n",
      "Epoch 94/100\n",
      "45/45 [==============================] - 11s 237ms/step - loss: 72932.0260\n",
      "Epoch 95/100\n",
      "45/45 [==============================] - 10s 212ms/step - loss: 71434.8432\n",
      "Epoch 96/100\n",
      "45/45 [==============================] - 9s 203ms/step - loss: 77947.4348\n",
      "Epoch 97/100\n",
      "45/45 [==============================] - 10s 216ms/step - loss: 75045.9224\n",
      "Epoch 98/100\n",
      "45/45 [==============================] - 9s 210ms/step - loss: 66335.4010\n",
      "Epoch 99/100\n",
      "45/45 [==============================] - 10s 212ms/step - loss: 62690.4280\n",
      "Epoch 100/100\n",
      "45/45 [==============================] - 10s 219ms/step - loss: 66631.4760\n"
     ]
    }
   ],
   "source": [
    "hist = autoencoder.fit(x_train, epochs=100, shuffle=False)"
   ]
  },
  {
   "cell_type": "code",
   "execution_count": 6,
   "metadata": {},
   "outputs": [
    {
     "data": {
      "text/plain": [
       "<tf.Tensor: shape=(64, 6161), dtype=float32, numpy=\n",
       "array([[  28.0786,   48.2889,   31.8768, ...,   21.601 ,   14.5302,\n",
       "          43.2891],\n",
       "       [  34.8483,   55.0274,   36.8456, ...,   28.7308,   33.4212,\n",
       "          42.899 ],\n",
       "       [  31.6444,   57.4141,   41.5785, ...,   37.2859,   22.7498,\n",
       "          95.4406],\n",
       "       ...,\n",
       "       [  29.2446,   57.8746,   54.0729, ...,   83.0774,   39.6068,\n",
       "         172.727 ],\n",
       "       [  42.2485,   58.0206,   36.2277, ...,   65.3682,   19.7801,\n",
       "         115.36  ],\n",
       "       [1085.74  ,   54.7478,   37.7932, ...,   68.5695,   75.1809,\n",
       "         106.025 ]], dtype=float32)>"
      ]
     },
     "execution_count": 6,
     "metadata": {},
     "output_type": "execute_result"
    }
   ],
   "source": [
    "e = iter(x_train).next()\n",
    "e\n"
   ]
  },
  {
   "cell_type": "code",
   "execution_count": 7,
   "metadata": {},
   "outputs": [
    {
     "data": {
      "text/plain": [
       "<tf.Tensor: shape=(64, 64), dtype=float32, numpy=\n",
       "array([[0.0000000e+00, 1.1011568e+00, 8.5003336e-24, ..., 5.6258583e-33,\n",
       "        6.5438644e+01, 0.0000000e+00],\n",
       "       [0.0000000e+00, 8.4733200e+01, 1.3865252e-31, ..., 0.0000000e+00,\n",
       "        5.2268614e-14, 0.0000000e+00],\n",
       "       [0.0000000e+00, 1.2151521e+01, 0.0000000e+00, ..., 0.0000000e+00,\n",
       "        0.0000000e+00, 2.0064553e-29],\n",
       "       ...,\n",
       "       [5.5866787e-33, 5.3734863e+01, 4.0491797e-14, ..., 1.0285117e-18,\n",
       "        5.3045254e+01, 3.3808381e-09],\n",
       "       [1.8548418e-27, 6.9199547e+01, 6.2420300e-17, ..., 0.0000000e+00,\n",
       "        9.0398363e-15, 0.0000000e+00],\n",
       "       [0.0000000e+00, 1.0115930e+02, 3.0693047e-25, ..., 0.0000000e+00,\n",
       "        0.0000000e+00, 0.0000000e+00]], dtype=float32)>"
      ]
     },
     "execution_count": 7,
     "metadata": {},
     "output_type": "execute_result"
    }
   ],
   "source": [
    "z = autoencoder.encoder(e)\n",
    "z"
   ]
  },
  {
   "cell_type": "code",
   "execution_count": null,
   "metadata": {},
   "outputs": [],
   "source": [
    "\n"
   ]
  },
  {
   "cell_type": "code",
   "execution_count": 8,
   "metadata": {},
   "outputs": [
    {
     "name": "stdout",
     "output_type": "stream",
     "text": [
      "tf.Tensor(\n",
      "[[0. 0. 0. ... 0. 0. 0.]\n",
      " [0. 0. 0. ... 0. 0. 0.]\n",
      " [0. 0. 0. ... 0. 0. 0.]\n",
      " ...\n",
      " [0. 0. 0. ... 0. 0. 0.]\n",
      " [0. 0. 0. ... 0. 0. 0.]\n",
      " [0. 0. 0. ... 0. 0. 0.]], shape=(64, 6161), dtype=float32)\n"
     ]
    }
   ],
   "source": [
    "print(autoencoder.decoder(z))"
   ]
  },
  {
   "cell_type": "code",
   "execution_count": 9,
   "metadata": {},
   "outputs": [
    {
     "name": "stdout",
     "output_type": "stream",
     "text": [
      "[1211144.25, 953198.9375, 947479.1875, 944472.125, 942645.8125, 941247.9375, 939634.625, 937941.375, 935496.4375, 931348.8125, 922590.0, 900563.5625, 810327.25, 599375.5, 431813.4375, 368441.03125, 344347.34375, 327300.96875, 312775.75, 299397.59375, 287079.25, 275383.90625, 264819.1875, 254250.265625, 245210.484375, 234768.5, 226493.59375, 217281.296875, 209283.59375, 200440.78125, 191563.0, 183957.09375, 175832.15625, 168411.484375, 162510.828125, 155873.0625, 151417.6875, 148366.96875, 140269.578125, 137202.546875, 129433.953125, 126925.5546875, 121771.6953125, 115509.8671875, 115700.6640625, 111652.59375, 109948.296875, 107036.890625, 101962.2265625, 104581.0390625, 101914.625, 104946.609375, 117725.9609375, 125370.796875, 120136.1171875, 106526.46875, 106307.5234375, 115286.7109375, 97679.765625, 89668.2265625, 83832.265625, 82118.078125, 80811.9609375, 81761.6875, 82192.5546875, 86940.7265625, 85472.2890625, 86399.7109375, 96263.8046875, 99726.125, 98678.734375, 98077.03125, 89422.7265625, 80023.3359375, 74231.375, 72332.5859375, 68063.34375, 65612.1171875, 64272.71875, 64685.82421875, 64517.0390625, 65627.2890625, 65752.7421875, 64648.3515625, 65008.26171875, 68678.53125, 66294.1484375, 68086.9609375, 69075.765625, 66588.3046875, 78562.515625, 72951.40625, 78526.7734375, 71387.8671875, 79300.0546875, 82990.4921875, 78230.625, 67941.3828125, 65455.58203125, 70204.21875]\n"
     ]
    },
    {
     "data": {
      "image/png": "[encoded data removed]",
      "text/plain": [
       "<Figure size 432x288 with 1 Axes>"
      ]
     },
     "metadata": {
      "needs_background": "light"
     },
     "output_type": "display_data"
    }
   ],
   "source": [
    "plt.plot(hist.history['loss'][1:])\n",
    "print(hist.history['loss'])\n"
   ]
  },
  {
   "cell_type": "code",
   "execution_count": 8,
   "metadata": {},
   "outputs": [
    {
     "name": "stdout",
     "output_type": "stream",
     "text": [
      "WARNING:tensorflow:Compiled the loaded model, but the compiled metrics have yet to be built. `model.compile_metrics` will be empty until you train or evaluate the model.\n"
     ]
    },
    {
     "name": "stderr",
     "output_type": "stream",
     "text": [
      "WARNING:absl:Found untraced functions such as _jit_compiled_convolution_op, _jit_compiled_convolution_op while saving (showing 2 of 2). These functions will not be directly callable after loading.\n"
     ]
    },
    {
     "name": "stdout",
     "output_type": "stream",
     "text": [
      "INFO:tensorflow:Assets written to: ../workfiles/cnn_autoencoer_model/assets\n"
     ]
    },
    {
     "name": "stderr",
     "output_type": "stream",
     "text": [
      "INFO:tensorflow:Assets written to: ../workfiles/cnn_autoencoer_model/assets\n"
     ]
    }
   ],
   "source": [
    "autoencoder.encoder.save('../workfiles/cnn_autoencoer_model')\n"
   ]
  },
  {
   "cell_type": "code",
   "execution_count": 9,
   "metadata": {},
   "outputs": [
    {
     "name": "stdout",
     "output_type": "stream",
     "text": [
      "45/45 [==============================] - 1s 26ms/step\n"
     ]
    }
   ],
   "source": [
    "compressed_dataframe = autoencoder.encoder.predict(x_train)"
   ]
  },
  {
   "cell_type": "code",
   "execution_count": 10,
   "metadata": {},
   "outputs": [],
   "source": [
    "df = pd.DataFrame(compressed_dataframe)\n",
    "df[\"name\"] = filenames"
   ]
  },
  {
   "cell_type": "code",
   "execution_count": 11,
   "metadata": {},
   "outputs": [],
   "source": [
    "df.to_csv(\"../workfiles/compressed_data_cnn_autoencoder_phase_2.csv\")\n"
   ]
  },
  {
   "cell_type": "code",
   "execution_count": null,
   "metadata": {},
   "outputs": [],
   "source": []
  }
 ],
 "metadata": {
  "kernelspec": {
   "display_name": "Python 3 (ipykernel)",
   "language": "python",
   "name": "python3"
  },
  "language_info": {
   "codemirror_mode": {
    "name": "ipython",
    "version": 3
   },
   "file_extension": ".py",
   "mimetype": "text/x-python",
   "name": "python",
   "nbconvert_exporter": "python",
   "pygments_lexer": "ipython3",
   "version": "3.9.16"
  }
 },
 "nbformat": 4,
 "nbformat_minor": 2
}
