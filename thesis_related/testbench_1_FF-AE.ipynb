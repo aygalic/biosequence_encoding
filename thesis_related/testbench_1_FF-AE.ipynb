{
 "cells": [
  {
   "cell_type": "code",
   "execution_count": null,
   "metadata": {},
   "outputs": [],
   "source": [
    "import os\n",
    "import sys\n",
    "import pandas as pd\n",
    "import datetime\n",
    "\n",
    "import pathlib\n",
    "import matplotlib.pyplot as plt\n",
    "import numpy as np\n",
    "import tensorflow as tf\n",
    "import importlib\n",
    "\n",
    "\n",
    "from tensorflow.keras import layers, losses\n",
    "from tensorflow.keras.models import Model\n",
    "from tensorflow import keras\n",
    "from tensorflow.keras import callbacks  \n",
    "\n",
    "# project specific\n",
    "sys.path.append('../src')\n",
    "from utils import data_handler\n",
    "from utils import benchmark\n",
    "from utils import visualisation\n",
    "from utils.models import vanilla_autoencoder\n",
    "\n",
    "\n",
    "import seaborn as sns\n",
    "import matplotlib.pyplot as plt\n",
    "from tensorflow.python.ops.numpy_ops import np_config\n",
    "np_config.enable_numpy_behavior()\n",
    "\n",
    "import plotly.express as px\n",
    "import plotly.subplots as sp\n",
    "import plotly.graph_objs as go\n",
    "\n",
    "pd.options.display.width = 1000\n",
    "\n",
    "\n",
    "# Silhouette score of original groups\n",
    "from sklearn.metrics import silhouette_score\n",
    "from utils.benchmark import dunn_index\n",
    "from utils.benchmark import davies_bouldin\n",
    "\n",
    "from sklearn.cluster import KMeans\n",
    "\n",
    "import helpers\n",
    "import pickle\n",
    "\n",
    "%load_ext tensorboard\n",
    "!rm -rf ../workfiles/logs/"
   ]
  },
  {
   "cell_type": "markdown",
   "metadata": {},
   "source": [
    "## Experiment "
   ]
  },
  {
   "cell_type": "code",
   "execution_count": null,
   "metadata": {},
   "outputs": [],
   "source": [
    "with open('../workfiles/combined_ds_experiment_1.pkl', 'rb') as f:\n",
    "    data, metadata = pickle.load(f)"
   ]
  },
  {
   "cell_type": "code",
   "execution_count": null,
   "metadata": {},
   "outputs": [],
   "source": [
    "with open('../workfiles/combined_ds_experiment_2.pkl', 'rb') as f:\n",
    "    data, metadata = pickle.load(f)"
   ]
  },
  {
   "cell_type": "code",
   "execution_count": null,
   "metadata": {},
   "outputs": [],
   "source": [
    "with open('../workfiles/combined_ds_experiment_3.pkl', 'rb') as f:\n",
    "    data, metadata = pickle.load(f)"
   ]
  },
  {
   "cell_type": "code",
   "execution_count": null,
   "metadata": {},
   "outputs": [],
   "source": [
    "seq_names = metadata[\"seq_names\"]\n",
    "n_genes = metadata[\"n_features\"]\n",
    "gene_names = metadata[\"feature_names\"] "
   ]
  },
  {
   "cell_type": "markdown",
   "metadata": {},
   "source": [
    "## End of experiment selection"
   ]
  },
  {
   "cell_type": "code",
   "execution_count": null,
   "metadata": {},
   "outputs": [],
   "source": [
    "importlib.reload(vanilla_autoencoder) # to allow modification of the script without restarting the whole session\n",
    "\n",
    "latent_dim = 16\n",
    "\n",
    "t_shape = (n_genes)\n",
    "\n",
    "\n",
    "autoencoder = vanilla_autoencoder.generate_model(t_shape, latent_dim)\n",
    "autoencoder.compile(optimizer='adam', loss=tf.keras.losses.MeanSquaredError())"
   ]
  },
  {
   "cell_type": "code",
   "execution_count": null,
   "metadata": {},
   "outputs": [],
   "source": [
    "checkpoint_filepath = '../workfiles/simple_ae/checkpoint'\n",
    "model_checkpoint_callback = callbacks.ModelCheckpoint(\n",
    "    filepath=checkpoint_filepath,\n",
    "    save_weights_only=True,\n",
    "    monitor='loss',\n",
    "    mode='min',\n",
    "    save_best_only=True)\n",
    "\n",
    "\n",
    "reduce_lr = callbacks.ReduceLROnPlateau(monitor='loss', factor=0.2,\n",
    "                              patience=20, min_lr=0.00001)\n",
    "\n",
    "early_stopping_callback = callbacks.EarlyStopping(monitor='loss', patience=70)\n",
    "\n",
    "\n",
    "log_dir = \"../workfiles/logs/fit/\" + datetime.datetime.now().strftime(\"%Y%m%d-%H%M%S\")\n",
    "tensorboard_callback = callbacks.TensorBoard(log_dir=log_dir, histogram_freq=1)\n",
    "\n",
    "cb = [model_checkpoint_callback, reduce_lr, early_stopping_callback, tensorboard_callback]"
   ]
  },
  {
   "cell_type": "code",
   "execution_count": null,
   "metadata": {},
   "outputs": [],
   "source": [
    "hist = autoencoder.fit(data, epochs=500, callbacks=cb) "
   ]
  },
  {
   "cell_type": "code",
   "execution_count": null,
   "metadata": {},
   "outputs": [],
   "source": [
    "autoencoder.load_weights(checkpoint_filepath)\n"
   ]
  },
  {
   "cell_type": "code",
   "execution_count": null,
   "metadata": {},
   "outputs": [],
   "source": [
    "importlib.reload(benchmark) # to allow modification of the script without restarting the whole session\n",
    "benchmark.benchmark(autoencoder, data, metadata)"
   ]
  },
  {
   "cell_type": "code",
   "execution_count": null,
   "metadata": {},
   "outputs": [],
   "source": [
    "plt.plot(hist.history['loss'])\n",
    "print(hist.history['loss'])"
   ]
  },
  {
   "cell_type": "markdown",
   "metadata": {},
   "source": [
    "### some diagnosis"
   ]
  },
  {
   "cell_type": "code",
   "execution_count": null,
   "metadata": {},
   "outputs": [],
   "source": [
    "importlib.reload(visualisation) # to allow modification of the script without restarting the whole session\n",
    "visualisation.plot_single_obs_processing(data, autoencoder)"
   ]
  },
  {
   "cell_type": "code",
   "execution_count": null,
   "metadata": {},
   "outputs": [],
   "source": [
    "compressed_dataframe = autoencoder.encoder.predict(data)"
   ]
  },
  {
   "cell_type": "code",
   "execution_count": null,
   "metadata": {},
   "outputs": [],
   "source": [
    "df = pd.DataFrame(compressed_dataframe)\n",
    "df[\"name\"] = metadata[\"seq_names\"]"
   ]
  },
  {
   "cell_type": "code",
   "execution_count": null,
   "metadata": {},
   "outputs": [],
   "source": [
    "importlib.reload(visualisation) # to allow modification of the script without restarting the whole session\n",
    "visualisation.plot_dataset_processing(data, autoencoder)"
   ]
  },
  {
   "cell_type": "code",
   "execution_count": null,
   "metadata": {},
   "outputs": [],
   "source": [
    "metadata_path = \"../../METADATA_200123.xlsx\"\n",
    "\n",
    "meta_data = pd.read_excel(metadata_path, header = 1, usecols = range(1,10) )\n",
    "patient_ids = [int(name.split(\".\")[1]) for name in seq_names]\n",
    "\n",
    "# Create a dictionary to map 'Patient Number' to 'Disease Status'\n",
    "patient_disease_status = dict(zip(meta_data['Patient Number'], meta_data['Disease Status']))\n",
    "\n",
    "label = [patient_disease_status.get(patient_id, None) for patient_id in patient_ids]\n",
    "label = pd.Series(label)\n",
    "num_classes = len(pd.Series(label).unique())\n",
    "\n",
    "# helper for filtering data\n",
    "clinical_info_series = pd.Series(label)\n",
    "filenames_series = pd.Series(seq_names)\n"
   ]
  },
  {
   "cell_type": "markdown",
   "metadata": {},
   "source": [
    "## First, Analyse All groups"
   ]
  },
  {
   "cell_type": "code",
   "execution_count": null,
   "metadata": {},
   "outputs": [],
   "source": [
    "importlib.reload(visualisation)\n",
    "importlib.reload(helpers)\n",
    "\n",
    "print(\"######################## OG Groups : \")\n",
    "TSNE_params = {\n",
    "            \"early_exaggeration\" : 50,\n",
    "            \"learning_rate\" : 500, \n",
    "            #\"perplexity\" : 75, \n",
    "            \"perplexity\" : 100, \n",
    "            \"min_grad_norm\" : 1e-7, \n",
    "            \"n_iter\" : 2000,\n",
    "            \"n_components\" : 2\n",
    "        }\n",
    "visualisation.plot_clusters(compressed_dataframe, label, TSNE_params)\n",
    "benchmark.print_metrics(compressed_dataframe, label)\n",
    "\n",
    "print(\"######################## KNMEANS : \")\n",
    "kmeans_labels = helpers.auto_kMean(compressed_dataframe)\n",
    "visualisation.plot_clusters(compressed_dataframe, kmeans_labels, TSNE_params)\n",
    "benchmark.print_metrics(compressed_dataframe, kmeans_labels)\n",
    "\n"
   ]
  },
  {
   "cell_type": "markdown",
   "metadata": {},
   "source": [
    "## Second, Check if control group leads to any clusters "
   ]
  },
  {
   "cell_type": "code",
   "execution_count": null,
   "metadata": {},
   "outputs": [],
   "source": [
    "# Create boolean masks for filtering\n",
    "clinical_mask = clinical_info_series == \"Healthy Control\"\n",
    "\n",
    "\n",
    "# Apply the mask to your dataset\n",
    "filtered_dat = compressed_dataframe[clinical_mask]\n",
    "filtered_clinical_info = clinical_info_series[clinical_mask]\n",
    "\n",
    "# Check the shape of the filtered dataset\n",
    "print(filtered_dat.shape)\n",
    "print(filtered_clinical_info.shape)"
   ]
  },
  {
   "cell_type": "code",
   "execution_count": null,
   "metadata": {},
   "outputs": [],
   "source": [
    "importlib.reload(visualisation)\n",
    "importlib.reload(helpers)\n",
    "\n",
    "print(\"######################## OG Groups : \")\n",
    "TSNE_params = {\n",
    "            \"early_exaggeration\" : 50,\n",
    "            \"learning_rate\" : 500, \n",
    "            \"perplexity\" : 50, \n",
    "            \"min_grad_norm\" : 1e-7, \n",
    "            \"n_iter\" : 2000,\n",
    "            \"n_components\" : 2\n",
    "        }\n",
    "visualisation.plot_clusters(filtered_dat, filtered_clinical_info, TSNE_params)\n",
    "\n",
    "print(\"######################## KNMEANS : \")\n",
    "kmeans_labels = helpers.auto_kMean(filtered_dat)\n",
    "visualisation.plot_clusters(filtered_dat, kmeans_labels, TSNE_params)\n",
    "benchmark.print_metrics(filtered_dat, kmeans_labels)\n",
    "\n",
    "\n"
   ]
  },
  {
   "cell_type": "markdown",
   "metadata": {},
   "source": [
    "## Third : check for clusters in the Idiopathic PD group"
   ]
  },
  {
   "cell_type": "code",
   "execution_count": null,
   "metadata": {},
   "outputs": [],
   "source": [
    "# Create boolean masks for filtering\n",
    "clinical_mask = clinical_info_series == \"Idiopathic PD\"\n",
    "\n",
    "\n",
    "# Apply the mask to your dataset\n",
    "filtered_dat = compressed_dataframe[clinical_mask]\n",
    "filtered_clinical_info = clinical_info_series[clinical_mask]\n",
    "\n",
    "# Check the shape of the filtered dataset\n",
    "print(filtered_dat.shape)\n",
    "print(filtered_clinical_info.shape)"
   ]
  },
  {
   "cell_type": "code",
   "execution_count": null,
   "metadata": {},
   "outputs": [],
   "source": [
    "importlib.reload(visualisation)\n",
    "importlib.reload(helpers)\n",
    "\n",
    "print(\"######################## OG Groups : \")\n",
    "params = {\"early_exaggeration\":10,\n",
    "              \"learning_rate\":700, \n",
    "              \"perplexity\":15, \n",
    "              \"min_grad_norm\":1e-7, \n",
    "              \"n_iter\":1000,\n",
    "              \"n_components\":2}\n",
    "visualisation.plot_clusters(filtered_dat, filtered_clinical_info, TSNE_params)\n",
    "\n",
    "print(\"######################## KNMEANS : \")\n",
    "kmeans_labels = helpers.auto_kMean(filtered_dat)\n",
    "visualisation.plot_clusters(filtered_dat, kmeans_labels, TSNE_params)\n",
    "benchmark.print_metrics(filtered_dat, kmeans_labels)"
   ]
  },
  {
   "cell_type": "markdown",
   "metadata": {},
   "source": [
    "## Last : Check for Genetic PD groups"
   ]
  },
  {
   "cell_type": "code",
   "execution_count": null,
   "metadata": {},
   "outputs": [],
   "source": [
    "# Create boolean masks for filtering\n",
    "clinical_mask = clinical_info_series == \"Genetic PD\"\n",
    "\n",
    "\n",
    "# Apply the mask to your dataset\n",
    "filtered_dat = compressed_dataframe[clinical_mask]\n",
    "filtered_clinical_info = clinical_info_series[clinical_mask]\n",
    "\n",
    "# Check the shape of the filtered dataset\n",
    "print(filtered_dat.shape)\n",
    "print(filtered_clinical_info.shape)"
   ]
  },
  {
   "cell_type": "code",
   "execution_count": null,
   "metadata": {},
   "outputs": [],
   "source": [
    "importlib.reload(visualisation)\n",
    "importlib.reload(helpers)\n",
    "\n",
    "print(\"######################## OG Groups : \")\n",
    "params = {\"early_exaggeration\":5,\n",
    "              \"learning_rate\":100, \n",
    "              \"perplexity\":30, \n",
    "              \"min_grad_norm\":1e-7, \n",
    "              \"n_iter\":5000,\n",
    "              \"n_components\":2}\n",
    "visualisation.plot_clusters(filtered_dat, filtered_clinical_info, TSNE_params)\n",
    "\n",
    "\n",
    "print(\"######################## KNMEANS : \")\n",
    "kmeans_labels = helpers.auto_kMean(filtered_dat)\n",
    "visualisation.plot_clusters(filtered_dat, kmeans_labels, TSNE_params)\n",
    "benchmark.print_metrics(filtered_dat, kmeans_labels)"
   ]
  },
  {
   "cell_type": "code",
   "execution_count": null,
   "metadata": {},
   "outputs": [],
   "source": []
  }
 ],
 "metadata": {
  "kernelspec": {
   "display_name": "Python 3 (ipykernel)",
   "language": "python",
   "name": "python3"
  },
  "language_info": {
   "codemirror_mode": {
    "name": "ipython",
    "version": 3
   },
   "file_extension": ".py",
   "mimetype": "text/x-python",
   "name": "python",
   "nbconvert_exporter": "python",
   "pygments_lexer": "ipython3",
   "version": "3.9.16"
  }
 },
 "nbformat": 4,
 "nbformat_minor": 2
}
