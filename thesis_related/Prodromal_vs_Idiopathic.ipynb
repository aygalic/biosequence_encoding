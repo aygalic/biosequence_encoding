{
 "cells": [
  {
   "cell_type": "markdown",
   "metadata": {},
   "source": [
    "### Taking the best performing of BRCA dataset and applying our findings to PPMI genomics data\n",
    "\n",
    "#### Emphasis on the different timepoints"
   ]
  },
  {
   "cell_type": "code",
   "execution_count": null,
   "metadata": {},
   "outputs": [],
   "source": [
    "import sys\n",
    "import importlib\n",
    "import pickle\n",
    "\n",
    "# data manipulation\n",
    "import pandas as pd\n",
    "import numpy as np\n",
    "import matplotlib.pyplot as plt\n",
    "import seaborn as sns\n",
    "\n",
    "\n",
    "# pytorch specific\n",
    "import torch\n",
    "\n",
    "# project specific\n",
    "sys.path.append('../')\n",
    "from src import config\n",
    "from src.utils import visualisation, benchmark, helpers, monitoring, experiment\n",
    "from src.models import model\n",
    "\n",
    "\n",
    "from matplotlib.animation import FuncAnimation\n",
    "from IPython.display import HTML\n",
    "\n",
    "pd.options.display.width = 1000\n",
    "DEVICE = torch.device(config[\"DEVICE\"])"
   ]
  },
  {
   "cell_type": "markdown",
   "metadata": {},
   "source": [
    "### Use our best model on every dataset"
   ]
  },
  {
   "cell_type": "code",
   "execution_count": null,
   "metadata": {},
   "outputs": [],
   "source": [
    "best_performing_config = {'convolution': True, \n",
    "                          'dropout': 0.3, \n",
    "                          'latent_dim': 16, \n",
    "                          'padding': 3, \n",
    "                          'kernel_size': 7,\n",
    "                          \"num_layers\" : 3,\n",
    "                          \"n_epoch\" : 100}"
   ]
  },
  {
   "cell_type": "code",
   "execution_count": null,
   "metadata": {},
   "outputs": [],
   "source": [
    "# BL\n",
    "data_param =  \"../workfiles/PPMI_genes_PI_BL.pkl\"\n",
    "e_ppmi = experiment.Experiment(data_param, best_performing_config, verbose = 2)\n",
    "e_ppmi.run()"
   ]
  },
  {
   "cell_type": "code",
   "execution_count": null,
   "metadata": {},
   "outputs": [],
   "source": [
    "# V02\n",
    "best_performing_config = {'convolution': True, \n",
    "                          'dropout': 0.3, \n",
    "                          'latent_dim': 16, \n",
    "                          'padding': 3, \n",
    "                          'kernel_size': 7,\n",
    "                          \"num_layers\" : 3,\n",
    "                          \"n_epoch\" : 100}\n",
    "\n",
    "data_param =  \"../workfiles/PPMI_genes_PI_V02.pkl\"\n",
    "e_ppmi = experiment.Experiment(data_param, best_performing_config, verbose = 2)\n",
    "e_ppmi.run()"
   ]
  },
  {
   "cell_type": "code",
   "execution_count": null,
   "metadata": {},
   "outputs": [],
   "source": [
    "best_performing_config = {'convolution': True, \n",
    "                          'dropout': 0.3, \n",
    "                          'latent_dim': 16, \n",
    "                          'padding': 3, \n",
    "                          'kernel_size': 7,\n",
    "                          \"num_layers\" : 3,\n",
    "                          \"n_epoch\" : 100}\n",
    "data_param =  \"../workfiles/PPMI_genes_PI_V04.pkl\"\n",
    "e_ppmi = experiment.Experiment(data_param, best_performing_config, verbose = 2)\n",
    "e_ppmi.run()"
   ]
  },
  {
   "cell_type": "code",
   "execution_count": null,
   "metadata": {},
   "outputs": [],
   "source": [
    "best_performing_config = {'convolution': True, \n",
    "                          'dropout': 0.3, \n",
    "                          'latent_dim': 16, \n",
    "                          'padding': 3, \n",
    "                          'kernel_size': 7,\n",
    "                          \"num_layers\" : 3,\n",
    "                          \"n_epoch\" : 100}\n",
    "data_param =  \"../workfiles/PPMI_genes_PI_V06.pkl\"\n",
    "e_ppmi = experiment.Experiment(data_param, best_performing_config, verbose = 2)\n",
    "e_ppmi.run()"
   ]
  },
  {
   "cell_type": "code",
   "execution_count": null,
   "metadata": {},
   "outputs": [],
   "source": [
    "best_performing_config = {'convolution': True, \n",
    "                          'dropout': 0.3, \n",
    "                          'latent_dim': 16, \n",
    "                          'padding': 3, \n",
    "                          'kernel_size': 7,\n",
    "                          \"num_layers\" : 3,\n",
    "                          \"n_epoch\" : 100}\n",
    "data_param =  \"../workfiles/PPMI_genes_PI_V08.pkl\"\n",
    "e_ppmi = experiment.Experiment(data_param, best_performing_config, verbose = 2)\n",
    "e_ppmi.run()"
   ]
  },
  {
   "cell_type": "code",
   "execution_count": null,
   "metadata": {},
   "outputs": [],
   "source": []
  }
 ],
 "metadata": {
  "kernelspec": {
   "display_name": "Python 3 (ipykernel)",
   "language": "python",
   "name": "python3"
  },
  "language_info": {
   "codemirror_mode": {
    "name": "ipython",
    "version": 3
   },
   "file_extension": ".py",
   "mimetype": "text/x-python",
   "name": "python",
   "nbconvert_exporter": "python",
   "pygments_lexer": "ipython3",
   "version": "3.9.16"
  }
 },
 "nbformat": 4,
 "nbformat_minor": 2
}
