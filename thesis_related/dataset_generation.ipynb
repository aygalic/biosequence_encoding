{
 "cells": [
  {
   "cell_type": "code",
   "execution_count": 1,
   "metadata": {},
   "outputs": [],
   "source": [
    "import sys\n",
    "import pickle\n",
    "import importlib\n",
    "\n",
    "sys.path.append('..')\n",
    "#from utils import data_handler\n",
    "from src.utils import data_handler"
   ]
  },
  {
   "cell_type": "markdown",
   "metadata": {},
   "source": [
    "#### 0. BRCA"
   ]
  },
  {
   "cell_type": "code",
   "execution_count": null,
   "metadata": {},
   "outputs": [],
   "source": [
    "importlib.reload(data_handler)\n",
    "\n",
    "data, metadata = data_handler.generate_dataset_BRCA(\n",
    "    LS_threshold= 0.0020,\n",
    "    MAD_threshold = 1, \n",
    "    MT_removal= True, expression_threshold= 0.1, keep_only_protein_coding = False, verbose = 1)\n",
    "\n",
    "with open('../workfiles/light_BRCA_ds.pkl', 'wb') as f:\n",
    "    pickle.dump((data, metadata), f)"
   ]
  },
  {
   "cell_type": "code",
   "execution_count": null,
   "metadata": {},
   "outputs": [],
   "source": [
    "importlib.reload(data_handler)\n",
    "\n",
    "data, metadata = data_handler.generate_dataset_BRCA(\n",
    "    MAD_threshold = 1, MT_removal= True, expression_threshold= 0.1, keep_only_protein_coding = False, verbose = 1)\n",
    "\n",
    "with open('../workfiles/BRCA_ds.pkl', 'wb') as f:\n",
    "    pickle.dump((data, metadata), f)"
   ]
  },
  {
   "cell_type": "code",
   "execution_count": null,
   "metadata": {},
   "outputs": [],
   "source": [
    "#trying with normalization\n",
    "importlib.reload(data_handler)\n",
    "\n",
    "data, metadata = data_handler.generate_dataset_BRCA(\n",
    "    MAD_threshold = 1, normalization= True)\n",
    "\n",
    "with open('../workfiles/normed_BRCA_ds.pkl', 'wb') as f:\n",
    "    pickle.dump((data, metadata), f)"
   ]
  },
  {
   "cell_type": "markdown",
   "metadata": {},
   "source": [
    "### Chose to include a gene selection file, or not:"
   ]
  },
  {
   "cell_type": "code",
   "execution_count": null,
   "metadata": {},
   "outputs": [],
   "source": [
    "suggested_genes_file_1 = '../../data/PD_genes_of_interest/signif_de_Disease_status_IDIOPATHIC_PD_01.tsv'\n",
    "suggested_genes_file_2 = '../../data/PD_genes_of_interest/signif_de_PD_DIAGNOSIS_0.1.tsv'"
   ]
  },
  {
   "cell_type": "markdown",
   "metadata": {},
   "source": [
    "### Generate all datasets necessary for experiments and pickle them"
   ]
  },
  {
   "cell_type": "markdown",
   "metadata": {},
   "source": [
    "#### 1. Genomic datasets"
   ]
  },
  {
   "cell_type": "code",
   "execution_count": null,
   "metadata": {},
   "outputs": [],
   "source": [
    "data, metadata = data_handler.generate_dataset_genes(\n",
    "    MAD_threshold = 2)\n",
    "\n",
    "with open('../workfiles/gene_ds_experiment_1.pkl', 'wb') as f:\n",
    "    pickle.dump((data, metadata), f)"
   ]
  },
  {
   "cell_type": "markdown",
   "metadata": {},
   "source": [
    "### 2. Trasnscriptomic dataset"
   ]
  },
  {
   "cell_type": "code",
   "execution_count": 14,
   "metadata": {},
   "outputs": [
    {
     "name": "stdout",
     "output_type": "stream",
     "text": [
      "0        ENSG00000198900.5\n",
      "1        ENSG00000215515.2\n",
      "2        ENSG00000215399.2\n",
      "3        ENSG00000196331.5\n",
      "4        ENSG00000206044.3\n",
      "               ...        \n",
      "34564    ENSG00000187210.8\n",
      "34565    ENSG00000263426.1\n",
      "34566    ENSG00000264729.1\n",
      "34567    ENSG00000263919.1\n",
      "34568    ENSG00000173894.6\n",
      "Name: Name, Length: 34569, dtype: object\n"
     ]
    }
   ],
   "source": [
    "import pandas as pd \n",
    "\n",
    "\n",
    "test = \"../../data/quant/PPMI-Phase1-IR2.14281.BL.0003141030.5104-SL-0169.longRNA-NEBKAP.salmon-gtf.genes.sf\"\n",
    "\n",
    "names = data_handler.get_names(test).iloc[:,0]\n",
    "print(names)\n"
   ]
  },
  {
   "cell_type": "code",
   "execution_count": null,
   "metadata": {},
   "outputs": [],
   "source": []
  },
  {
   "cell_type": "code",
   "execution_count": null,
   "metadata": {},
   "outputs": [],
   "source": []
  },
  {
   "cell_type": "code",
   "execution_count": 15,
   "metadata": {},
   "outputs": [
    {
     "name": "stdout",
     "output_type": "stream",
     "text": [
      "not applying any filtering over phases\n",
      "retaining only the Base Line Visit data...\n",
      "loading samples...\n"
     ]
    }
   ],
   "source": [
    "importlib.reload(data_handler)\n",
    "data, metadata = data_handler.generate_dataset_transcripts(\n",
    "    MAD_threshold = 5,\n",
    "    verbose = 1\n",
    "    )\n",
    "\n",
    "with open('../workfiles/PPMI_transcript.pkl', 'wb') as f:\n",
    "    pickle.dump((data, metadata), f)"
   ]
  },
  {
   "cell_type": "code",
   "execution_count": null,
   "metadata": {},
   "outputs": [],
   "source": []
  },
  {
   "cell_type": "markdown",
   "metadata": {},
   "source": []
  }
 ],
 "metadata": {
  "kernelspec": {
   "display_name": "thesis",
   "language": "python",
   "name": "python3"
  },
  "language_info": {
   "codemirror_mode": {
    "name": "ipython",
    "version": 3
   },
   "file_extension": ".py",
   "mimetype": "text/x-python",
   "name": "python",
   "nbconvert_exporter": "python",
   "pygments_lexer": "ipython3",
   "version": "3.9.16"
  },
  "orig_nbformat": 4
 },
 "nbformat": 4,
 "nbformat_minor": 2
}
