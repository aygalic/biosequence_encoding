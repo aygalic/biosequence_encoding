{
 "cells": [
  {
   "cell_type": "code",
   "execution_count": null,
   "metadata": {},
   "outputs": [],
   "source": [
    "import sys\n",
    "import pickle\n",
    "import importlib\n",
    "\n",
    "sys.path.append('..')\n",
    "#from utils import data_handler\n",
    "from src.utils import data_handler"
   ]
  },
  {
   "cell_type": "markdown",
   "metadata": {},
   "source": [
    "#### 0. BRCA"
   ]
  },
  {
   "cell_type": "code",
   "execution_count": null,
   "metadata": {},
   "outputs": [],
   "source": [
    "importlib.reload(data_handler)\n",
    "\n",
    "data, metadata = data_handler.generate_dataset_BRCA(\n",
    "    LS_threshold= 0.0020,\n",
    "    MAD_threshold = 1, \n",
    "    MT_removal= True, expression_threshold= 0.1, keep_only_protein_coding = False, verbose = 1)\n",
    "\n",
    "with open('../workfiles/light_BRCA_ds.pkl', 'wb') as f:\n",
    "    pickle.dump((data, metadata), f)"
   ]
  },
  {
   "cell_type": "code",
   "execution_count": null,
   "metadata": {},
   "outputs": [],
   "source": [
    "importlib.reload(data_handler)\n",
    "\n",
    "data, metadata = data_handler.generate_dataset_BRCA(\n",
    "    MAD_threshold = 1, MT_removal= True, expression_threshold= 0.1, keep_only_protein_coding = False, verbose = 1)\n",
    "\n",
    "with open('../workfiles/BRCA_ds.pkl', 'wb') as f:\n",
    "    pickle.dump((data, metadata), f)"
   ]
  },
  {
   "cell_type": "markdown",
   "metadata": {},
   "source": [
    "### Generate all datasets necessary for experiments and pickle them"
   ]
  },
  {
   "cell_type": "markdown",
   "metadata": {},
   "source": [
    "#### 1. Genomic datasets"
   ]
  },
  {
   "cell_type": "code",
   "execution_count": null,
   "metadata": {},
   "outputs": [],
   "source": [
    "data, metadata = data_handler.generate_dataset_genes(\n",
    "    LS_threshold= 0.0027,\n",
    "    MAD_threshold = 2,\n",
    "    MT_removal= True, \n",
    "    expression_threshold= 0.1, \n",
    "    keep_only_symbols = True,\n",
    "    drop_ambiguous_pos = True,\n",
    "    sort_symbols = True,\n",
    "    time_point=\"BL\",\n",
    "    verbose = 1,\n",
    "\n",
    "    )\n",
    "\n",
    "\n",
    "with open('../workfiles/PPMI_genes.pkl', 'wb') as f:\n",
    "    pickle.dump((data, metadata), f)"
   ]
  },
  {
   "cell_type": "markdown",
   "metadata": {},
   "source": [
    "gene selected with only MAD threshold of 2 : 11835"
   ]
  },
  {
   "cell_type": "code",
   "execution_count": null,
   "metadata": {},
   "outputs": [],
   "source": [
    "importlib.reload(data_handler)\n",
    "data, metadata = data_handler.generate_dataset_genes(\n",
    "    time_point=\"BL\",\n",
    "    LS_threshold= 0.005,\n",
    "    MAD_threshold = 2,\n",
    "    MT_removal= True, \n",
    "    expression_threshold= 0.1, \n",
    "    keep_only_symbols = True,\n",
    "    drop_ambiguous_pos = True,\n",
    "    sort_symbols = True,\n",
    "    verbose = 1,\n",
    "    only_pd=True\n",
    "    )\n",
    "\n",
    "\n",
    "with open('../workfiles/PPMI_genes_PD_BL.pkl', 'wb') as f:\n",
    "    pickle.dump((data, metadata), f)"
   ]
  },
  {
   "cell_type": "code",
   "execution_count": null,
   "metadata": {},
   "outputs": [],
   "source": [
    "importlib.reload(data_handler)\n",
    "data, metadata = data_handler.generate_dataset_genes(\n",
    "    time_point=\"V02\",\n",
    "    LS_threshold= 0.0078,\n",
    "    MAD_threshold = 2,\n",
    "    MT_removal= True, \n",
    "    expression_threshold= 0.1, \n",
    "    keep_only_symbols = True,\n",
    "    drop_ambiguous_pos = True,\n",
    "    sort_symbols = True,\n",
    "    verbose = 1,\n",
    "    only_pd=True\n",
    "    )\n",
    "\n",
    "\n",
    "with open('../workfiles/PPMI_genes_PD_V02.pkl', 'wb') as f:\n",
    "    pickle.dump((data, metadata), f)"
   ]
  },
  {
   "cell_type": "code",
   "execution_count": null,
   "metadata": {},
   "outputs": [],
   "source": [
    "importlib.reload(data_handler)\n",
    "data, metadata = data_handler.generate_dataset_genes(\n",
    "    time_point=\"V04\",\n",
    "    LS_threshold= 0.007,\n",
    "    MAD_threshold = 2,\n",
    "    MT_removal= True, \n",
    "    expression_threshold= 0.1, \n",
    "    keep_only_symbols = True,\n",
    "    drop_ambiguous_pos = True,\n",
    "    sort_symbols = True,\n",
    "    verbose = 1,\n",
    "    only_pd=True\n",
    "    )\n",
    "\n",
    "\n",
    "with open('../workfiles/PPMI_genes_PD_V04.pkl', 'wb') as f:\n",
    "    pickle.dump((data, metadata), f)"
   ]
  },
  {
   "cell_type": "code",
   "execution_count": null,
   "metadata": {},
   "outputs": [],
   "source": [
    "importlib.reload(data_handler)\n",
    "data, metadata = data_handler.generate_dataset_genes(\n",
    "    time_point=\"V06\",\n",
    "    LS_threshold= 0.0075,\n",
    "    MAD_threshold = 2,\n",
    "    MT_removal= True,\n",
    "    expression_threshold= 0.1,\n",
    "    keep_only_symbols = True,\n",
    "    drop_ambiguous_pos = True,\n",
    "    sort_symbols = True,\n",
    "    verbose = 1,\n",
    "    only_pd=True\n",
    "    )\n",
    "\n",
    "\n",
    "with open('../workfiles/PPMI_genes_PD_V06.pkl', 'wb') as f:\n",
    "    pickle.dump((data, metadata), f)"
   ]
  },
  {
   "cell_type": "code",
   "execution_count": null,
   "metadata": {},
   "outputs": [],
   "source": [
    "importlib.reload(data_handler)\n",
    "data, metadata = data_handler.generate_dataset_genes(\n",
    "    time_point=\"V08\",\n",
    "    LS_threshold= 0.009,\n",
    "    MAD_threshold = 2,\n",
    "    MT_removal= True, \n",
    "    expression_threshold= 0.1, \n",
    "    keep_only_symbols = True,\n",
    "    drop_ambiguous_pos = True,\n",
    "    sort_symbols = True,\n",
    "    verbose = 1,\n",
    "    only_pd=True\n",
    "    )\n",
    "\n",
    "\n",
    "with open('../workfiles/PPMI_genes_PD_V08.pkl', 'wb') as f:\n",
    "    pickle.dump((data, metadata), f)"
   ]
  },
  {
   "cell_type": "markdown",
   "metadata": {},
   "source": [
    "### 1-c Idiopathic VS prodromal"
   ]
  },
  {
   "cell_type": "code",
   "execution_count": null,
   "metadata": {},
   "outputs": [],
   "source": [
    "importlib.reload(data_handler)\n",
    "data, metadata = data_handler.generate_dataset_genes(\n",
    "    time_point=\"BL\",\n",
    "    LS_threshold= 0.005,\n",
    "    MAD_threshold = 2,\n",
    "    MT_removal= True, \n",
    "    expression_threshold= 0.1, \n",
    "    keep_only_symbols = True,\n",
    "    drop_ambiguous_pos = True,\n",
    "    sort_symbols = True,\n",
    "    verbose = 1,\n",
    "    only_pd=True\n",
    "    )\n",
    "\n",
    "\n",
    "with open('../workfiles/PPMI_genes_PD_BL.pkl', 'wb') as f:\n",
    "    pickle.dump((data, metadata), f)"
   ]
  },
  {
   "cell_type": "markdown",
   "metadata": {},
   "source": [
    "#"
   ]
  },
  {
   "cell_type": "markdown",
   "metadata": {},
   "source": [
    "### 2. Trasnscriptomic dataset"
   ]
  },
  {
   "cell_type": "code",
   "execution_count": null,
   "metadata": {},
   "outputs": [],
   "source": [
    "importlib.reload(data_handler)\n",
    "data, metadata = data_handler.generate_dataset_transcripts(\n",
    "    MAD_threshold = 1,\n",
    "    #verbose = 1\n",
    "    )\n",
    "\n",
    "with open('../workfiles/PPMI_transcript.pkl', 'wb') as f:\n",
    "    pickle.dump((data, metadata), f)"
   ]
  },
  {
   "cell_type": "code",
   "execution_count": null,
   "metadata": {},
   "outputs": [],
   "source": []
  },
  {
   "cell_type": "markdown",
   "metadata": {},
   "source": []
  }
 ],
 "metadata": {
  "kernelspec": {
   "display_name": "thesis",
   "language": "python",
   "name": "python3"
  },
  "language_info": {
   "codemirror_mode": {
    "name": "ipython",
    "version": 3
   },
   "file_extension": ".py",
   "mimetype": "text/x-python",
   "name": "python",
   "nbconvert_exporter": "python",
   "pygments_lexer": "ipython3",
   "version": "3.9.16"
  },
  "orig_nbformat": 4
 },
 "nbformat": 4,
 "nbformat_minor": 2
}
