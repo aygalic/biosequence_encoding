{
 "cells": [
  {
   "cell_type": "code",
   "execution_count": 1,
   "metadata": {},
   "outputs": [],
   "source": [
    "import sys\n",
    "import pickle\n",
    "import importlib\n",
    "\n",
    "sys.path.append('../src')\n",
    "from utils import data_handler"
   ]
  },
  {
   "cell_type": "markdown",
   "metadata": {},
   "source": [
    "#### 0. BRCA"
   ]
  },
  {
   "cell_type": "code",
   "execution_count": null,
   "metadata": {},
   "outputs": [],
   "source": [
    "importlib.reload(data_handler)\n",
    "\n",
    "data, metadata = data_handler.generate_dataset_BRCA(\n",
    "    MAD_threshold = 1)\n",
    "\n",
    "with open('../workfiles/BRCA_ds.pkl', 'wb') as f:\n",
    "    pickle.dump((data, metadata), f)"
   ]
  },
  {
   "cell_type": "code",
   "execution_count": 4,
   "metadata": {},
   "outputs": [
    {
     "name": "stdout",
     "output_type": "stream",
     "text": [
      "loading samples...\n",
      "loaded 1231 / 1231 samples\n",
      "60660\n",
      "50\n",
      "removing 37 mithocondrial genes from the dataset\n",
      "selecting genes based on expression threshold:  0.1 ...\n",
      "min expression level 0.0\n",
      "max expression level 1.0\n"
     ]
    },
    {
     "data": {
      "image/png": "[encoded data removed]",
      "text/plain": [
       "<Figure size 720x360 with 1 Axes>"
      ]
     },
     "metadata": {
      "needs_background": "light"
     },
     "output_type": "display_data"
    },
    {
     "name": "stdout",
     "output_type": "stream",
     "text": [
      "removing 37862 genes under the expression threshold from the dataset\n",
      "number of genes selected :  22761\n",
      "matching :  22761\n",
      "log(1 + x) transformation...\n",
      "scaling to [0, 1]...\n",
      "shape of the dataset : (1231, 22761)\n",
      "number of seq in the dataset : 1231\n"
     ]
    }
   ],
   "source": [
    "importlib.reload(data_handler)\n",
    "\n",
    "data, metadata = data_handler.generate_dataset_BRCA(\n",
    "    MAD_threshold = None, MT_removal= True, expression_threshold= 0.1, keep_only_protein_coding = False, verbose = 1)\n",
    "\n",
    "with open('../workfiles/BRCA_ds.pkl', 'wb') as f:\n",
    "    pickle.dump((data, metadata), f)"
   ]
  },
  {
   "cell_type": "code",
   "execution_count": null,
   "metadata": {},
   "outputs": [],
   "source": [
    "#trying with normalization\n",
    "importlib.reload(data_handler)\n",
    "\n",
    "data, metadata = data_handler.generate_dataset_BRCA(\n",
    "    MAD_threshold = 1, normalization= True)\n",
    "\n",
    "with open('../workfiles/normed_BRCA_ds.pkl', 'wb') as f:\n",
    "    pickle.dump((data, metadata), f)"
   ]
  },
  {
   "cell_type": "markdown",
   "metadata": {},
   "source": [
    "### Chose to include a gene selection file, or not:"
   ]
  },
  {
   "cell_type": "code",
   "execution_count": null,
   "metadata": {},
   "outputs": [],
   "source": [
    "suggested_genes_file_1 = '../../data/PD_genes_of_interest/signif_de_Disease_status_IDIOPATHIC_PD_01.tsv'\n",
    "suggested_genes_file_2 = '../../data/PD_genes_of_interest/signif_de_PD_DIAGNOSIS_0.1.tsv'"
   ]
  },
  {
   "cell_type": "markdown",
   "metadata": {},
   "source": [
    "### Generate all datasets necessary for experiments and pickle them"
   ]
  },
  {
   "cell_type": "markdown",
   "metadata": {},
   "source": [
    "#### 1. Genomic datasets"
   ]
  },
  {
   "cell_type": "code",
   "execution_count": null,
   "metadata": {},
   "outputs": [],
   "source": [
    "data, metadata = data_handler.generate_dataset_genes(\n",
    "    MAD_threshold = 2, \n",
    "    gene_selection_file = None)\n",
    "\n",
    "with open('../workfiles/gene_ds_experiment_1.pkl', 'wb') as f:\n",
    "    pickle.dump((data, metadata), f)"
   ]
  },
  {
   "cell_type": "code",
   "execution_count": null,
   "metadata": {},
   "outputs": [],
   "source": [
    "data, metadata = data_handler.generate_dataset_genes(\n",
    "    MAD_threshold = 0, \n",
    "    gene_selection_file = suggested_genes_file_1)\n",
    "\n",
    "with open('../workfiles/gene_ds_experiment_2.pkl', 'wb') as f:\n",
    "    pickle.dump((data, metadata), f)"
   ]
  },
  {
   "cell_type": "code",
   "execution_count": null,
   "metadata": {},
   "outputs": [],
   "source": [
    "data, metadata = data_handler.generate_dataset_genes(\n",
    "    MAD_threshold = 0, \n",
    "    gene_selection_file = suggested_genes_file_2)\n",
    "\n",
    "with open('../workfiles/gene_ds_experiment_3.pkl', 'wb') as f:\n",
    "    pickle.dump((data, metadata), f)"
   ]
  },
  {
   "cell_type": "markdown",
   "metadata": {},
   "source": [
    "### 2. Trasnscriptomic dataset"
   ]
  },
  {
   "cell_type": "code",
   "execution_count": null,
   "metadata": {},
   "outputs": [],
   "source": [
    "data, metadata = data_handler.generate_dataset_transcripts(\n",
    "    MAD_threshold = 5, \n",
    "    gene_selection_file = None)\n",
    "\n",
    "with open('../workfiles/transcript_ds_experiment_1.pkl', 'wb') as f:\n",
    "    pickle.dump((data, metadata), f)"
   ]
  },
  {
   "cell_type": "code",
   "execution_count": null,
   "metadata": {},
   "outputs": [],
   "source": [
    "data, metadata = data_handler.generate_dataset_transcripts(\n",
    "    MAD_threshold = 0, \n",
    "    gene_selection_file = suggested_genes_file_1)\n",
    "\n",
    "with open('../workfiles/transcript_ds_experiment_2.pkl', 'wb') as f:\n",
    "    pickle.dump((data, metadata), f)"
   ]
  },
  {
   "cell_type": "code",
   "execution_count": null,
   "metadata": {},
   "outputs": [],
   "source": [
    "data, metadata = data_handler.generate_dataset_transcripts(\n",
    "    MAD_threshold = 0, \n",
    "    gene_selection_file = suggested_genes_file_2)\n",
    "\n",
    "with open('../workfiles/transcript_ds_experiment_3.pkl', 'wb') as f:\n",
    "    pickle.dump((data, metadata), f)"
   ]
  },
  {
   "cell_type": "code",
   "execution_count": null,
   "metadata": {},
   "outputs": [],
   "source": []
  },
  {
   "cell_type": "markdown",
   "metadata": {},
   "source": []
  }
 ],
 "metadata": {
  "kernelspec": {
   "display_name": "thesis",
   "language": "python",
   "name": "python3"
  },
  "language_info": {
   "codemirror_mode": {
    "name": "ipython",
    "version": 3
   },
   "file_extension": ".py",
   "mimetype": "text/x-python",
   "name": "python",
   "nbconvert_exporter": "python",
   "pygments_lexer": "ipython3",
   "version": "3.9.16"
  },
  "orig_nbformat": 4
 },
 "nbformat": 4,
 "nbformat_minor": 2
}
