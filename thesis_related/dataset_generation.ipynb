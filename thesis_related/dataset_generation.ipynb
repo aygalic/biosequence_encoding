{
 "cells": [
  {
   "cell_type": "code",
   "execution_count": 1,
   "metadata": {},
   "outputs": [],
   "source": [
    "import sys\n",
    "import pickle\n",
    "\n",
    "sys.path.append('../src')\n",
    "from utils import data_handler\n",
    "from utils import visualisation"
   ]
  },
  {
   "cell_type": "markdown",
   "metadata": {},
   "source": [
    "### Chose to include a gene selection file, or not:"
   ]
  },
  {
   "cell_type": "code",
   "execution_count": 2,
   "metadata": {},
   "outputs": [],
   "source": [
    "suggested_genes_file_1 = '../../data/PD_genes_of_interest/signif_de_Disease_status_IDIOPATHIC_PD_01.tsv'\n",
    "suggested_genes_file_2 = '../../data/PD_genes_of_interest/signif_de_PD_DIAGNOSIS_0.1.tsv'"
   ]
  },
  {
   "cell_type": "markdown",
   "metadata": {},
   "source": [
    "### Generate all datasets necessary for experiments and pickle them"
   ]
  },
  {
   "cell_type": "markdown",
   "metadata": {},
   "source": [
    "#### 1. Genomic datasets"
   ]
  },
  {
   "cell_type": "code",
   "execution_count": null,
   "metadata": {},
   "outputs": [],
   "source": [
    "data, metadata = data_handler.generate_dataset_genes(\n",
    "    feature_selection_threshold = 2, \n",
    "    gene_selection_file = None)\n",
    "\n",
    "with open('../workfiles/gene_ds_experiment_1.pkl', 'wb') as f:\n",
    "    pickle.dump((data, metadata), f)"
   ]
  },
  {
   "cell_type": "code",
   "execution_count": null,
   "metadata": {},
   "outputs": [],
   "source": [
    "data, metadata = data_handler.generate_dataset_genes(\n",
    "    feature_selection_threshold = 0, \n",
    "    gene_selection_file = suggested_genes_file_1)\n",
    "\n",
    "with open('../workfiles/gene_ds_experiment_2.pkl', 'wb') as f:\n",
    "    pickle.dump((data, metadata), f)"
   ]
  },
  {
   "cell_type": "code",
   "execution_count": null,
   "metadata": {},
   "outputs": [],
   "source": [
    "data, metadata = data_handler.generate_dataset_genes(\n",
    "    feature_selection_threshold = 0, \n",
    "    gene_selection_file = suggested_genes_file_2)\n",
    "\n",
    "with open('../workfiles/gene_ds_experiment_3.pkl', 'wb') as f:\n",
    "    pickle.dump((data, metadata), f)"
   ]
  },
  {
   "cell_type": "markdown",
   "metadata": {},
   "source": [
    "### 2. Trasnscriptomic dataset"
   ]
  },
  {
   "cell_type": "code",
   "execution_count": null,
   "metadata": {},
   "outputs": [],
   "source": [
    "data, metadata = data_handler.generate_dataset_transcripts(\n",
    "    feature_selection_threshold = 5, \n",
    "    gene_selection_file = None)\n",
    "\n",
    "with open('../workfiles/transcript_ds_experiment_1.pkl', 'wb') as f:\n",
    "    pickle.dump((data, metadata), f)"
   ]
  },
  {
   "cell_type": "code",
   "execution_count": null,
   "metadata": {},
   "outputs": [],
   "source": [
    "data, metadata = data_handler.generate_dataset_transcripts(\n",
    "    feature_selection_threshold = 0, \n",
    "    gene_selection_file = suggested_genes_file_1)\n",
    "\n",
    "with open('../workfiles/transcript_ds_experiment_2.pkl', 'wb') as f:\n",
    "    pickle.dump((data, metadata), f)"
   ]
  },
  {
   "cell_type": "code",
   "execution_count": null,
   "metadata": {},
   "outputs": [],
   "source": [
    "data, metadata = data_handler.generate_dataset_transcripts(\n",
    "    feature_selection_threshold = 0, \n",
    "    gene_selection_file = suggested_genes_file_2)\n",
    "\n",
    "with open('../workfiles/transcript_ds_experiment_3.pkl', 'wb') as f:\n",
    "    pickle.dump((data, metadata), f)"
   ]
  },
  {
   "cell_type": "code",
   "execution_count": null,
   "metadata": {},
   "outputs": [],
   "source": []
  },
  {
   "cell_type": "markdown",
   "metadata": {},
   "source": []
  }
 ],
 "metadata": {
  "kernelspec": {
   "display_name": "thesis",
   "language": "python",
   "name": "python3"
  },
  "language_info": {
   "codemirror_mode": {
    "name": "ipython",
    "version": 3
   },
   "file_extension": ".py",
   "mimetype": "text/x-python",
   "name": "python",
   "nbconvert_exporter": "python",
   "pygments_lexer": "ipython3",
   "version": "3.9.16"
  },
  "orig_nbformat": 4
 },
 "nbformat": 4,
 "nbformat_minor": 2
}
