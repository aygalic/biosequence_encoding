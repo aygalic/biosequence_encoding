{
 "cells": [
  {
   "cell_type": "code",
   "execution_count": 28,
   "metadata": {},
   "outputs": [],
   "source": [
    "import sys\n",
    "import importlib\n",
    "\n",
    "# data manipulation\n",
    "import pandas as pd\n",
    "\n",
    "# pytorch specific\n",
    "import torch\n",
    "\n",
    "# project specific\n",
    "sys.path.append('../')\n",
    "from src import config\n",
    "from src.utils import experiment, helpers\n",
    "from src.models import model\n",
    "\n",
    "pd.options.display.width = 1000\n",
    "DEVICE = torch.device(config[\"DEVICE\"])"
   ]
  },
  {
   "cell_type": "code",
   "execution_count": 11,
   "metadata": {},
   "outputs": [
    {
     "name": "stdout",
     "output_type": "stream",
     "text": [
      "input shape : 3242\n",
      "(1231, 3242)\n",
      "(1231, 1, 3242)\n",
      "train data: 1231\n"
     ]
    },
    {
     "name": "stderr",
     "output_type": "stream",
     "text": [
      "/opt/homebrew/anaconda3/envs/thesis/lib/python3.9/site-packages/torch/nn/modules/lazy.py:180: UserWarning: Lazy modules are a new feature under heavy development so changes to the API or functionality can happen at any moment.\n",
      "  warnings.warn('Lazy modules are a new feature under heavy development '\n"
     ]
    }
   ],
   "source": [
    "best_performing_config = {'variational': False, 'convolution': True, 'transformer': False, 'dropout': 0.3, 'latent_dim': 16, 'padding': 2, 'kernel_size': 5}\n",
    "data_param = \"../workfiles/light_BRCA_ds.pkl\"\n",
    "\n",
    "e = experiment.Experiment(data_param, best_performing_config, verbose = 2, n_epoch = 3000)\n"
   ]
  },
  {
   "cell_type": "code",
   "execution_count": 12,
   "metadata": {},
   "outputs": [
    {
     "data": {
      "text/plain": [
       "Autoencoder(\n",
       "  (encoder): Sequential(\n",
       "    (0): Conv1d(1, 32, kernel_size=(5,), stride=(2,), padding=(2,))\n",
       "    (1): LeakyReLU(negative_slope=0.05)\n",
       "    (2): Dropout(p=0.3, inplace=False)\n",
       "    (3): MaxPool1d(kernel_size=2, stride=2, padding=0, dilation=1, ceil_mode=False)\n",
       "    (4): Conv1d(32, 64, kernel_size=(5,), stride=(2,), padding=(2,))\n",
       "    (5): LeakyReLU(negative_slope=0.05)\n",
       "    (6): Dropout(p=0.3, inplace=False)\n",
       "    (7): MaxPool1d(kernel_size=2, stride=2, padding=0, dilation=1, ceil_mode=False)\n",
       "    (8): Conv1d(64, 128, kernel_size=(5,), stride=(2,), padding=(2,))\n",
       "    (9): LeakyReLU(negative_slope=0.05)\n",
       "    (10): Dropout(p=0.3, inplace=False)\n",
       "    (11): MaxPool1d(kernel_size=2, stride=2, padding=0, dilation=1, ceil_mode=False)\n",
       "    (12): Flatten(start_dim=1, end_dim=-1)\n",
       "    (13): LazyLinear(in_features=0, out_features=16, bias=True)\n",
       "    (14): LeakyReLU(negative_slope=0.05)\n",
       "  )\n",
       "  (decoder): Sequential(\n",
       "    (0): Linear(in_features=16, out_features=6400, bias=True)\n",
       "    (1): Unflatten(dim=1, unflattened_size=(128, 50))\n",
       "    (2): Upsample(scale_factor=2.0, mode='nearest')\n",
       "    (3): ConvTranspose1d(128, 64, kernel_size=(5,), stride=(2,), padding=(2,))\n",
       "    (4): LeakyReLU(negative_slope=0.05)\n",
       "    (5): Dropout(p=0.3, inplace=False)\n",
       "    (6): Upsample(scale_factor=2.0, mode='nearest')\n",
       "    (7): ConvTranspose1d(64, 32, kernel_size=(5,), stride=(2,), padding=(2,))\n",
       "    (8): LeakyReLU(negative_slope=0.05)\n",
       "    (9): Dropout(p=0.3, inplace=False)\n",
       "    (10): Upsample(scale_factor=2.0, mode='nearest')\n",
       "    (11): ConvTranspose1d(32, 1, kernel_size=(5,), stride=(2,), padding=(2,))\n",
       "    (12): LazyLinear(in_features=0, out_features=3242, bias=True)\n",
       "    (13): Sigmoid()\n",
       "  )\n",
       ")"
      ]
     },
     "execution_count": 12,
     "metadata": {},
     "output_type": "execute_result"
    }
   ],
   "source": [
    "e.model"
   ]
  },
  {
   "cell_type": "markdown",
   "metadata": {},
   "source": [
    "Autoencoder(\n",
    "  (encoder): Sequential(\n",
    "    (0): Conv1d(1, 32, kernel_size=(5,), stride=(2,), padding=(2,))\n",
    "    (1): LeakyReLU(negative_slope=0.05)\n",
    "    (2): Dropout(p=0.3, inplace=False)\n",
    "    (3): MaxPool1d(kernel_size=2, stride=2, padding=0, dilation=1, ceil_mode=False)\n",
    "    (4): Conv1d(32, 64, kernel_size=(5,), stride=(2,), padding=(2,))\n",
    "    (5): LeakyReLU(negative_slope=0.05)\n",
    "    (6): Dropout(p=0.3, inplace=False)\n",
    "    (7): MaxPool1d(kernel_size=2, stride=2, padding=0, dilation=1, ceil_mode=False)\n",
    "    (8): Conv1d(64, 128, kernel_size=(5,), stride=(2,), padding=(2,))\n",
    "    (9): LeakyReLU(negative_slope=0.05)\n",
    "    (10): Dropout(p=0.3, inplace=False)\n",
    "    (11): MaxPool1d(kernel_size=2, stride=2, padding=0, dilation=1, ceil_mode=False)\n",
    "    (12): Flatten(start_dim=1, end_dim=-1)\n",
    "    (13): LazyLinear(in_features=0, out_features=16, bias=True)\n",
    "    (14): LeakyReLU(negative_slope=0.05)\n",
    "  )\n",
    "  (decoder): Sequential(\n",
    "    (0): Linear(in_features=16, out_features=6400, bias=True)\n",
    "    (1): Unflatten(dim=1, unflattened_size=(128, 50))\n",
    "    (2): Upsample(scale_factor=2.0, mode='nearest')\n",
    "    (3): ConvTranspose1d(128, 64, kernel_size=(5,), stride=(2,), padding=(2,))\n",
    "    (4): LeakyReLU(negative_slope=0.05)\n",
    "    (5): Dropout(p=0.3, inplace=False)\n",
    "    (6): Upsample(scale_factor=2.0, mode='nearest')\n",
    "    (7): ConvTranspose1d(64, 32, kernel_size=(5,), stride=(2,), padding=(2,))\n",
    "    (8): LeakyReLU(negative_slope=0.05)\n",
    "    (9): Dropout(p=0.3, inplace=False)\n",
    "    (10): Upsample(scale_factor=2.0, mode='nearest')\n",
    "    (11): ConvTranspose1d(32, 1, kernel_size=(5,), stride=(2,), padding=(2,))\n",
    "    (12): LazyLinear(in_features=0, out_features=3242, bias=True)\n",
    "    (13): Sigmoid()\n",
    "  )\n",
    ")"
   ]
  },
  {
   "cell_type": "code",
   "execution_count": 26,
   "metadata": {},
   "outputs": [
    {
     "name": "stderr",
     "output_type": "stream",
     "text": [
      "/opt/homebrew/anaconda3/envs/thesis/lib/python3.9/site-packages/torch/nn/modules/lazy.py:180: UserWarning: Lazy modules are a new feature under heavy development so changes to the API or functionality can happen at any moment.\n",
      "  warnings.warn('Lazy modules are a new feature under heavy development '\n"
     ]
    }
   ],
   "source": [
    "importlib.reload(model)\n",
    "\n",
    "model = model.Autoencoder(\n",
    "    shape = 3242,\n",
    "    convolution = True,\n",
    "    dropout = 0.3,\n",
    "    latent_dim =  16,\n",
    "    padding = 2, \n",
    "    kernel_size = 5,\n",
    "    num_layers = 3,\n",
    "\n",
    ")"
   ]
  },
  {
   "cell_type": "code",
   "execution_count": 27,
   "metadata": {},
   "outputs": [
    {
     "data": {
      "text/plain": [
       "Autoencoder(\n",
       "  (encoder): Sequential(\n",
       "    (0): Conv1d(1, 32, kernel_size=(5,), stride=(2,), padding=(2,))\n",
       "    (1): LeakyReLU(negative_slope=0.05)\n",
       "    (2): Dropout(p=0.3, inplace=False)\n",
       "    (3): MaxPool1d(kernel_size=2, stride=2, padding=0, dilation=1, ceil_mode=False)\n",
       "    (4): Conv1d(32, 64, kernel_size=(5,), stride=(2,), padding=(2,))\n",
       "    (5): LeakyReLU(negative_slope=0.05)\n",
       "    (6): Dropout(p=0.3, inplace=False)\n",
       "    (7): MaxPool1d(kernel_size=2, stride=2, padding=0, dilation=1, ceil_mode=False)\n",
       "    (8): Conv1d(64, 128, kernel_size=(5,), stride=(2,), padding=(2,))\n",
       "    (9): LeakyReLU(negative_slope=0.05)\n",
       "    (10): Dropout(p=0.3, inplace=False)\n",
       "    (11): MaxPool1d(kernel_size=2, stride=2, padding=0, dilation=1, ceil_mode=False)\n",
       "    (12): Flatten(start_dim=1, end_dim=-1)\n",
       "    (13): LazyLinear(in_features=0, out_features=16, bias=True)\n",
       "    (14): LeakyReLU(negative_slope=0.05)\n",
       "  )\n",
       "  (decoder): Sequential(\n",
       "    (0): Linear(in_features=16, out_features=6400, bias=True)\n",
       "    (1): Unflatten(dim=1, unflattened_size=(128, 50))\n",
       "    (2): Upsample(scale_factor=2.0, mode='nearest')\n",
       "    (3): ConvTranspose1d(128, 128, kernel_size=(5,), stride=(2,), padding=(2,))\n",
       "    (4): LeakyReLU(negative_slope=0.05)\n",
       "    (5): Dropout(p=0.3, inplace=False)\n",
       "    (6): Upsample(scale_factor=2.0, mode='nearest')\n",
       "    (7): ConvTranspose1d(128, 64, kernel_size=(5,), stride=(2,), padding=(2,))\n",
       "    (8): LeakyReLU(negative_slope=0.05)\n",
       "    (9): Dropout(p=0.3, inplace=False)\n",
       "    (10): Upsample(scale_factor=2.0, mode='nearest')\n",
       "    (11): ConvTranspose1d(64, 32, kernel_size=(5,), stride=(2,), padding=(2,))\n",
       "    (12): LeakyReLU(negative_slope=0.05)\n",
       "    (13): Dropout(p=0.3, inplace=False)\n",
       "    (14): Upsample(scale_factor=2.0, mode='nearest')\n",
       "    (15): ConvTranspose1d(32, 1, kernel_size=(5,), stride=(2,), padding=(2,))\n",
       "    (16): LazyLinear(in_features=0, out_features=3242, bias=True)\n",
       "    (17): Sigmoid()\n",
       "  )\n",
       ")"
      ]
     },
     "execution_count": 27,
     "metadata": {},
     "output_type": "execute_result"
    }
   ],
   "source": [
    "model"
   ]
  },
  {
   "cell_type": "code",
   "execution_count": 17,
   "metadata": {},
   "outputs": [],
   "source": [
    "input_shape = 3242\n",
    "num_layers = 4\n",
    "latent_dim = 16"
   ]
  },
  {
   "cell_type": "code",
   "execution_count": 20,
   "metadata": {},
   "outputs": [],
   "source": [
    "test = [input_shape] + [1024 // (2 ** i) for i in range(num_layers - 1)] + [latent_dim]"
   ]
  },
  {
   "cell_type": "code",
   "execution_count": 21,
   "metadata": {},
   "outputs": [
    {
     "data": {
      "text/plain": [
       "[16, 256, 512, 1024, 3242]"
      ]
     },
     "execution_count": 21,
     "metadata": {},
     "output_type": "execute_result"
    }
   ],
   "source": [
    "test.reverse()\n",
    "test"
   ]
  },
  {
   "cell_type": "code",
   "execution_count": 19,
   "metadata": {},
   "outputs": [
    {
     "data": {
      "text/plain": [
       "[16, 256, 512, 1024, 3242]"
      ]
     },
     "execution_count": 19,
     "metadata": {},
     "output_type": "execute_result"
    }
   ],
   "source": [
    "[latent_dim] + [256 * (2 ** i) for i in range(num_layers - 1)] + [input_shape]\n"
   ]
  },
  {
   "cell_type": "code",
   "execution_count": null,
   "metadata": {},
   "outputs": [],
   "source": []
  }
 ],
 "metadata": {
  "kernelspec": {
   "display_name": "thesis",
   "language": "python",
   "name": "python3"
  },
  "language_info": {
   "codemirror_mode": {
    "name": "ipython",
    "version": 3
   },
   "file_extension": ".py",
   "mimetype": "text/x-python",
   "name": "python",
   "nbconvert_exporter": "python",
   "pygments_lexer": "ipython3",
   "version": "3.9.16"
  }
 },
 "nbformat": 4,
 "nbformat_minor": 2
}
