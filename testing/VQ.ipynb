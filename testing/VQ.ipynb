{
 "cells": [
  {
   "cell_type": "markdown",
   "metadata": {},
   "source": [
    "# Testing my implementation of VQ-VAE "
   ]
  },
  {
   "cell_type": "code",
   "execution_count": null,
   "metadata": {},
   "outputs": [],
   "source": [
    "import sys\n",
    "import importlib\n",
    "\n",
    "# data manipulation\n",
    "import pandas as pd\n",
    "\n",
    "# pytorch specific\n",
    "import torch\n",
    "\n",
    "# project specific\n",
    "sys.path.append('../')\n",
    "from src import config\n",
    "from src.utils import experiment, helpers\n",
    "\n",
    "\n",
    "pd.options.display.width = 1000\n",
    "DEVICE = torch.device(config[\"DEVICE\"])"
   ]
  },
  {
   "cell_type": "markdown",
   "metadata": {},
   "source": [
    "## We first set the grid of parametter we want to explore"
   ]
  },
  {
   "cell_type": "code",
   "execution_count": null,
   "metadata": {},
   "outputs": [],
   "source": [
    "# or we  use a pre loaded dataset to save time\n",
    "data_params = '../workfiles/light_BRCA_ds.pkl'\n",
    "\n",
    "model_params = {\n",
    "    \"dropout\" : 0.2,\n",
    "    \"latent_dim\" : 64,\n",
    "    \"variational\" : \"VQ-VAE\",\n",
    "    \"convolution\": False,\n",
    "    \"transformer\" : False\n",
    "    }\n",
    "\n"
   ]
  },
  {
   "cell_type": "code",
   "execution_count": null,
   "metadata": {},
   "outputs": [],
   "source": [
    "importlib.reload(helpers)\n",
    "\n",
    "\n",
    "dynamic_params = {\n",
    "    #\"latent_dim\": [16, 32, 64, 128],\n",
    "    \"num_embeddings\" : [64, 128, 256, 512],\n",
    "    \"embedding_dim\" : [64, 128, 256, 512],\n",
    "    \"commitment_cost\" : [0.2, 0.4, 0.6, 0.8, 1] \n",
    "    \n",
    "\n",
    "}\n",
    "\n",
    "configurations = helpers.generate_config(model_params, dynamic_params)\n",
    "print(\"number of config to be evaluated:\",len(configurations))"
   ]
  },
  {
   "cell_type": "code",
   "execution_count": null,
   "metadata": {},
   "outputs": [],
   "source": [
    "importlib.reload(experiment)\n",
    "experiments = []\n",
    "\n",
    "for config in configurations[:2]:\n",
    "    e = experiment.Experiment(data_param=data_params, model_param=config, n_epoch= 30)\n",
    "    e.run()\n",
    "\n",
    "    experiment_data = {**config,'score': e.metric}\n",
    "    experiments.append(experiment_data)"
   ]
  },
  {
   "cell_type": "code",
   "execution_count": null,
   "metadata": {},
   "outputs": [],
   "source": []
  }
 ],
 "metadata": {
  "kernelspec": {
   "display_name": "thesis",
   "language": "python",
   "name": "python3"
  },
  "language_info": {
   "codemirror_mode": {
    "name": "ipython",
    "version": 3
   },
   "file_extension": ".py",
   "mimetype": "text/x-python",
   "name": "python",
   "nbconvert_exporter": "python",
   "pygments_lexer": "ipython3",
   "version": "3.9.16"
  }
 },
 "nbformat": 4,
 "nbformat_minor": 2
}
