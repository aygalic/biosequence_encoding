{
 "cells": [
  {
   "cell_type": "markdown",
   "metadata": {},
   "source": [
    "# Testing my implementation of VQ-VAE "
   ]
  },
  {
   "cell_type": "code",
   "execution_count": 1,
   "metadata": {},
   "outputs": [],
   "source": [
    "import sys\n",
    "import importlib\n",
    "\n",
    "# data manipulation\n",
    "import pandas as pd\n",
    "\n",
    "# pytorch specific\n",
    "import torch\n",
    "\n",
    "# project specific\n",
    "sys.path.append('../')\n",
    "from src import config\n",
    "from src.utils import experiment, helpers\n",
    "\n",
    "\n",
    "pd.options.display.width = 1000\n",
    "DEVICE = torch.device(config[\"DEVICE\"])\n",
    "\n",
    "import random\n"
   ]
  },
  {
   "cell_type": "markdown",
   "metadata": {},
   "source": [
    "## We first set the grid of parametter we want to explore"
   ]
  },
  {
   "cell_type": "code",
   "execution_count": 12,
   "metadata": {},
   "outputs": [],
   "source": [
    "# or we  use a pre loaded dataset to save time\n",
    "data_params = '../workfiles/light_BRCA_ds.pkl'\n",
    "\n",
    "model_params = {\n",
    "    \"dropout\" : 0.2,\n",
    "    \"latent_dim\" : 64,\n",
    "    \"variational\" : \"VQ-VAE\",\n",
    "    \"convolution\": False,\n",
    "    \"transformer\" : False\n",
    "    }\n",
    "\n"
   ]
  },
  {
   "cell_type": "code",
   "execution_count": 13,
   "metadata": {},
   "outputs": [],
   "source": [
    "# This one is absurdly clumsy but that's the only way i could do it.\n",
    "\n",
    "variational_param_ = {\n",
    "    \"variational\": [ # constraint : embedding_dim <= num_embeddings\n",
    "        ((\"embedding_dim\", 16), (\"num_embeddings\", 64)),\n",
    "        ((\"embedding_dim\", 16), (\"num_embeddings\", 128)),\n",
    "        ((\"embedding_dim\", 16), (\"num_embeddings\", 256)),\n",
    "        ((\"embedding_dim\", 16), (\"num_embeddings\", 512)),\n",
    "        ((\"embedding_dim\", 32), (\"num_embeddings\", 64)),\n",
    "        ((\"embedding_dim\", 32), (\"num_embeddings\", 128)),\n",
    "        ((\"embedding_dim\", 32), (\"num_embeddings\", 256)),\n",
    "        ((\"embedding_dim\", 32), (\"num_embeddings\", 512)),\n",
    "        ((\"embedding_dim\", 64), (\"num_embeddings\", 64)),\n",
    "        ((\"embedding_dim\", 64), (\"num_embeddings\", 128)),\n",
    "        ((\"embedding_dim\", 64), (\"num_embeddings\", 256)),\n",
    "        ((\"embedding_dim\", 64), (\"num_embeddings\", 512)),\n",
    "        ((\"embedding_dim\", 128), (\"num_embeddings\", 128)),\n",
    "        ((\"embedding_dim\", 128), (\"num_embeddings\", 256)),\n",
    "        ((\"embedding_dim\", 128), (\"num_embeddings\", 512))]}\n"
   ]
  },
  {
   "cell_type": "code",
   "execution_count": 14,
   "metadata": {},
   "outputs": [
    {
     "name": "stdout",
     "output_type": "stream",
     "text": [
      "number of config to be evaluated: 900\n"
     ]
    }
   ],
   "source": [
    "importlib.reload(helpers)\n",
    "\n",
    "\n",
    "dynamic_params = {\n",
    "    \"latent_dim\": [16, 32, 64, 128],\n",
    "    \"variational\": [],\n",
    "}\n",
    "\n",
    "for commitment_cost in [0.2, 0.4, 0.6, 0.8, 1]:\n",
    "    for (param1, param2) in variational_param_['variational']:\n",
    "        dynamic_params[\"variational\"].append(((\"variational\", \"VQ-VAE\"),(\"commitment_cost\", commitment_cost),param1, param2))\n",
    "\n",
    "\n",
    "dynamic_params['variational'] = dynamic_params['variational'] + [None]*len(dynamic_params['variational']) + [\"VAE\"]*len(dynamic_params['variational'])\n",
    "\n",
    "configurations = helpers.generate_config(model_params, dynamic_params)\n",
    "print(\"number of config to be evaluated:\",len(configurations))"
   ]
  },
  {
   "cell_type": "code",
   "execution_count": 15,
   "metadata": {},
   "outputs": [
    {
     "data": {
      "text/plain": [
       "{'dropout': 0.2,\n",
       " 'latent_dim': 32,\n",
       " 'variational': 'VQ-VAE',\n",
       " 'convolution': False,\n",
       " 'transformer': False,\n",
       " 'commitment_cost': 0.2,\n",
       " 'embedding_dim': 128,\n",
       " 'num_embeddings': 512}"
      ]
     },
     "execution_count": 15,
     "metadata": {},
     "output_type": "execute_result"
    }
   ],
   "source": [
    "random.choice(configurations)"
   ]
  },
  {
   "cell_type": "code",
   "execution_count": 16,
   "metadata": {},
   "outputs": [
    {
     "name": "stdout",
     "output_type": "stream",
     "text": [
      "input shape : 3242\n",
      "(1231, 3242)\n",
      "(1231, 1, 3242)\n",
      "train data: 1231\n",
      "Running the following configuration:\n",
      "../workfiles/light_BRCA_ds.pkl\n",
      "{'dropout': 0.2, 'latent_dim': 16, 'variational': 'VQ-VAE', 'convolution': False, 'transformer': False, 'commitment_cost': 0.2, 'embedding_dim': 16, 'num_embeddings': 64}\n"
     ]
    },
    {
     "name": "stderr",
     "output_type": "stream",
     "text": [
      "  1%|          | 8/1000 [00:08<17:00,  1.03s/it]\n"
     ]
    },
    {
     "ename": "KeyboardInterrupt",
     "evalue": "",
     "output_type": "error",
     "traceback": [
      "\u001b[0;31m---------------------------------------------------------------------------\u001b[0m",
      "\u001b[0;31mKeyboardInterrupt\u001b[0m                         Traceback (most recent call last)",
      "\u001b[1;32m/Users/aygalic/Thesis/genome_analysis_parkinson/testing/VQ.ipynb Cell 8\u001b[0m line \u001b[0;36m<cell line: 4>\u001b[0;34m()\u001b[0m\n\u001b[1;32m      <a href='vscode-notebook-cell:/Users/aygalic/Thesis/genome_analysis_parkinson/testing/VQ.ipynb#W5sZmlsZQ%3D%3D?line=3'>4</a>\u001b[0m \u001b[39mfor\u001b[39;00m config \u001b[39min\u001b[39;00m configurations:\n\u001b[1;32m      <a href='vscode-notebook-cell:/Users/aygalic/Thesis/genome_analysis_parkinson/testing/VQ.ipynb#W5sZmlsZQ%3D%3D?line=4'>5</a>\u001b[0m     e \u001b[39m=\u001b[39m experiment\u001b[39m.\u001b[39mExperiment(data_param\u001b[39m=\u001b[39mdata_params, model_param\u001b[39m=\u001b[39mconfig)\n\u001b[0;32m----> <a href='vscode-notebook-cell:/Users/aygalic/Thesis/genome_analysis_parkinson/testing/VQ.ipynb#W5sZmlsZQ%3D%3D?line=5'>6</a>\u001b[0m     e\u001b[39m.\u001b[39;49mrun()\n\u001b[1;32m      <a href='vscode-notebook-cell:/Users/aygalic/Thesis/genome_analysis_parkinson/testing/VQ.ipynb#W5sZmlsZQ%3D%3D?line=7'>8</a>\u001b[0m     experiment_data \u001b[39m=\u001b[39m {\u001b[39m*\u001b[39m\u001b[39m*\u001b[39mconfig,\u001b[39m'\u001b[39m\u001b[39mscore\u001b[39m\u001b[39m'\u001b[39m: e\u001b[39m.\u001b[39mmetric}\n\u001b[1;32m      <a href='vscode-notebook-cell:/Users/aygalic/Thesis/genome_analysis_parkinson/testing/VQ.ipynb#W5sZmlsZQ%3D%3D?line=8'>9</a>\u001b[0m     experiments\u001b[39m.\u001b[39mappend(experiment_data)\n",
      "File \u001b[0;32m~/Thesis/genome_analysis_parkinson/testing/../src/utils/experiment.py:167\u001b[0m, in \u001b[0;36mExperiment.run\u001b[0;34m(self, log)\u001b[0m\n\u001b[1;32m    164\u001b[0m     outputs \u001b[39m=\u001b[39m \u001b[39mself\u001b[39m\u001b[39m.\u001b[39mmodel(inputs)\n\u001b[1;32m    165\u001b[0m     loss \u001b[39m=\u001b[39m F\u001b[39m.\u001b[39mmse_loss(outputs, inputs)\n\u001b[0;32m--> 167\u001b[0m loss\u001b[39m.\u001b[39;49mbackward()\n\u001b[1;32m    168\u001b[0m \u001b[39mself\u001b[39m\u001b[39m.\u001b[39moptimizer\u001b[39m.\u001b[39mstep()\n\u001b[1;32m    169\u001b[0m count \u001b[39m+\u001b[39m\u001b[39m=\u001b[39m \u001b[39m1\u001b[39m\n",
      "File \u001b[0;32m/opt/homebrew/anaconda3/envs/thesis/lib/python3.9/site-packages/torch/_tensor.py:487\u001b[0m, in \u001b[0;36mTensor.backward\u001b[0;34m(self, gradient, retain_graph, create_graph, inputs)\u001b[0m\n\u001b[1;32m    477\u001b[0m \u001b[39mif\u001b[39;00m has_torch_function_unary(\u001b[39mself\u001b[39m):\n\u001b[1;32m    478\u001b[0m     \u001b[39mreturn\u001b[39;00m handle_torch_function(\n\u001b[1;32m    479\u001b[0m         Tensor\u001b[39m.\u001b[39mbackward,\n\u001b[1;32m    480\u001b[0m         (\u001b[39mself\u001b[39m,),\n\u001b[0;32m   (...)\u001b[0m\n\u001b[1;32m    485\u001b[0m         inputs\u001b[39m=\u001b[39minputs,\n\u001b[1;32m    486\u001b[0m     )\n\u001b[0;32m--> 487\u001b[0m torch\u001b[39m.\u001b[39;49mautograd\u001b[39m.\u001b[39;49mbackward(\n\u001b[1;32m    488\u001b[0m     \u001b[39mself\u001b[39;49m, gradient, retain_graph, create_graph, inputs\u001b[39m=\u001b[39;49minputs\n\u001b[1;32m    489\u001b[0m )\n",
      "File \u001b[0;32m/opt/homebrew/anaconda3/envs/thesis/lib/python3.9/site-packages/torch/autograd/__init__.py:200\u001b[0m, in \u001b[0;36mbackward\u001b[0;34m(tensors, grad_tensors, retain_graph, create_graph, grad_variables, inputs)\u001b[0m\n\u001b[1;32m    195\u001b[0m     retain_graph \u001b[39m=\u001b[39m create_graph\n\u001b[1;32m    197\u001b[0m \u001b[39m# The reason we repeat same the comment below is that\u001b[39;00m\n\u001b[1;32m    198\u001b[0m \u001b[39m# some Python versions print out the first line of a multi-line function\u001b[39;00m\n\u001b[1;32m    199\u001b[0m \u001b[39m# calls in the traceback and some print out the last line\u001b[39;00m\n\u001b[0;32m--> 200\u001b[0m Variable\u001b[39m.\u001b[39;49m_execution_engine\u001b[39m.\u001b[39;49mrun_backward(  \u001b[39m# Calls into the C++ engine to run the backward pass\u001b[39;49;00m\n\u001b[1;32m    201\u001b[0m     tensors, grad_tensors_, retain_graph, create_graph, inputs,\n\u001b[1;32m    202\u001b[0m     allow_unreachable\u001b[39m=\u001b[39;49m\u001b[39mTrue\u001b[39;49;00m, accumulate_grad\u001b[39m=\u001b[39;49m\u001b[39mTrue\u001b[39;49;00m)\n",
      "\u001b[0;31mKeyboardInterrupt\u001b[0m: "
     ]
    }
   ],
   "source": [
    "importlib.reload(experiment)\n",
    "experiments = []\n",
    "\n",
    "for config in configurations:\n",
    "    e = experiment.Experiment(data_param=data_params, model_param=config)\n",
    "    e.run()\n",
    "\n",
    "    experiment_data = {**config,'score': e.metric}\n",
    "    experiments.append(experiment_data)"
   ]
  },
  {
   "cell_type": "code",
   "execution_count": null,
   "metadata": {},
   "outputs": [],
   "source": []
  }
 ],
 "metadata": {
  "kernelspec": {
   "display_name": "thesis",
   "language": "python",
   "name": "python3"
  },
  "language_info": {
   "codemirror_mode": {
    "name": "ipython",
    "version": 3
   },
   "file_extension": ".py",
   "mimetype": "text/x-python",
   "name": "python",
   "nbconvert_exporter": "python",
   "pygments_lexer": "ipython3",
   "version": "3.9.16"
  }
 },
 "nbformat": 4,
 "nbformat_minor": 2
}
