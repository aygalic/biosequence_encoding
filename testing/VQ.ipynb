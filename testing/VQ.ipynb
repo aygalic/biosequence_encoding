{
 "cells": [
  {
   "cell_type": "markdown",
   "metadata": {},
   "source": [
    "# Testing my implementation of VQ-VAE "
   ]
  },
  {
   "cell_type": "code",
   "execution_count": null,
   "metadata": {},
   "outputs": [],
   "source": [
    "import sys\n",
    "import importlib\n",
    "\n",
    "# data manipulation\n",
    "import pandas as pd\n",
    "\n",
    "# pytorch specific\n",
    "import torch\n",
    "\n",
    "# project specific\n",
    "sys.path.append('../')\n",
    "from src import config\n",
    "from src.utils import experiment, helpers\n",
    "\n",
    "\n",
    "pd.options.display.width = 1000\n",
    "DEVICE = torch.device(config[\"DEVICE\"])\n",
    "\n",
    "import random\n"
   ]
  },
  {
   "cell_type": "markdown",
   "metadata": {},
   "source": [
    "## We first set the grid of parametter we want to explore"
   ]
  },
  {
   "cell_type": "code",
   "execution_count": null,
   "metadata": {},
   "outputs": [],
   "source": [
    "# or we  use a pre loaded dataset to save time\n",
    "data_params = '../workfiles/light_BRCA_ds.pkl'\n",
    "\n",
    "model_params = {\n",
    "    \"dropout\" : 0.2,\n",
    "    \"latent_dim\" : 64,\n",
    "    \"variational\" : \"VQ-VAE\",\n",
    "    \"convolution\": False,\n",
    "    \"transformer\" : False\n",
    "    }\n",
    "\n"
   ]
  },
  {
   "cell_type": "code",
   "execution_count": null,
   "metadata": {},
   "outputs": [],
   "source": [
    "# This one is absurdly clumsy but that's the only way i could do it.\n",
    "\n",
    "variational_param_ = {\n",
    "    \"variational\": [ # constraint : embedding_dim <= num_embeddings\n",
    "        ((\"embedding_dim\", 16), (\"num_embeddings\", 64)),\n",
    "        ((\"embedding_dim\", 16), (\"num_embeddings\", 128)),\n",
    "        ((\"embedding_dim\", 16), (\"num_embeddings\", 256)),\n",
    "        ((\"embedding_dim\", 16), (\"num_embeddings\", 512)),\n",
    "        ((\"embedding_dim\", 32), (\"num_embeddings\", 64)),\n",
    "        ((\"embedding_dim\", 32), (\"num_embeddings\", 128)),\n",
    "        ((\"embedding_dim\", 32), (\"num_embeddings\", 256)),\n",
    "        ((\"embedding_dim\", 32), (\"num_embeddings\", 512)),\n",
    "        ((\"embedding_dim\", 64), (\"num_embeddings\", 64)),\n",
    "        ((\"embedding_dim\", 64), (\"num_embeddings\", 128)),\n",
    "        ((\"embedding_dim\", 64), (\"num_embeddings\", 256)),\n",
    "        ((\"embedding_dim\", 64), (\"num_embeddings\", 512)),\n",
    "        ((\"embedding_dim\", 128), (\"num_embeddings\", 128)),\n",
    "        ((\"embedding_dim\", 128), (\"num_embeddings\", 256)),\n",
    "        ((\"embedding_dim\", 128), (\"num_embeddings\", 512))]}\n"
   ]
  },
  {
   "cell_type": "code",
   "execution_count": null,
   "metadata": {},
   "outputs": [],
   "source": [
    "importlib.reload(helpers)\n",
    "\n",
    "\n",
    "dynamic_params = {\n",
    "    \"latent_dim\": [16, 32, 64, 128],\n",
    "    \"variational\": [],\n",
    "}\n",
    "\n",
    "for commitment_cost in [0.2, 0.4, 0.6, 0.8, 1]:\n",
    "    for (param1, param2) in variational_param_['variational']:\n",
    "        dynamic_params[\"variational\"].append(((\"variational\", \"VQ-VAE\"),(\"commitment_cost\", commitment_cost),param1, param2))\n",
    "\n",
    "\n",
    "dynamic_params['variational'] = dynamic_params['variational'] + [None]*len(dynamic_params['variational']) + [\"VAE\"]*len(dynamic_params['variational'])\n",
    "\n",
    "configurations = helpers.generate_config(model_params, dynamic_params)\n",
    "print(\"number of config to be evaluated:\",len(configurations))"
   ]
  },
  {
   "cell_type": "code",
   "execution_count": null,
   "metadata": {},
   "outputs": [],
   "source": [
    "random.choice(configurations)"
   ]
  },
  {
   "cell_type": "code",
   "execution_count": null,
   "metadata": {},
   "outputs": [],
   "source": [
    "importlib.reload(experiment)\n",
    "experiments = []\n",
    "\n",
    "for config in configurations:\n",
    "    e = experiment.Experiment(data_param=data_params, model_param=config)\n",
    "    e.run()\n",
    "\n",
    "    experiment_data = {**config,'score': e.metric}\n",
    "    experiments.append(experiment_data)"
   ]
  },
  {
   "cell_type": "code",
   "execution_count": null,
   "metadata": {},
   "outputs": [],
   "source": []
  }
 ],
 "metadata": {
  "kernelspec": {
   "display_name": "thesis",
   "language": "python",
   "name": "python3"
  },
  "language_info": {
   "codemirror_mode": {
    "name": "ipython",
    "version": 3
   },
   "file_extension": ".py",
   "mimetype": "text/x-python",
   "name": "python",
   "nbconvert_exporter": "python",
   "pygments_lexer": "ipython3",
   "version": "3.9.16"
  }
 },
 "nbformat": 4,
 "nbformat_minor": 2
}
