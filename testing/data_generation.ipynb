{
 "cells": [
  {
   "cell_type": "code",
   "execution_count": null,
   "metadata": {},
   "outputs": [],
   "source": [
    "import sys\n",
    "import pickle\n",
    "import importlib\n",
    "\n",
    "sys.path.append('..')\n",
    "#from utils import data_handler\n",
    "from src.utils import data_handler"
   ]
  },
  {
   "cell_type": "code",
   "execution_count": null,
   "metadata": {},
   "outputs": [],
   "source": [
    "importlib.reload(data_handler)\n",
    "data, metadata = data_handler.generate_dataset(\n",
    "    dataset_type=\"genomic\",\n",
    "    time_points=[\"BL\", \"V02\"],\n",
    "    LS_threshold= 0.0078,\n",
    "    MAD_threshold = 2,\n",
    "    expression_threshold= 0.1, \n",
    "    keep_only_symbols = True,\n",
    "    drop_ambiguous_pos = True,\n",
    "    sort_symbols = True,\n",
    "    verbose = 1,\n",
    "    select_subtypes=['Prodromal', 'Idiopathic PD']\n",
    "    )"
   ]
  },
  {
   "cell_type": "code",
   "execution_count": null,
   "metadata": {},
   "outputs": [],
   "source": [
    "importlib.reload(data_handler)\n",
    "data, metadata = data_handler.generate_dataset(\n",
    "    dataset_type=\"transcriptomic\",\n",
    "    time_points=[\"BL\", \"V02\"],\n",
    "    LS_threshold= 0.0078,\n",
    "    MAD_threshold = 2,\n",
    "    expression_threshold= 0.1, \n",
    "    keep_only_symbols = True,\n",
    "    drop_ambiguous_pos = True,\n",
    "    sort_symbols = True,\n",
    "    verbose = 1,\n",
    "    select_subtypes=['Prodromal', 'Idiopathic PD']\n",
    "    )"
   ]
  },
  {
   "cell_type": "code",
   "execution_count": null,
   "metadata": {},
   "outputs": [],
   "source": [
    "importlib.reload(data_handler)\n",
    "data, metadata = data_handler.generate_dataset(\n",
    "    subsample=100,\n",
    "    dataset_type=\"BRCA\",\n",
    "    time_points=[\"BL\", \"V02\"],\n",
    "    LS_threshold= 0.0078,\n",
    "    MAD_threshold = 2,\n",
    "    expression_threshold= 0.1, \n",
    "    keep_only_symbols = True,\n",
    "    drop_ambiguous_pos = True,\n",
    "    sort_symbols = True,\n",
    "    verbose = 2,\n",
    "    select_subtypes=['Prodromal', 'Idiopathic PD']\n",
    "    )"
   ]
  },
  {
   "cell_type": "code",
   "execution_count": null,
   "metadata": {},
   "outputs": [],
   "source": []
  }
 ],
 "metadata": {
  "kernelspec": {
   "display_name": "thesis",
   "language": "python",
   "name": "python3"
  },
  "language_info": {
   "codemirror_mode": {
    "name": "ipython",
    "version": 3
   },
   "file_extension": ".py",
   "mimetype": "text/x-python",
   "name": "python",
   "nbconvert_exporter": "python",
   "pygments_lexer": "ipython3",
   "version": "3.9.16"
  }
 },
 "nbformat": 4,
 "nbformat_minor": 2
}
