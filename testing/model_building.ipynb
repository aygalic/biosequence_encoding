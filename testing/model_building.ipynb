{
 "cells": [
  {
   "cell_type": "code",
   "execution_count": 1,
   "metadata": {},
   "outputs": [],
   "source": [
    "import sys\n",
    "import importlib\n",
    "import pickle\n",
    "\n",
    "# data manipulation\n",
    "import pandas as pd\n",
    "import numpy as np\n",
    "import matplotlib.pyplot as plt\n",
    "import seaborn as sns\n",
    "\n",
    "# data analysis\n",
    "from sklearn.model_selection import train_test_split\n",
    "from sklearn.decomposition import PCA\n",
    "\n",
    "# pytorch specific\n",
    "import torch\n",
    "import torch.optim as optim\n",
    "import torch.nn.functional as F\n",
    "from tqdm import tqdm\n",
    "\n",
    "# project specific\n",
    "sys.path.append('../')\n",
    "from src import config\n",
    "from src.utils import visualisation, benchmark, helpers, monitoring, experiment\n",
    "from src.models import model\n",
    "\n",
    "\n",
    "from matplotlib.animation import FuncAnimation\n",
    "from IPython.display import HTML\n",
    "\n",
    "pd.options.display.width = 1000\n",
    "DEVICE = torch.device(config[\"DEVICE\"])"
   ]
  },
  {
   "cell_type": "code",
   "execution_count": 23,
   "metadata": {},
   "outputs": [
    {
     "name": "stderr",
     "output_type": "stream",
     "text": [
      "/opt/homebrew/anaconda3/envs/thesis/lib/python3.9/site-packages/torch/nn/modules/lazy.py:180: UserWarning: Lazy modules are a new feature under heavy development so changes to the API or functionality can happen at any moment.\n",
      "  warnings.warn('Lazy modules are a new feature under heavy development '\n"
     ]
    },
    {
     "name": "stdout",
     "output_type": "stream",
     "text": [
      "input shape : 3242\n",
      "(1231, 3242)\n",
      "(1231, 1, 3242)\n",
      "train data: 1231\n",
      "Autoencoder(\n",
      "  (encoder): Sequential(\n",
      "    (0): Conv1d(1, 32, kernel_size=(7,), stride=(2,), padding=(3,))\n",
      "    (1): LeakyReLU(negative_slope=0.05)\n",
      "    (2): Dropout(p=0.5, inplace=False)\n",
      "    (3): MaxPool1d(kernel_size=2, stride=2, padding=0, dilation=1, ceil_mode=False)\n",
      "    (4): Conv1d(32, 64, kernel_size=(7,), stride=(2,), padding=(3,))\n",
      "    (5): LeakyReLU(negative_slope=0.05)\n",
      "    (6): Dropout(p=0.5, inplace=False)\n",
      "    (7): MaxPool1d(kernel_size=2, stride=2, padding=0, dilation=1, ceil_mode=False)\n",
      "    (8): Flatten(start_dim=1, end_dim=-1)\n",
      "    (9): LazyLinear(in_features=0, out_features=16, bias=True)\n",
      "    (10): LeakyReLU(negative_slope=0.05)\n",
      "  )\n",
      "  (decoder): Sequential(\n",
      "    (0): Linear(in_features=16, out_features=12928, bias=True)\n",
      "    (1): Unflatten(dim=1, unflattened_size=(64, 202))\n",
      "    (2): Upsample(scale_factor=2.0, mode='nearest')\n",
      "    (3): ConvTranspose1d(64, 64, kernel_size=(7,), stride=(2,), padding=(3,))\n",
      "    (4): LeakyReLU(negative_slope=0.05)\n",
      "    (5): Dropout(p=0.5, inplace=False)\n",
      "    (6): Upsample(scale_factor=2.0, mode='nearest')\n",
      "    (7): ConvTranspose1d(64, 32, kernel_size=(7,), stride=(2,), padding=(3,))\n",
      "    (8): LeakyReLU(negative_slope=0.05)\n",
      "    (9): Dropout(p=0.5, inplace=False)\n",
      "    (10): Upsample(scale_factor=2.0, mode='nearest')\n",
      "    (11): ConvTranspose1d(32, 1, kernel_size=(7,), stride=(2,), padding=(3,))\n",
      "    (12): LazyLinear(in_features=0, out_features=3242, bias=True)\n",
      "    (13): Sigmoid()\n",
      "  )\n",
      ")\n",
      "Running the following configuration:\n",
      "../workfiles/light_BRCA_ds.pkl\n",
      "{'dropout': 0.5, 'latent_dim': 16, 'convolution': True, 'transformer': False, 'num_layers': 2}\n"
     ]
    },
    {
     "name": "stderr",
     "output_type": "stream",
     "text": [
      " 33%|███▎      | 4/12 [00:23<00:47,  5.91s/it]\n"
     ]
    },
    {
     "ename": "KeyboardInterrupt",
     "evalue": "",
     "output_type": "error",
     "traceback": [
      "\u001b[0;31m---------------------------------------------------------------------------\u001b[0m",
      "\u001b[0;31mKeyboardInterrupt\u001b[0m                         Traceback (most recent call last)",
      "\u001b[1;32m/Users/aygalic/Thesis/genome_analysis_parkinson/testing/model_building.ipynb Cell 2\u001b[0m line \u001b[0;36m<cell line: 15>\u001b[0;34m()\u001b[0m\n\u001b[1;32m     <a href='vscode-notebook-cell:/Users/aygalic/Thesis/genome_analysis_parkinson/testing/model_building.ipynb#W1sZmlsZQ%3D%3D?line=12'>13</a>\u001b[0m e \u001b[39m=\u001b[39m experiment\u001b[39m.\u001b[39mExperiment(data_param\u001b[39m=\u001b[39mdata_param, model_param\u001b[39m=\u001b[39mconfig, )\n\u001b[1;32m     <a href='vscode-notebook-cell:/Users/aygalic/Thesis/genome_analysis_parkinson/testing/model_building.ipynb#W1sZmlsZQ%3D%3D?line=13'>14</a>\u001b[0m \u001b[39mprint\u001b[39m(e\u001b[39m.\u001b[39mmodel)\n\u001b[0;32m---> <a href='vscode-notebook-cell:/Users/aygalic/Thesis/genome_analysis_parkinson/testing/model_building.ipynb#W1sZmlsZQ%3D%3D?line=14'>15</a>\u001b[0m e\u001b[39m.\u001b[39;49mrun()\n",
      "File \u001b[0;32m~/Thesis/genome_analysis_parkinson/testing/../src/utils/experiment.py:164\u001b[0m, in \u001b[0;36mExperiment.run\u001b[0;34m(self, log)\u001b[0m\n\u001b[1;32m    162\u001b[0m     loss \u001b[39m=\u001b[39m recon_error \u001b[39m+\u001b[39m vq_loss\n\u001b[1;32m    163\u001b[0m \u001b[39melse\u001b[39;00m:\n\u001b[0;32m--> 164\u001b[0m     outputs \u001b[39m=\u001b[39m \u001b[39mself\u001b[39;49m\u001b[39m.\u001b[39;49mmodel(inputs)\n\u001b[1;32m    165\u001b[0m     loss \u001b[39m=\u001b[39m F\u001b[39m.\u001b[39mmse_loss(outputs, inputs)\n\u001b[1;32m    167\u001b[0m loss\u001b[39m.\u001b[39mbackward()\n",
      "File \u001b[0;32m/opt/homebrew/anaconda3/envs/thesis/lib/python3.9/site-packages/torch/nn/modules/module.py:1501\u001b[0m, in \u001b[0;36mModule._call_impl\u001b[0;34m(self, *args, **kwargs)\u001b[0m\n\u001b[1;32m   1496\u001b[0m \u001b[39m# If we don't have any hooks, we want to skip the rest of the logic in\u001b[39;00m\n\u001b[1;32m   1497\u001b[0m \u001b[39m# this function, and just call forward.\u001b[39;00m\n\u001b[1;32m   1498\u001b[0m \u001b[39mif\u001b[39;00m \u001b[39mnot\u001b[39;00m (\u001b[39mself\u001b[39m\u001b[39m.\u001b[39m_backward_hooks \u001b[39mor\u001b[39;00m \u001b[39mself\u001b[39m\u001b[39m.\u001b[39m_backward_pre_hooks \u001b[39mor\u001b[39;00m \u001b[39mself\u001b[39m\u001b[39m.\u001b[39m_forward_hooks \u001b[39mor\u001b[39;00m \u001b[39mself\u001b[39m\u001b[39m.\u001b[39m_forward_pre_hooks\n\u001b[1;32m   1499\u001b[0m         \u001b[39mor\u001b[39;00m _global_backward_pre_hooks \u001b[39mor\u001b[39;00m _global_backward_hooks\n\u001b[1;32m   1500\u001b[0m         \u001b[39mor\u001b[39;00m _global_forward_hooks \u001b[39mor\u001b[39;00m _global_forward_pre_hooks):\n\u001b[0;32m-> 1501\u001b[0m     \u001b[39mreturn\u001b[39;00m forward_call(\u001b[39m*\u001b[39;49margs, \u001b[39m*\u001b[39;49m\u001b[39m*\u001b[39;49mkwargs)\n\u001b[1;32m   1502\u001b[0m \u001b[39m# Do not call functions when jit is used\u001b[39;00m\n\u001b[1;32m   1503\u001b[0m full_backward_hooks, non_full_backward_hooks \u001b[39m=\u001b[39m [], []\n",
      "File \u001b[0;32m~/Thesis/genome_analysis_parkinson/testing/../src/models/model.py:509\u001b[0m, in \u001b[0;36mAutoencoder.forward\u001b[0;34m(self, x)\u001b[0m\n\u001b[1;32m    507\u001b[0m \u001b[39melse\u001b[39;00m:\n\u001b[1;32m    508\u001b[0m     z \u001b[39m=\u001b[39m \u001b[39mself\u001b[39m\u001b[39m.\u001b[39mencode(x)\n\u001b[0;32m--> 509\u001b[0m     x_reconstructed \u001b[39m=\u001b[39m \u001b[39mself\u001b[39;49m\u001b[39m.\u001b[39;49mdecode(z)\n\u001b[1;32m    510\u001b[0m     \u001b[39mreturn\u001b[39;00m x_reconstructed\n",
      "File \u001b[0;32m~/Thesis/genome_analysis_parkinson/testing/../src/models/model.py:478\u001b[0m, in \u001b[0;36mAutoencoder.decode\u001b[0;34m(self, x)\u001b[0m\n\u001b[1;32m    475\u001b[0m     x \u001b[39m=\u001b[39m \u001b[39mself\u001b[39m\u001b[39m.\u001b[39mpre_vq_decoder(x)\n\u001b[1;32m    476\u001b[0m     x \u001b[39m=\u001b[39m \u001b[39mself\u001b[39m\u001b[39m.\u001b[39mdecoder_residual_stack(x)\n\u001b[0;32m--> 478\u001b[0m x \u001b[39m=\u001b[39m \u001b[39mself\u001b[39;49m\u001b[39m.\u001b[39;49mdecoder(x)\n\u001b[1;32m    479\u001b[0m \u001b[39mreturn\u001b[39;00m x\n",
      "File \u001b[0;32m/opt/homebrew/anaconda3/envs/thesis/lib/python3.9/site-packages/torch/nn/modules/module.py:1501\u001b[0m, in \u001b[0;36mModule._call_impl\u001b[0;34m(self, *args, **kwargs)\u001b[0m\n\u001b[1;32m   1496\u001b[0m \u001b[39m# If we don't have any hooks, we want to skip the rest of the logic in\u001b[39;00m\n\u001b[1;32m   1497\u001b[0m \u001b[39m# this function, and just call forward.\u001b[39;00m\n\u001b[1;32m   1498\u001b[0m \u001b[39mif\u001b[39;00m \u001b[39mnot\u001b[39;00m (\u001b[39mself\u001b[39m\u001b[39m.\u001b[39m_backward_hooks \u001b[39mor\u001b[39;00m \u001b[39mself\u001b[39m\u001b[39m.\u001b[39m_backward_pre_hooks \u001b[39mor\u001b[39;00m \u001b[39mself\u001b[39m\u001b[39m.\u001b[39m_forward_hooks \u001b[39mor\u001b[39;00m \u001b[39mself\u001b[39m\u001b[39m.\u001b[39m_forward_pre_hooks\n\u001b[1;32m   1499\u001b[0m         \u001b[39mor\u001b[39;00m _global_backward_pre_hooks \u001b[39mor\u001b[39;00m _global_backward_hooks\n\u001b[1;32m   1500\u001b[0m         \u001b[39mor\u001b[39;00m _global_forward_hooks \u001b[39mor\u001b[39;00m _global_forward_pre_hooks):\n\u001b[0;32m-> 1501\u001b[0m     \u001b[39mreturn\u001b[39;00m forward_call(\u001b[39m*\u001b[39;49margs, \u001b[39m*\u001b[39;49m\u001b[39m*\u001b[39;49mkwargs)\n\u001b[1;32m   1502\u001b[0m \u001b[39m# Do not call functions when jit is used\u001b[39;00m\n\u001b[1;32m   1503\u001b[0m full_backward_hooks, non_full_backward_hooks \u001b[39m=\u001b[39m [], []\n",
      "File \u001b[0;32m/opt/homebrew/anaconda3/envs/thesis/lib/python3.9/site-packages/torch/nn/modules/container.py:217\u001b[0m, in \u001b[0;36mSequential.forward\u001b[0;34m(self, input)\u001b[0m\n\u001b[1;32m    215\u001b[0m \u001b[39mdef\u001b[39;00m \u001b[39mforward\u001b[39m(\u001b[39mself\u001b[39m, \u001b[39minput\u001b[39m):\n\u001b[1;32m    216\u001b[0m     \u001b[39mfor\u001b[39;00m module \u001b[39min\u001b[39;00m \u001b[39mself\u001b[39m:\n\u001b[0;32m--> 217\u001b[0m         \u001b[39minput\u001b[39m \u001b[39m=\u001b[39m module(\u001b[39minput\u001b[39;49m)\n\u001b[1;32m    218\u001b[0m     \u001b[39mreturn\u001b[39;00m \u001b[39minput\u001b[39m\n",
      "File \u001b[0;32m/opt/homebrew/anaconda3/envs/thesis/lib/python3.9/site-packages/torch/nn/modules/module.py:1501\u001b[0m, in \u001b[0;36mModule._call_impl\u001b[0;34m(self, *args, **kwargs)\u001b[0m\n\u001b[1;32m   1496\u001b[0m \u001b[39m# If we don't have any hooks, we want to skip the rest of the logic in\u001b[39;00m\n\u001b[1;32m   1497\u001b[0m \u001b[39m# this function, and just call forward.\u001b[39;00m\n\u001b[1;32m   1498\u001b[0m \u001b[39mif\u001b[39;00m \u001b[39mnot\u001b[39;00m (\u001b[39mself\u001b[39m\u001b[39m.\u001b[39m_backward_hooks \u001b[39mor\u001b[39;00m \u001b[39mself\u001b[39m\u001b[39m.\u001b[39m_backward_pre_hooks \u001b[39mor\u001b[39;00m \u001b[39mself\u001b[39m\u001b[39m.\u001b[39m_forward_hooks \u001b[39mor\u001b[39;00m \u001b[39mself\u001b[39m\u001b[39m.\u001b[39m_forward_pre_hooks\n\u001b[1;32m   1499\u001b[0m         \u001b[39mor\u001b[39;00m _global_backward_pre_hooks \u001b[39mor\u001b[39;00m _global_backward_hooks\n\u001b[1;32m   1500\u001b[0m         \u001b[39mor\u001b[39;00m _global_forward_hooks \u001b[39mor\u001b[39;00m _global_forward_pre_hooks):\n\u001b[0;32m-> 1501\u001b[0m     \u001b[39mreturn\u001b[39;00m forward_call(\u001b[39m*\u001b[39;49margs, \u001b[39m*\u001b[39;49m\u001b[39m*\u001b[39;49mkwargs)\n\u001b[1;32m   1502\u001b[0m \u001b[39m# Do not call functions when jit is used\u001b[39;00m\n\u001b[1;32m   1503\u001b[0m full_backward_hooks, non_full_backward_hooks \u001b[39m=\u001b[39m [], []\n",
      "File \u001b[0;32m/opt/homebrew/anaconda3/envs/thesis/lib/python3.9/site-packages/torch/nn/modules/upsampling.py:156\u001b[0m, in \u001b[0;36mUpsample.forward\u001b[0;34m(self, input)\u001b[0m\n\u001b[1;32m    155\u001b[0m \u001b[39mdef\u001b[39;00m \u001b[39mforward\u001b[39m(\u001b[39mself\u001b[39m, \u001b[39minput\u001b[39m: Tensor) \u001b[39m-\u001b[39m\u001b[39m>\u001b[39m Tensor:\n\u001b[0;32m--> 156\u001b[0m     \u001b[39mreturn\u001b[39;00m F\u001b[39m.\u001b[39;49minterpolate(\u001b[39minput\u001b[39;49m, \u001b[39mself\u001b[39;49m\u001b[39m.\u001b[39;49msize, \u001b[39mself\u001b[39;49m\u001b[39m.\u001b[39;49mscale_factor, \u001b[39mself\u001b[39;49m\u001b[39m.\u001b[39;49mmode, \u001b[39mself\u001b[39;49m\u001b[39m.\u001b[39;49malign_corners,\n\u001b[1;32m    157\u001b[0m                          recompute_scale_factor\u001b[39m=\u001b[39;49m\u001b[39mself\u001b[39;49m\u001b[39m.\u001b[39;49mrecompute_scale_factor)\n",
      "File \u001b[0;32m/opt/homebrew/anaconda3/envs/thesis/lib/python3.9/site-packages/torch/nn/functional.py:3929\u001b[0m, in \u001b[0;36minterpolate\u001b[0;34m(input, size, scale_factor, mode, align_corners, recompute_scale_factor, antialias)\u001b[0m\n\u001b[1;32m   3926\u001b[0m     \u001b[39mraise\u001b[39;00m \u001b[39mValueError\u001b[39;00m(\u001b[39m\"\u001b[39m\u001b[39mAnti-alias option is only supported for bilinear and bicubic modes\u001b[39m\u001b[39m\"\u001b[39m)\n\u001b[1;32m   3928\u001b[0m \u001b[39mif\u001b[39;00m \u001b[39minput\u001b[39m\u001b[39m.\u001b[39mdim() \u001b[39m==\u001b[39m \u001b[39m3\u001b[39m \u001b[39mand\u001b[39;00m mode \u001b[39m==\u001b[39m \u001b[39m\"\u001b[39m\u001b[39mnearest\u001b[39m\u001b[39m\"\u001b[39m:\n\u001b[0;32m-> 3929\u001b[0m     \u001b[39mreturn\u001b[39;00m torch\u001b[39m.\u001b[39;49m_C\u001b[39m.\u001b[39;49m_nn\u001b[39m.\u001b[39;49mupsample_nearest1d(\u001b[39minput\u001b[39;49m, output_size, scale_factors)\n\u001b[1;32m   3930\u001b[0m \u001b[39mif\u001b[39;00m \u001b[39minput\u001b[39m\u001b[39m.\u001b[39mdim() \u001b[39m==\u001b[39m \u001b[39m4\u001b[39m \u001b[39mand\u001b[39;00m mode \u001b[39m==\u001b[39m \u001b[39m\"\u001b[39m\u001b[39mnearest\u001b[39m\u001b[39m\"\u001b[39m:\n\u001b[1;32m   3931\u001b[0m     \u001b[39mreturn\u001b[39;00m torch\u001b[39m.\u001b[39m_C\u001b[39m.\u001b[39m_nn\u001b[39m.\u001b[39mupsample_nearest2d(\u001b[39minput\u001b[39m, output_size, scale_factors)\n",
      "\u001b[0;31mKeyboardInterrupt\u001b[0m: "
     ]
    }
   ],
   "source": [
    "importlib.reload(model)\n",
    "#with open('../workfiles/BRCA_ds.pkl', 'rb') as f:\n",
    "data_param = '../workfiles/light_BRCA_ds.pkl'\n",
    "config = {\n",
    "    \"dropout\" : 0.5,\n",
    "    \"latent_dim\" : 16,\n",
    "    \"convolution\" : True,\n",
    "    \"transformer\" : False,\n",
    "    \"num_layers\" :  2,\n",
    "    \"n_epoch\" : 12\n",
    "}\n",
    "\n",
    "e = experiment.Experiment(data_param=data_param, model_param=config, )\n",
    "print(e.model)\n",
    "e.run()\n"
   ]
  },
  {
   "cell_type": "code",
   "execution_count": 20,
   "metadata": {},
   "outputs": [],
   "source": [
    "# let's get a sample a run it layer by layer\n",
    "x = iter(e.dataloader).__next__()"
   ]
  },
  {
   "cell_type": "code",
   "execution_count": 21,
   "metadata": {},
   "outputs": [
    {
     "data": {
      "text/plain": [
       "tensor([[[0.4993, 0.5164, 0.4786,  ..., 0.5219, 0.5181, 0.4883]],\n",
       "\n",
       "        [[0.4931, 0.5052, 0.4760,  ..., 0.5269, 0.5270, 0.4883]],\n",
       "\n",
       "        [[0.4890, 0.4993, 0.4832,  ..., 0.5509, 0.5219, 0.4888]],\n",
       "\n",
       "        ...,\n",
       "\n",
       "        [[0.5203, 0.5016, 0.4753,  ..., 0.5363, 0.5191, 0.5015]],\n",
       "\n",
       "        [[0.5056, 0.4759, 0.4818,  ..., 0.5378, 0.5149, 0.4852]],\n",
       "\n",
       "        [[0.5227, 0.4886, 0.4835,  ..., 0.5479, 0.5263, 0.4839]]],\n",
       "       grad_fn=<SigmoidBackward0>)"
      ]
     },
     "execution_count": 21,
     "metadata": {},
     "output_type": "execute_result"
    }
   ],
   "source": [
    "e.model(x)"
   ]
  },
  {
   "cell_type": "code",
   "execution_count": 16,
   "metadata": {},
   "outputs": [
    {
     "name": "stdout",
     "output_type": "stream",
     "text": [
      "Conv1d(1, 32, kernel_size=(7,), stride=(2,), padding=(3,))\n",
      "LeakyReLU(negative_slope=0.05)\n",
      "Dropout(p=0.5, inplace=False)\n",
      "MaxPool1d(kernel_size=2, stride=2, padding=0, dilation=1, ceil_mode=False)\n",
      "Conv1d(32, 64, kernel_size=(7,), stride=(2,), padding=(3,))\n",
      "LeakyReLU(negative_slope=0.05)\n",
      "Dropout(p=0.5, inplace=False)\n",
      "MaxPool1d(kernel_size=2, stride=2, padding=0, dilation=1, ceil_mode=False)\n",
      "Conv1d(64, 128, kernel_size=(7,), stride=(2,), padding=(3,))\n",
      "LeakyReLU(negative_slope=0.05)\n",
      "Dropout(p=0.5, inplace=False)\n",
      "MaxPool1d(kernel_size=2, stride=2, padding=0, dilation=1, ceil_mode=False)\n",
      "Conv1d(128, 256, kernel_size=(7,), stride=(2,), padding=(3,))\n",
      "LeakyReLU(negative_slope=0.05)\n",
      "Dropout(p=0.5, inplace=False)\n",
      "MaxPool1d(kernel_size=2, stride=2, padding=0, dilation=1, ceil_mode=False)\n",
      "Conv1d(256, 512, kernel_size=(7,), stride=(2,), padding=(3,))\n",
      "LeakyReLU(negative_slope=0.05)\n",
      "Dropout(p=0.5, inplace=False)\n",
      "MaxPool1d(kernel_size=2, stride=2, padding=0, dilation=1, ceil_mode=False)\n",
      "Flatten(start_dim=1, end_dim=-1)\n",
      "LazyLinear(in_features=0, out_features=16, bias=True)\n",
      "LeakyReLU(negative_slope=0.05)\n",
      "torch.Size([32, 16])\n"
     ]
    }
   ],
   "source": [
    "x_ = x\n",
    "for layer in e.model.encoder:\n",
    "    print(layer)\n",
    "    x_ = layer(x_)\n",
    "print(x_.shape)"
   ]
  },
  {
   "cell_type": "code",
   "execution_count": 17,
   "metadata": {},
   "outputs": [
    {
     "name": "stdout",
     "output_type": "stream",
     "text": [
      "Linear(in_features=16, out_features=384, bias=True)\n",
      "torch.Size([32, 384])\n",
      "Unflatten(dim=1, unflattened_size=(128, 3))\n",
      "torch.Size([32, 128, 3])\n",
      "Upsample(scale_factor=2.0, mode='nearest')\n",
      "torch.Size([32, 128, 6])\n",
      "ConvTranspose1d(128, 512, kernel_size=(7,), stride=(2,), padding=(3,))\n",
      "torch.Size([32, 512, 11])\n",
      "LeakyReLU(negative_slope=0.05)\n",
      "torch.Size([32, 512, 11])\n",
      "Dropout(p=0.5, inplace=False)\n",
      "torch.Size([32, 512, 11])\n",
      "Upsample(scale_factor=2.0, mode='nearest')\n",
      "torch.Size([32, 512, 22])\n",
      "ConvTranspose1d(512, 256, kernel_size=(7,), stride=(2,), padding=(3,))\n",
      "torch.Size([32, 256, 43])\n",
      "LeakyReLU(negative_slope=0.05)\n",
      "torch.Size([32, 256, 43])\n",
      "Dropout(p=0.5, inplace=False)\n",
      "torch.Size([32, 256, 43])\n",
      "Upsample(scale_factor=2.0, mode='nearest')\n",
      "torch.Size([32, 256, 86])\n",
      "ConvTranspose1d(256, 128, kernel_size=(7,), stride=(2,), padding=(3,))\n",
      "torch.Size([32, 128, 171])\n",
      "LeakyReLU(negative_slope=0.05)\n",
      "torch.Size([32, 128, 171])\n",
      "Dropout(p=0.5, inplace=False)\n",
      "torch.Size([32, 128, 171])\n",
      "Upsample(scale_factor=2.0, mode='nearest')\n",
      "torch.Size([32, 128, 342])\n",
      "ConvTranspose1d(128, 64, kernel_size=(7,), stride=(2,), padding=(3,))\n",
      "torch.Size([32, 64, 683])\n",
      "LeakyReLU(negative_slope=0.05)\n",
      "torch.Size([32, 64, 683])\n",
      "Dropout(p=0.5, inplace=False)\n",
      "torch.Size([32, 64, 683])\n",
      "Upsample(scale_factor=2.0, mode='nearest')\n",
      "torch.Size([32, 64, 1366])\n",
      "ConvTranspose1d(64, 32, kernel_size=(7,), stride=(2,), padding=(3,))\n",
      "torch.Size([32, 32, 2731])\n",
      "LeakyReLU(negative_slope=0.05)\n",
      "torch.Size([32, 32, 2731])\n",
      "Dropout(p=0.5, inplace=False)\n",
      "torch.Size([32, 32, 2731])\n",
      "Upsample(scale_factor=2.0, mode='nearest')\n",
      "torch.Size([32, 32, 5462])\n",
      "ConvTranspose1d(32, 1, kernel_size=(7,), stride=(2,), padding=(3,))\n",
      "torch.Size([32, 1, 10923])\n",
      "LazyLinear(in_features=0, out_features=3242, bias=True)\n",
      "torch.Size([32, 1, 3242])\n",
      "Sigmoid()\n",
      "torch.Size([32, 1, 3242])\n"
     ]
    }
   ],
   "source": [
    "for layer in e.model.decoder:\n",
    "    print(layer)\n",
    "    x_ = layer(x_)\n",
    "    print(x_.shape)"
   ]
  },
  {
   "cell_type": "code",
   "execution_count": 18,
   "metadata": {},
   "outputs": [
    {
     "data": {
      "text/plain": [
       "4096"
      ]
     },
     "execution_count": 18,
     "metadata": {},
     "output_type": "execute_result"
    }
   ],
   "source": [
    "i = 7\n",
    "32 * (2 ** i)"
   ]
  },
  {
   "cell_type": "code",
   "execution_count": null,
   "metadata": {},
   "outputs": [],
   "source": [
    "e.run()\n"
   ]
  }
 ],
 "metadata": {
  "kernelspec": {
   "display_name": "thesis",
   "language": "python",
   "name": "python3"
  },
  "language_info": {
   "codemirror_mode": {
    "name": "ipython",
    "version": 3
   },
   "file_extension": ".py",
   "mimetype": "text/x-python",
   "name": "python",
   "nbconvert_exporter": "python",
   "pygments_lexer": "ipython3",
   "version": "3.9.16"
  }
 },
 "nbformat": 4,
 "nbformat_minor": 2
}
